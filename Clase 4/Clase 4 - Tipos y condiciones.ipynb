{
 "cells": [
  {
   "cell_type": "markdown",
   "id": "aa65a163",
   "metadata": {},
   "source": [
    "# TIPOS Y CONDICIONES"
   ]
  },
  {
   "cell_type": "markdown",
   "id": "3e71b7cc",
   "metadata": {},
   "source": [
    "## Contenido de la clase"
   ]
  },
  {
   "cell_type": "markdown",
   "id": "8c1c5cdc",
   "metadata": {},
   "source": [
    "- Revisión ejercicios en PSEINT clase 2\n",
    "- Explicación clase 3\n",
    "- Aprendiendo sobre tipos\n",
    "- Explicación taller 1 (entrega 19 de agosto)"
   ]
  },
  {
   "cell_type": "markdown",
   "id": "28084370",
   "metadata": {},
   "source": [
    "### Continuación de la clase 2 (Repaso y actividad)\n",
    "\n",
    "Link: https://github.com/ejisselgb/Introduccion-a-la-programacion/tree/master/clase%202"
   ]
  },
  {
   "cell_type": "markdown",
   "id": "53df4b71",
   "metadata": {},
   "source": [
    "### Explicación y continuación clase 3\n",
    "Link: https://github.com/ejisselgb/Introduccion-a-la-programacion/tree/master/Clase%203"
   ]
  },
  {
   "cell_type": "markdown",
   "id": "7c7eec75",
   "metadata": {},
   "source": [
    "### Aprendiendo sobre tipos y variables\n"
   ]
  },
  {
   "cell_type": "markdown",
   "id": "8f9ac1ac",
   "metadata": {},
   "source": [
    "### ¿Qué es una variable?"
   ]
  },
  {
   "cell_type": "markdown",
   "id": "59563bf9",
   "metadata": {},
   "source": [
    "Una variable representa un espacio en memoria de computador, la cual almacena un valor el cual puede cambiar o mantener su mismo estado a lo largo de la ejecución de un programa.  \n",
    "Las variables deben declararse de en minuscula y el nombre debe ser claro y estar asociado al tipo de dato que almacerá. Ejemplo:  \n",
    "\n",
    "- Correcto  \n",
    "planeta = \"saturno\"  \n",
    "color = \"verde\"   \n",
    "\n",
    "\n",
    "- Incorrecto  \n",
    "planeta = \"verde\"  \n",
    "color = \"saturno\""
   ]
  },
  {
   "cell_type": "markdown",
   "id": "9626b4a9",
   "metadata": {},
   "source": [
    "### Tipos de variables"
   ]
  },
  {
   "cell_type": "markdown",
   "id": "11344294",
   "metadata": {},
   "source": [
    "Existen diversos tipos de variables, estos aplican para todos los lenguajes de programación, muchos de estos deben ser declarados, aunque en algunos lenguajes de programación el tipo es implícito. La variable toma su tipo de acuerdo al dato que le es almacenado."
   ]
  },
  {
   "cell_type": "markdown",
   "id": "af853eec",
   "metadata": {},
   "source": [
    "Los tipos de variables se describen a continuación:\n",
    "\n",
    "\n",
    "- String: Este tipo permite almacenar adenas de texto entre comillas en una variable, por ejemplo \"biología\"\n",
    "- Integer: Permite almacenar números enteros en una variable, por ejemplo 1, 2, 3, 4, 2021\n",
    "- Boolean: Permite almacenar True o False\n",
    "- Float: Permite guardar npumero decimales, por ejemplo 1.2, 4.56, 20.21"
   ]
  },
  {
   "cell_type": "markdown",
   "id": "08ea89e6",
   "metadata": {},
   "source": [
    "### Ejemplos de declaración de variables en python"
   ]
  },
  {
   "cell_type": "code",
   "execution_count": 17,
   "id": "d42fab5a",
   "metadata": {},
   "outputs": [
    {
     "name": "stdout",
     "output_type": "stream",
     "text": [
      "El nombre del curso es: *** Biología *** el estudiante que asiste al curso se llama: *** Pepito Peréz *** su calificación fue de: *** 4.5 *** y el estudiante aprobo el curso *** True ***\n"
     ]
    }
   ],
   "source": [
    "nombre_curso = \"Biología\"\n",
    "nombre_estudiante = \"Pepito Peréz\"\n",
    "calificacion = 4.5\n",
    "aprobo = True\n",
    "\n",
    "\n",
    "print(\"El nombre del curso es: ***\", nombre_curso, \n",
    "      \"*** el estudiante que asiste al curso se llama: ***\", nombre_estudiante, \n",
    "      \"*** su calificación fue de: ***\", calificacion, \"*** y el estudiante aprobo el curso ***\", aprobo, \"***\")\n"
   ]
  },
  {
   "cell_type": "code",
   "execution_count": 23,
   "id": "39348ecf",
   "metadata": {},
   "outputs": [
    {
     "name": "stdout",
     "output_type": "stream",
     "text": [
      "Ingrese la nota del estudiante4.5\n",
      "La nota del estudiante es: 4.5\n"
     ]
    }
   ],
   "source": [
    "calificacion = input(\"Ingrese la nota del estudiante\")\n",
    "\n",
    "print(\"La nota del estudiante es: \"+ calificacion)\n"
   ]
  },
  {
   "cell_type": "markdown",
   "id": "31311744",
   "metadata": {},
   "source": [
    "### Practiquemos más sobre variables"
   ]
  },
  {
   "cell_type": "markdown",
   "id": "e8c75199",
   "metadata": {},
   "source": [
    "1. ¿De qué forma se debería escribir una variable de tipo string?\n",
    "2. ¿En python la declaración del tipo debe realizarse antes del nombre de la variable?\n",
    "3. ¿De qué manera usarías una varible de tipo boolean?\n",
    "4. ¿Cuál es la manera correcta de concatenar una variable de tipo string con una variable de tipo entero?"
   ]
  },
  {
   "cell_type": "markdown",
   "id": "93c43693",
   "metadata": {},
   "source": [
    "### Ejercicios prácticos con variables"
   ]
  },
  {
   "cell_type": "markdown",
   "id": "a1031873",
   "metadata": {},
   "source": [
    "1. Cree un programa que pida por consola dos números y le permita realizar, la suma, la resta, la división y la multiplicación. Mostrar los resultados de manera independiente. \n",
    "2. Cree un programa que pida por consola las notas por semestre de un estudiante. Estas deberán sumarse y luego dividirse para obtener la nota final, la cual se deberá mostrar por consola. Son 5 notas en total.\n",
    "3. Cree un programa que permita ingresar el valor de tres productos del supermercado, recuerde calcular el iva por cada uno y mostrar el total a pagar.\n"
   ]
  }
 ],
 "metadata": {
  "kernelspec": {
   "display_name": "Python 3 (ipykernel)",
   "language": "python",
   "name": "python3"
  },
  "language_info": {
   "codemirror_mode": {
    "name": "ipython",
    "version": 3
   },
   "file_extension": ".py",
   "mimetype": "text/x-python",
   "name": "python",
   "nbconvert_exporter": "python",
   "pygments_lexer": "ipython3",
   "version": "3.9.6"
  }
 },
 "nbformat": 4,
 "nbformat_minor": 5
}
