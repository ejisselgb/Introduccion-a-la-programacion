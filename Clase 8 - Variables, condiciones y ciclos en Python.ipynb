{
 "cells": [
  {
   "cell_type": "markdown",
   "id": "6058cc88",
   "metadata": {},
   "source": [
    "# Clase 8 - Variables, condiciones y ciclos en Python"
   ]
  },
  {
   "cell_type": "markdown",
   "id": "3e034da0",
   "metadata": {},
   "source": [
    "### Corte 2 - Introducción a python\n",
    "* Mi primer programa en python ✅\n",
    "* Tipos y condiciones\n",
    "* ciclos y patrones\n",
    "* Operaciones y estructuras de datos\n",
    "* Funciones y modularidad\n",
    "* Programación orientada a objetos\n",
    "*Reúso de código"
   ]
  },
  {
   "cell_type": "markdown",
   "id": "cae37b25",
   "metadata": {},
   "source": [
    "### Recordando conceptos rápidamente de las clases del corte I\n",
    "\n",
    "\n",
    "- ¿Qué es un lenguaje de alto nivel?\n",
    "- ¿Qué es un lenguaje de bajo nivel?\n",
    "- ¿Qué es un lenguaje compilado?\n",
    "- ¿Qué es un lenguaje interpretado?\n",
    "- Cuáles son los componentes de un diagrama de flujo\n",
    "- Explica en tus palabras como utilizarías un ciclo while, un repetir y un para de PSEINT\n",
    "\n",
    "**¿Qué dudas tienes sobre los demás temas vistos de la clase?**"
   ]
  },
  {
   "cell_type": "markdown",
   "id": "17db5465",
   "metadata": {},
   "source": [
    "## Conozcamos antes la syntaxis de Python\n",
    "\n",
    "La palabra sintaxis hace referencia a las reglas que definen como se debe escribir el código de un lenguaje de programación, define la manera en que se deben escribir los comandos. Si recordamos PSEINT, para escribir código y que sea entendido por la herramienta debemos mantener cierta forma, estructura y además utilizar palabras reservas que permiten ejecutar algunas funcionalidades.\n",
    "\n",
    "En Python contamos con una estructura de lenguaje definida la cual nos permitirá comprender como se debe definir una variable, una condición o un ciclo (elementos que ya hemos visto en lenguaje de pseudocódigo)"
   ]
  },
  {
   "cell_type": "markdown",
   "id": "895eb4d3",
   "metadata": {},
   "source": [
    "### ¿Qué es una variable?\n",
    "\n",
    "Una variable representa un espacio en memoria de computador, la cual almacena un valor el cual puede cambiar o mantener su mismo estado a lo largo de la ejecución de un programa.\n",
    "Las variables deben declararse en minuscula y el nombre debe ser claro y estar asociado al tipo de dato que almacerá. \n",
    "\n",
    "Ejemplo:\n",
    "\n",
    "* **Correcto**  \n",
    "planeta = \"saturno\"  \n",
    "color = \"verde\"  \n",
    "\n",
    "\n",
    "* **Incorrecto**  \n",
    "planeta = \"verde\"  \n",
    "color = \"saturno\""
   ]
  },
  {
   "cell_type": "markdown",
   "id": "04afce61",
   "metadata": {},
   "source": [
    "Definición de variable en PSEINT:\n",
    "\n",
    "`text<-\"Hola Mundo\"`\n",
    "\n",
    "Definición de variable en Python"
   ]
  },
  {
   "cell_type": "code",
   "execution_count": 1,
   "id": "249ea7e2",
   "metadata": {},
   "outputs": [],
   "source": [
    "text = \"Hola Mundo\""
   ]
  },
  {
   "cell_type": "markdown",
   "id": "31a3cbfd",
   "metadata": {},
   "source": [
    "En Python podemos realizar asignaciones múltiple a variables por ejemplo:"
   ]
  },
  {
   "cell_type": "code",
   "execution_count": 2,
   "id": "99bf27ce",
   "metadata": {},
   "outputs": [],
   "source": [
    "#Asignación multiple\n",
    "a, b, c = 4, 3, 2\n",
    "\n",
    "#Esto sería igual a\n",
    "a = 4\n",
    "b = 3\n",
    "c = 2"
   ]
  },
  {
   "cell_type": "markdown",
   "id": "22701af9",
   "metadata": {},
   "source": [
    "## Tipos de variables\n",
    "\n",
    "\n",
    "En todos los lenguajes de programación existen tipos de variables, los cuales permiten al almacenamiento de distintos tipos de datos. En el caso de python la asignación del tipo ocurre de manera implicita mientras que en otros lenguajes con un tipado más fuerte, el tipo de dato de la variable debe definirse previamente.\n",
    "\n",
    "Los tipos de variables primitivos son:\n",
    "\n",
    "* **String**: Este tipo permite almacenar cadenas de texto entre comillas en una variable, por ejemplo \"biología\"  \n",
    "* **Integer**: Permite almacenar números enteros en una variable, por ejemplo 1, 2, 3, 4, 2021\n",
    "* **Boolean**: Permite almacenar True o False \n",
    "+ **Float**: Permite guardar números decimales, por ejemplo 1.2, 4.56, 20.21"
   ]
  },
  {
   "cell_type": "code",
   "execution_count": 3,
   "id": "2702be04",
   "metadata": {},
   "outputs": [],
   "source": [
    "#Variable de tipo string\n",
    "x = \"Esto es un texto\"\n",
    "\n",
    "#Variable de tipo número o integer\n",
    "a = 4\n",
    "b = 3\n",
    "c = 2\n",
    "suma = (a+b) * c\n",
    "\n",
    "#Variable de tipo boolean\n",
    "mostrar = True\n",
    "ocultar = False\n",
    "\n",
    "#Variable de tipo float\n",
    "total = 20.55\n"
   ]
  },
  {
   "cell_type": "code",
   "execution_count": 4,
   "id": "a78daa30",
   "metadata": {},
   "outputs": [],
   "source": [
    "# Cuando ponemos una linea con un numeral adelante es un comentario, no se ejecutará en el código\n",
    "# x = 3 -> no será ejecutado"
   ]
  },
  {
   "cell_type": "markdown",
   "id": "8935bebb",
   "metadata": {},
   "source": [
    "### Identación y boques de código\n",
    "\n",
    "En Python a diferencia de otros lenguajes no se hace uso de ; para separar cada linea de código e indicar que ha finalizado un bloque o una instrucción, en este lenguaje se usa la identación o tabulación para crear bloques de código. Veamos un ejemplo"
   ]
  },
  {
   "cell_type": "code",
   "execution_count": 24,
   "id": "e2bb8365",
   "metadata": {},
   "outputs": [
    {
     "name": "stdout",
     "output_type": "stream",
     "text": [
      "Seguir haciendo el cálculo\n"
     ]
    }
   ],
   "source": [
    "number = 5\n",
    "\n",
    "if number >= 10:\n",
    "    print(\"Se ha finalizado el proceso\")\n",
    "else:\n",
    "    print(\"Seguir haciendo el cálculo\")"
   ]
  },
  {
   "cell_type": "markdown",
   "id": "d5a68705",
   "metadata": {},
   "source": [
    "Si no conservamos la identación, se nos indicará que existe un error en nuestro código, veamos un ejemplo:"
   ]
  },
  {
   "cell_type": "code",
   "execution_count": 8,
   "id": "98a99478",
   "metadata": {},
   "outputs": [
    {
     "ename": "IndentationError",
     "evalue": "expected an indented block (Temp/ipykernel_27460/3414507898.py, line 2)",
     "output_type": "error",
     "traceback": [
      "\u001b[1;36m  File \u001b[1;32m\"C:\\Users\\erika\\AppData\\Local\\Temp/ipykernel_27460/3414507898.py\"\u001b[1;36m, line \u001b[1;32m2\u001b[0m\n\u001b[1;33m    print(\"Se ha finalizado el proceso\")\u001b[0m\n\u001b[1;37m    ^\u001b[0m\n\u001b[1;31mIndentationError\u001b[0m\u001b[1;31m:\u001b[0m expected an indented block\n"
     ]
    }
   ],
   "source": [
    "if number >= 10:\n",
    "print(\"Se ha finalizado el proceso\")\n",
    "else:\n",
    "print(\"Seguir haciendo el cálculo\")"
   ]
  },
  {
   "cell_type": "markdown",
   "id": "fd4088b7",
   "metadata": {},
   "source": [
    "Recuerda la identación, en PSEINT la manejamos para crear bloques de código\n",
    "\n",
    "`Algoritmo validacion_numero\n",
    "\tLeer numero_usuario\n",
    "\tcontar = 1\n",
    "\tcontarResiduo = 0\n",
    "\tMientras contar <= numero_usuario Hacer\n",
    "\t\tSi (numero_usuario MOD contar == 0) Entonces\n",
    "\t\t\tcontarResiduo = contarResiduo + 1\n",
    "\t\tFin Si\n",
    "\t\tcontar = contar + 1\n",
    "\tFin Mientras\n",
    "\tEscribir contarResiduo\n",
    "FinAlgoritmo`"
   ]
  },
  {
   "cell_type": "markdown",
   "id": "45e52e27",
   "metadata": {},
   "source": [
    "### Alcance de las variables\n",
    "\n",
    "Normalmente cuando creamos variables, es con la finalidad de utilizarlas en una sección de código específica o únicamente en un bloque cerrado de código, por ejemplo"
   ]
  },
  {
   "cell_type": "code",
   "execution_count": 10,
   "id": "40e0cd71",
   "metadata": {},
   "outputs": [
    {
     "name": "stdout",
     "output_type": "stream",
     "text": [
      "A\n"
     ]
    }
   ],
   "source": [
    "# Si declaramos una función por fuera de todos los bloques, podemos decir que su alcance es global\n",
    "\n",
    "numero = 23 # Variable de alcance global\n",
    "\n",
    "if numero >= 23:\n",
    "    letra = \"A\"\n",
    "    print (letra)\n",
    "else:\n",
    "    print (\"No se creo ninguna letra\")"
   ]
  },
  {
   "cell_type": "code",
   "execution_count": 13,
   "id": "7c3cb0b5",
   "metadata": {},
   "outputs": [
    {
     "ename": "NameError",
     "evalue": "name 'letras' is not defined",
     "output_type": "error",
     "traceback": [
      "\u001b[1;31m---------------------------------------------------------------------------\u001b[0m",
      "\u001b[1;31mNameError\u001b[0m                                 Traceback (most recent call last)",
      "\u001b[1;32m~\\AppData\\Local\\Temp/ipykernel_27460/3977811795.py\u001b[0m in \u001b[0;36m<module>\u001b[1;34m\u001b[0m\n\u001b[0;32m      6\u001b[0m     \u001b[0mletras\u001b[0m \u001b[1;33m=\u001b[0m \u001b[1;34m\"ABCD\"\u001b[0m\u001b[1;33m\u001b[0m\u001b[1;33m\u001b[0m\u001b[0m\n\u001b[0;32m      7\u001b[0m \u001b[1;33m\u001b[0m\u001b[0m\n\u001b[1;32m----> 8\u001b[1;33m \u001b[0mprint\u001b[0m\u001b[1;33m(\u001b[0m\u001b[1;34m\"Imprimiento letra por fuera \"\u001b[0m\u001b[1;33m,\u001b[0m \u001b[0mletras\u001b[0m\u001b[1;33m)\u001b[0m\u001b[1;33m\u001b[0m\u001b[1;33m\u001b[0m\u001b[0m\n\u001b[0m",
      "\u001b[1;31mNameError\u001b[0m: name 'letras' is not defined"
     ]
    }
   ],
   "source": [
    "# Ahora, intentemos usar letra por fuea del todo\n",
    "\n",
    "numero = 23 # Variable de alcance global\n",
    "\n",
    "def creando_letras():\n",
    "    letras = \"ABCD\"\n",
    "\n",
    "print(\"Imprimiento letra por fuera \", letras)"
   ]
  },
  {
   "cell_type": "markdown",
   "id": "72ed6424",
   "metadata": {},
   "source": [
    "### Comando de utilidad para imprimir variables e ingresar valores a las variables por medio de la consola\n",
    "\n",
    "* print()\n",
    "* input()"
   ]
  },
  {
   "cell_type": "code",
   "execution_count": 14,
   "id": "d57c5e32",
   "metadata": {},
   "outputs": [
    {
     "name": "stdout",
     "output_type": "stream",
     "text": [
      "Esto es un mensaje de prueba\n",
      "Ingresa un número3\n",
      "El número es  3\n"
     ]
    }
   ],
   "source": [
    "# Ejemplo de print\n",
    "print (\"Esto es un mensaje de prueba\")\n",
    "numero = input(\"Ingresa un número\")\n",
    "print (\"El número es \", numero)"
   ]
  },
  {
   "cell_type": "markdown",
   "id": "134cdf00",
   "metadata": {},
   "source": [
    "Cuando ingresamos un input, el valor ingresado siempre será un string aunque escribamos un número en la consola, por lo que será necesario realizar algo conocido como cast. Para ello hacer lo siguiente:"
   ]
  },
  {
   "cell_type": "code",
   "execution_count": 19,
   "id": "95b42753",
   "metadata": {},
   "outputs": [
    {
     "name": "stdout",
     "output_type": "stream",
     "text": [
      "Ingresa un número entero3\n",
      "3\n",
      "Ingresa un número flotante2.4\n",
      "2.4\n"
     ]
    }
   ],
   "source": [
    "numeroInt = int(input(\"Ingresa un número entero\"))\n",
    "print(numeroInt)\n",
    "numeroFloat = float(input(\"Ingresa un número flotante\"))\n",
    "print(numeroFloat)"
   ]
  },
  {
   "cell_type": "code",
   "execution_count": 20,
   "id": "3107ded7",
   "metadata": {},
   "outputs": [
    {
     "name": "stdout",
     "output_type": "stream",
     "text": [
      "Mensaje  A\n",
      "Mensaje A\n"
     ]
    }
   ],
   "source": [
    "# Forma de concatenar variables en un print\n",
    "\n",
    "print (\"Mensaje \", letra)\n",
    "print (\"Mensaje \" + letra)"
   ]
  },
  {
   "cell_type": "markdown",
   "id": "947e7a67",
   "metadata": {},
   "source": [
    "### Practiquemos más sobre variables\n",
    "1. ¿De qué forma se debería escribir una variable de tipo string?\n",
    "2. ¿En python la declaración del tipo debe realizarse antes del nombre de la variable?\n",
    "3. ¿De qué manera usarías una varible de tipo boolean?\n",
    "4. ¿Cuál es la manera correcta de concatenar una variable de tipo string con una variable de tipo entero?"
   ]
  },
  {
   "cell_type": "markdown",
   "id": "e72fde45",
   "metadata": {},
   "source": [
    "### Ejercicios prácticos con variables"
   ]
  },
  {
   "cell_type": "markdown",
   "id": "e5f18ad4",
   "metadata": {},
   "source": [
    "1. Cree un programa donde se pidan dos número en consola para realizar la suma, luego dos número para realizar la resta y para hacer la división utilice el resultado de la suma / resultado de la resta, lo mismo para la multiplicación resultado de la suma * resultado de la resta. Muestre el resultado para todas las operaciones.\n",
    "2. Cree un programa que pida por consola 3 notas de un estudiante para el corte 1, 3 notas para el corte 2 y 3 notas para el corte 3. Aplique el siguiente porcentaje 20% para corte 1, 20% para corte 2, 60% para corte 3. Otorgue después el total de la nota.\n",
    "3. Cree un programa que le permita ingresar el valor de tres productos del supermercado. Deberá calcular el iva del 19 para cada producto y deberá mostrar el valor a pagar."
   ]
  },
  {
   "cell_type": "markdown",
   "id": "eaa0a501",
   "metadata": {},
   "source": [
    "### ¿Qué son las condiciones?\n",
    "\n",
    "Las condiciones son instrucciones que permiten tomas decisiones tanto de la funcionalidad del programa, como del bloque de código a ejecutar. Las condiciones se conforman de la parte que se ejecuta si se cumple la condición y de lo que ocurre en el caso contrario."
   ]
  },
  {
   "cell_type": "markdown",
   "id": "e7a57c78",
   "metadata": {},
   "source": [
    "En Python uno de los condicionales que podemos encontrar son **if, elif, else\n",
    "\n",
    "Los condicionales if son utilizados en todos los lenguajes de programación y python no es la excepción. Recuerda el uso que le daba en PSEINT para resolver problemas de decisión al interior del código, ¿cómo lo hacías?. Vamos a crar un ejemplo en PSEINT en donde un usuario ingrese una palabra, que se almacenará en una variable llamada lenguaje. Las palabras a ingresar deberán ser \"Python\", \"PSEINT\", \"R\", \"JAVA\", \"JAVASCRIPT\".\n",
    "\n",
    "Vamos en el condicional de Python a validar si, lenguaje es Python, mostraremos un mensaje que diga, \"Estamos aprendiendo este lenguaje en clase de programación\". Lo mismo para el caso de R y PSEINT. Si la persona ingresa JAVA, pondremos un mensaje que diga, \"este lenguaje no es utilizado para bioinformática, no lo estamos aprendiendo\", aplica también para JAVASCRIPT. En caso de que la palabra no sea ninguna de las descritas previamente, mostrar un mensaje indicando \"Se desconoce el lenguaje de programación que ingreso\"\n",
    "\n",
    "Teniendo en cuenta esto, vamos a utilizar ahora la estructura de los condicionales **if, elif, else** que son los mismos de **si-entonces** y vamos a migrar el código de PSEINT a Python."
   ]
  },
  {
   "cell_type": "code",
   "execution_count": 17,
   "id": "6dbd5cb3",
   "metadata": {},
   "outputs": [
    {
     "name": "stdout",
     "output_type": "stream",
     "text": [
      "Vamos a enseñarte el abecedario\n"
     ]
    }
   ],
   "source": [
    "palabra = \"ABC\"\n",
    "\n",
    "if palabra == \"ABC\":\n",
    "    print(\"Vamos a enseñarte el abecedario\")\n",
    "else:\n",
    "    print(\"No es posible enseñarte el abecedario\")"
   ]
  },
  {
   "cell_type": "code",
   "execution_count": 25,
   "id": "3e1ce412",
   "metadata": {},
   "outputs": [
    {
     "name": "stdout",
     "output_type": "stream",
     "text": [
      "El número es 2\n"
     ]
    }
   ],
   "source": [
    "# Otro ejemplo de condiciones en Python\n",
    "\n",
    "numero = 2\n",
    "\n",
    "if numero == 2:\n",
    "    print(\"El número es 2\")"
   ]
  },
  {
   "cell_type": "markdown",
   "id": "747d3aab",
   "metadata": {},
   "source": [
    "### Condicional IF\n",
    "\n",
    "Nos permite validar que un datos del programa, cumpla con el valor esperado"
   ]
  },
  {
   "cell_type": "code",
   "execution_count": 22,
   "id": "3bcbed55",
   "metadata": {},
   "outputs": [
    {
     "name": "stdout",
     "output_type": "stream",
     "text": [
      "Gane el curso de Programación\n"
     ]
    }
   ],
   "source": [
    "nombre_curso = \"Programación\"\n",
    "nota_final = 4.5\n",
    "\n",
    "if nota_final >= 3.0 :\n",
    "    print(\"Gane el curso de \" + nombre_curso)"
   ]
  },
  {
   "cell_type": "markdown",
   "id": "a796ee58",
   "metadata": {},
   "source": [
    "### Condicional ELSE\n",
    "\n",
    "Permite ejecutar un bloque de código en caso de que la condición contenida en el IF no se haya ejecutado"
   ]
  },
  {
   "cell_type": "code",
   "execution_count": 23,
   "id": "f5f63987",
   "metadata": {},
   "outputs": [
    {
     "name": "stdout",
     "output_type": "stream",
     "text": [
      "NO gane el curso de Programación\n"
     ]
    }
   ],
   "source": [
    "nombre_curso = \"Programación\"\n",
    "nota_final = 2.9\n",
    "\n",
    "if nota_final >= 3.0 :\n",
    "    print(\"Gane el curso de \" + nombre_curso)\n",
    "else:\n",
    "    print(\"NO gane el curso de \" + nombre_curso)"
   ]
  },
  {
   "cell_type": "markdown",
   "id": "095511b9",
   "metadata": {},
   "source": [
    "### Condicional ELIF\n",
    "\n",
    "Permite agregar otra sentencia para validar en caso de que el IF no se cumpla. Se ejecuta previamente al IF y se pueden tener multiples sentencias anidadas"
   ]
  },
  {
   "cell_type": "markdown",
   "id": "25e49bd2",
   "metadata": {},
   "source": [
    "### Validemos nuestros conocimientos en condicionales\n",
    "* ¿Qué ocurre si una condición en nuestro if no se cumple?\n",
    "* ¿Qué ocurre si no se agrega un else al condicional?\n",
    "* ¿En qué casos debería agregar un elif?"
   ]
  },
  {
   "cell_type": "markdown",
   "id": "c08cc55e",
   "metadata": {},
   "source": [
    "### Importante:\n",
    "\n",
    "Antes de finalizar la clase, no olvides subir el script de práctica de la clase al repositorio de GITHUB, para que practiques los conocimientos adquiridos previamente en esta herramienta"
   ]
  },
  {
   "cell_type": "markdown",
   "id": "7a61dd82",
   "metadata": {},
   "source": [
    "#### Referencias\n",
    "\n",
    "* Lenguajes de programación: https://programas.cuaed.unam.mx/repositorio/moodle/pluginfile.php/1023/mod_resource/content/1/contenido/index.html\n",
    "* ¿Qué es Python?: https://ellibrodepython.com/que-es-python\n",
    "* Descargar e instalar Python: https://ellibrodepython.com/descargar-instalar-python\n",
    "* A Python book: Beginning python, advanced python and python exercises, D Kuhlman, 2009\""
   ]
  }
 ],
 "metadata": {
  "kernelspec": {
   "display_name": "Python 3 (ipykernel)",
   "language": "python",
   "name": "python3"
  },
  "language_info": {
   "codemirror_mode": {
    "name": "ipython",
    "version": 3
   },
   "file_extension": ".py",
   "mimetype": "text/x-python",
   "name": "python",
   "nbconvert_exporter": "python",
   "pygments_lexer": "ipython3",
   "version": "3.9.6"
  }
 },
 "nbformat": 4,
 "nbformat_minor": 5
}
