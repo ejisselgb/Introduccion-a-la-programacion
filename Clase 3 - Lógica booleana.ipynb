{
 "cells": [
  {
   "cell_type": "markdown",
   "id": "a1ac4a85",
   "metadata": {},
   "source": [
    "# Clase 3 - Lógica booleana"
   ]
  },
  {
   "cell_type": "markdown",
   "id": "72a785db",
   "metadata": {},
   "source": [
    "### Corte I - Algoritmos, diagramas y lógica\n",
    "\n",
    "- Algoritmos y diagramas de flujo ✅\n",
    "- Lógica booleana\n",
    "- Abstracción y patrones\n",
    "- Pseudocódigo"
   ]
  },
  {
   "cell_type": "markdown",
   "id": "4ab1d79c",
   "metadata": {},
   "source": [
    "#### Recordemos conceptos\n",
    "\n",
    "- ¿Qué es un diagrama de flujo?\n",
    "- ¿Qué elementos componen un diagrama de flujo?\n",
    "- ¿Cuándo debería construir un diagrama de flujo?\n",
    "- ¿En qué casos aplican los diagramas de flujo?\n",
    "- Construye un diagrama de flujo donde se capture un mensaje de un usuario y se valide si la palabra ingresada contiene `color verde`, si es así se mostrará en forma de archivo pdf un listado de palabras con objetos de `color verde`. Si la palabra ingresada es `amarillo`, se mostrará un mensaje en pantalla que indique objetos de dicho color, si el color no coincide con ninguno de los permitidos, se deberá reintentar 2 veces más la solicitud del color. Al superarse el númnero de reintentos, se muestra un mensaje de error y se finaliza el programa.\n",
    "\n",
    "**Herramienta para la construcción diagramas de flujo propuesta**\n",
    "https://app.diagrams.net/"
   ]
  },
  {
   "cell_type": "markdown",
   "id": "56becc37",
   "metadata": {},
   "source": [
    "## ¿Qué es la lógica?\n",
    "\n",
    "Es la disposición que tenemos los humanos para pensar de forma coherente. Permite a los seres humanos tomar decisiones a partir normas sociales, conductas, experiencias, etc. La lógica da a los seres humanos herramientas para establecer si un pensamiento es correcto o no. A su vez las matemáticas se encargan de estudiar procedimientos para distinguir si un razonamiento es incorrecto o viceversa.\n",
    "\n",
    "**En el caso computacional, los computadores y la lógica no se puede separar, son dependientes entre ellas**"
   ]
  },
  {
   "cell_type": "markdown",
   "id": "460b35b8",
   "metadata": {},
   "source": [
    "## Introducción a la Algebra de Boole y Lógica Proposional"
   ]
  },
  {
   "cell_type": "markdown",
   "id": "4a46a683",
   "metadata": {},
   "source": [
    "La algebra de Boole parte de la herramienta matemática planteada por George Boole en el año 1815. Esto permitió en el año 1938, modelar sistemas digitales a partir de lo conocido como álgebra de Boole.  \n",
    "\n",
    "El álgebra de Boole o lógica booleana, parte de la idea que de que una declaración o preposición (P) puede ser falsa o verdadera, no es ambas al tiempo (ley del tercero excluido). También usa operadodes como Y,O y No.  \n",
    "\n",
    "En el caso de los sistemas, permite ejecutar una acción o evento a partir de un elemento que se cumpla (sea correcto o no) a nivel lógico y computacional. Del álgebra de Boole parte la lógica proposional, la cual permite transformar expresiones o enunciados de menor complejidad a unas de mayor complejidad\n",
    "\n",
    "En lógica al enunciado se le conoce como **premisa/proposición** por lo que siempre tendran un valor de verdad, es decir siempre se podrá decir si esa premisa es falsa o verdadera.\n",
    "\n",
    "**Por ejemplo:** P Es verdadero, entonces NO (P) es falso.  \n",
    "\n",
    "*Hoy es jueves* (verdadero), *entonces NO (hoy es jueves)* (falso)\n"
   ]
  },
  {
   "cell_type": "markdown",
   "id": "df470de0",
   "metadata": {},
   "source": [
    "#### Ahora, piensa en una oración que podrías construir usando preposiciones falsas y verdaderas, compartelas con tu clase"
   ]
  },
  {
   "cell_type": "markdown",
   "id": "70edbb25",
   "metadata": {},
   "source": [
    "### Proposición / Premisas simples\n",
    "\n",
    "- 10 es mayor que 20\n",
    "- El idioma de Colombia es el español\n",
    "- El jueves es un día de la semana"
   ]
  },
  {
   "cell_type": "markdown",
   "id": "4568a3f7",
   "metadata": {},
   "source": [
    "### Premisa compuesta verdadera\n",
    "- Todas las aves tienen pico\n",
    "- Una gallina es un ave\n",
    "- Todas las gallinas tiene pico"
   ]
  },
  {
   "cell_type": "markdown",
   "id": "f8220ca6",
   "metadata": {},
   "source": [
    "### Premisa compuesta falsa\n",
    "- Algunos mamíferos puede respirar bajo el agua\n",
    "- Las ballenas son mamíferos\n",
    "- Todas las ballenas puede respirar bajo el agua\n",
    "\n",
    "#### Diseña 1 premisa simple, una compuesta verdadera y una compuesta falsa"
   ]
  },
  {
   "cell_type": "markdown",
   "id": "86cdc1a5",
   "metadata": {},
   "source": [
    "### Tablas de verdad\n",
    "\n",
    "Dado que las preposiciones pueden ser complejas (dos o más preposiciones), se hace uso de las tabla de verdad para identificar, si la premisa es falsa o verdadera.\n",
    "\n",
    "Existen tres conectores fundamentales, estos son Y - O - NO. A estos también se les conoce como operadores binarios"
   ]
  },
  {
   "cell_type": "markdown",
   "id": "832eeb80",
   "metadata": {},
   "source": [
    "#### Operador Binario OR (O - V - Disyunción)"
   ]
  },
  {
   "cell_type": "markdown",
   "id": "55792ffb",
   "metadata": {},
   "source": [
    "p **OR** q -> r\n",
    "\n",
    "Una de las preposiciones o uno de los valores de la expresión debe ser **verdad** para que sea Verdadera o se cumpla. A un valor verdadero en el código lo conocemos como `TRUE`\n",
    "\n",
    "| p | q | OR | r |\n",
    "|----| --- | -- | ---|\n",
    "| True | True | --> | True |  \n",
    "| True | False | --> | True |\n",
    "| False | True | --> | True |\n",
    "| False | False | --> | False |"
   ]
  },
  {
   "cell_type": "code",
   "execution_count": 1,
   "id": "9bfd7575",
   "metadata": {},
   "outputs": [
    {
     "data": {
      "text/plain": [
       "True"
      ]
     },
     "execution_count": 1,
     "metadata": {},
     "output_type": "execute_result"
    }
   ],
   "source": [
    "##Esto en Python sería\n",
    "True or False"
   ]
  },
  {
   "cell_type": "code",
   "execution_count": 2,
   "id": "2218a8f0",
   "metadata": {},
   "outputs": [
    {
     "data": {
      "text/plain": [
       "False"
      ]
     },
     "execution_count": 2,
     "metadata": {},
     "output_type": "execute_result"
    }
   ],
   "source": [
    "False or False"
   ]
  },
  {
   "cell_type": "code",
   "execution_count": 3,
   "id": "1c915591",
   "metadata": {},
   "outputs": [
    {
     "data": {
      "text/plain": [
       "True"
      ]
     },
     "execution_count": 3,
     "metadata": {},
     "output_type": "execute_result"
    }
   ],
   "source": [
    "True or True"
   ]
  },
  {
   "cell_type": "markdown",
   "id": "fc7dc1b5",
   "metadata": {},
   "source": [
    "**Ejemplo en enunciado - premisa**\n",
    "\n",
    "\"Me veré la película si no tengo clase *O (OR)* si no tengo tarea\""
   ]
  },
  {
   "cell_type": "markdown",
   "id": "c9a13181",
   "metadata": {},
   "source": [
    "#### Operador Binario Y (AND - ^ - Conjución)"
   ]
  },
  {
   "cell_type": "markdown",
   "id": "a7d0ed45",
   "metadata": {},
   "source": [
    "p **AND** q -> r\n",
    "\n",
    "Ambos valores de la premisa o expresión deben ser verdad para que sea verdadera (TRUE)\n",
    "\n",
    "| p | q |AND | r |\n",
    "|----| --- | --- | ---|\n",
    "| True | True | --> | True |  \n",
    "| True | False | --> | False |\n",
    "| False | True | --> |False |\n",
    "| False | False | --> | False |\n",
    "\n"
   ]
  },
  {
   "cell_type": "code",
   "execution_count": 1,
   "id": "286816d4",
   "metadata": {},
   "outputs": [
    {
     "data": {
      "text/plain": [
       "True"
      ]
     },
     "execution_count": 1,
     "metadata": {},
     "output_type": "execute_result"
    }
   ],
   "source": [
    "#En Python sería\n",
    "True and True"
   ]
  },
  {
   "cell_type": "code",
   "execution_count": 2,
   "id": "c359e0f9",
   "metadata": {},
   "outputs": [
    {
     "data": {
      "text/plain": [
       "False"
      ]
     },
     "execution_count": 2,
     "metadata": {},
     "output_type": "execute_result"
    }
   ],
   "source": [
    "True and False"
   ]
  },
  {
   "cell_type": "markdown",
   "id": "1f209112",
   "metadata": {},
   "source": [
    "**Ejemplo en enunciado**\n",
    "\n",
    "\"Sí me levanto tarde *Y (AND)* me deja el bus, llego tarde a clase\""
   ]
  },
  {
   "cell_type": "markdown",
   "id": "1186efda",
   "metadata": {},
   "source": [
    "#### Operador Binario NOT (Negación)"
   ]
  },
  {
   "cell_type": "markdown",
   "id": "3660f50d",
   "metadata": {},
   "source": [
    "NOT p -> r\n",
    "\n",
    "Este operador binario cambia el valor de la premisa o expresión por su opuesto o complemento. Es un operador unario, lo que significa que lleva a cabo su acción sobre un único operando.\n",
    "\n",
    "| p | NOT| r |\n",
    "|----| --- | ---|\n",
    "| True | --> | False |  \n",
    "| False | --> | True |"
   ]
  },
  {
   "cell_type": "code",
   "execution_count": 3,
   "id": "7260af82",
   "metadata": {},
   "outputs": [
    {
     "data": {
      "text/plain": [
       "False"
      ]
     },
     "execution_count": 3,
     "metadata": {},
     "output_type": "execute_result"
    }
   ],
   "source": [
    "#En Python sería\n",
    "not True"
   ]
  },
  {
   "cell_type": "code",
   "execution_count": 4,
   "id": "e13c2fbe",
   "metadata": {},
   "outputs": [
    {
     "data": {
      "text/plain": [
       "True"
      ]
     },
     "execution_count": 4,
     "metadata": {},
     "output_type": "execute_result"
    }
   ],
   "source": [
    "not False"
   ]
  },
  {
   "cell_type": "markdown",
   "id": "55572619",
   "metadata": {},
   "source": [
    "**Ejemplo en enunciado**\n",
    "\n",
    "\"Si *No (NOT)* pago mi suscripcion a Netflix, entonces se bloquea mi acceso a la cuenta\""
   ]
  },
  {
   "cell_type": "markdown",
   "id": "5e72f0e8",
   "metadata": {},
   "source": [
    "**Vamos a investigar un poco**\n",
    "\n",
    "- ¿Qué es una preposición Disyuntiva exclusiva o XOR?, ¿Cómo es su tabla de verdad?\n",
    "- ¿Qué es Implicancia?, define la tabla de verdad\n",
    "- ¿Qué es \"Equivalencia\"?, define la tabla de verdad\n",
    "\n",
    "*Recuerda apoyarte de las referencias de esta guía para la solución de esta actividad*\n",
    "\n"
   ]
  },
  {
   "cell_type": "markdown",
   "id": "8e336b09",
   "metadata": {},
   "source": [
    "### Importante:\n",
    "\n",
    "Las preposiciones se resuelven en el siguiente orden:\n",
    "\n",
    "- Primero los paréntesis\n",
    "- Luego se resuelve la negación\n",
    "- Luego se resuleve la operación\n",
    "- Por último se realiza el entonces (-->)  \n",
    "\n",
    "\n",
    "Representación de los operadores lógicos:\n",
    "\n",
    "- ^ AND (Conjución)\n",
    "- V OR (Disyunción)\n",
    "- ¬ / ~ NOT (Negación)\n",
    "- -> Entonces (Condicional)"
   ]
  },
  {
   "cell_type": "markdown",
   "id": "25ca3650",
   "metadata": {},
   "source": [
    "**Imagina que debes diseñar un sistema**, ¿qué uso le darías tú al lo que acaba de ver?, ¿en lo visto previamente (diagramas de flujo), crees que aplica este concepto?"
   ]
  },
  {
   "cell_type": "markdown",
   "id": "fc18d767",
   "metadata": {},
   "source": [
    "### Vamos a crear tablas de verdad\n",
    "\n",
    "Las tablas de verdad pueden estar compuestas de más de dos preposiciones, además pueden contar con múltiples operadores binarios (^,V,~).\n",
    "\n",
    "Para determinar el tamaño de la tabla se toma el número 2 como base y la cantidad de preposiciones como exponente.\n",
    "\n",
    "**Ejemplo:**\n",
    "\n",
    "1. ¬(¬p^q)  \n",
    "\n",
    "Número filas de la tabla según la expresión: **2^2 = 4**\n",
    "\n",
    "    \n",
    "| p | q | ¬p | ¬p^q | ¬(¬p^q) |\n",
    "|----| --- | --- | --- | --- |\n",
    "| True | True | False | False |  True |\n",
    "| True | False | False | False |  True |\n",
    "| False | True | True | True |  False |\n",
    "| False | False | True | False |  True |\n",
    "\n",
    "2. ¬(pvq)^r\n",
    "\n",
    "Número filas de la tabla según la expresión: **2^3 = 8**\n",
    "\n",
    "| p | q | r| pvq | ¬(pVq) | ¬(pvq)^r |\n",
    "|----| --- | --- | --- | --- | --- |\n",
    "| True | True | True | True |  False | False |\n",
    "| True | True | False | True |  False | False |\n",
    "| True | False | True | True |  False | False |\n",
    "| True | False | False | True |  False | False |\n",
    "| False | True | True | True |  False | False |\n",
    "| False | True | False | True |  False | False |\n",
    "| False | False | True | False |  True | True |\n",
    "| False | False | False | False |  True | False |"
   ]
  },
  {
   "cell_type": "markdown",
   "id": "be245fd7",
   "metadata": {},
   "source": [
    "#### Ahora intenta resolver las siguientes premisas utilizando tablas de verdad\n",
    "\n",
    "1. (¬p)^ q\n",
    "2. ¬(pv¬q) v ¬(p^r)\n",
    "3. (¬p^q) v (p^r) ^ ¬(qvt)\n"
   ]
  },
  {
   "cell_type": "markdown",
   "id": "2dbf8116",
   "metadata": {},
   "source": [
    "### Tautologías\n",
    "\n",
    "La realización de tablas de verdad permiten validar si una preposición compuesta es verdadera, a esto se le conoce o denomina como **Tautología** (p v ¬q)\n",
    "\n",
    "De lo contrario si una preposición compuesta es falsa, se define como una **Contradicción** (p ^ ¬q)\n",
    "\n",
    "*Valida lo anterior usando tablas de verdad*\n"
   ]
  },
  {
   "cell_type": "markdown",
   "id": "5536138a",
   "metadata": {},
   "source": [
    "### Referencias\n",
    "\n",
    "- Lógica proposicional: http://www.matematicas.ciencias.uchile.cl/juaco/section-1.html\n",
    "- Lógica matemática: http://www.unicauca.edu.co/matematicas/eventos/log&co/MATERIAL/Elementos_Logica/Textos/Biblioteca/Libros/Libro_015/LogicaMatematica.htm\n",
    "- Introduction to Boolean Logic: https://www.i-programmer.info/babbages-bag/235-logic-logic-everything-is-logic.html"
   ]
  }
 ],
 "metadata": {
  "kernelspec": {
   "display_name": "Python 3 (ipykernel)",
   "language": "python",
   "name": "python3"
  },
  "language_info": {
   "codemirror_mode": {
    "name": "ipython",
    "version": 3
   },
   "file_extension": ".py",
   "mimetype": "text/x-python",
   "name": "python",
   "nbconvert_exporter": "python",
   "pygments_lexer": "ipython3",
   "version": "3.9.6"
  }
 },
 "nbformat": 4,
 "nbformat_minor": 5
}
