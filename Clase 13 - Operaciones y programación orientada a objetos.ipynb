{
 "cells": [
  {
   "cell_type": "markdown",
   "id": "dc51bb45",
   "metadata": {},
   "source": [
    "# Clase 13 - Operaciones y programación orientada a objetos\n",
    "\n",
    "\n",
    "### Corte 2 - Introducción a python\n",
    "* Mi primer programa en python ✅\n",
    "* Tipos y condiciones ✅\n",
    "* ciclos y patrones ✅\n",
    "* Operaciones y estructuras de datos ✅\n",
    "* Funciones y modularidad ✅\n",
    "* Programación orientada a objetos ✅\n",
    "* Reúso de código ✅"
   ]
  },
  {
   "cell_type": "markdown",
   "id": "49db8b2d",
   "metadata": {},
   "source": [
    "### Operaciones con estructuras de datos (Repaso)\n",
    "\n",
    "Para recordar los conceptos de la clase 12, vamos a realizar los siguientes ejercicios.\n",
    "\n",
    "\n",
    "1. Crea una lista de números desde el 2 al 300, donde solo incluyas los números pares.\n",
    "2. Crea una lista de diccionarios de datos de un usuario ingresado por consola (nombre, apellido, edad, telefono, correo)\n",
    "3. Almacena en una tupla 4 números (2,5,7,9) ingresa 10 números por consola y valida si es multiplo de alguno de los números de la tupla, si así lo es crea una lista para cada multiplo, y en caso de que no sea multiplo de ninguno de los números de la tupla, agregarlos a una lista independiente (En total serían 5 listas)\n"
   ]
  },
  {
   "cell_type": "code",
   "execution_count": 9,
   "id": "2fd635ec",
   "metadata": {},
   "outputs": [
    {
     "name": "stdout",
     "output_type": "stream",
     "text": [
      "ingresar nombreErika\n",
      "ingresar apellidoGutierrez\n",
      "{'nombre': 'Erika', 'apellido': 'Gutierrez'}\n"
     ]
    }
   ],
   "source": [
    "\n",
    "lista = []\n",
    "#Ciclo while o for que pida los datos\n",
    "nombre = input(\"ingresar nombre\")\n",
    "apellido = input(\"ingresar apellido\")\n",
    "\n",
    "diccionario = {\"nombre\": nombre, \"apellido\": apellido}\n",
    "lista.append(diccionario)\n",
    "\n",
    "\n",
    "\n",
    "print(lista )"
   ]
  },
  {
   "cell_type": "markdown",
   "id": "1bb0562b",
   "metadata": {},
   "source": [
    "## Programación orientada a objetos\n",
    "\n",
    "La POO o OOP es un paradigma de programación que permite organizar el código de una manera que se asemeja bastante a como pensamos en la vida real, convirtiendo cada objeto de la realidad en una clase. Las clases agrupan un conjunto de variables, características y funciones que luego podrán ser usadas muchas veces.\n",
    "\n",
    "La programación orientada a objetos permite definir las características que tiene un objeto de la realidad como por ejemplo color, tamaño, forma, descritas en variables. Permite abstraer y plasmar en un programa lo que se visualiza en el entorno para llevarlo a uno digital. También es posible definir el compartamiento del objeto como si tendrá un sonido en particular, un idioma, si saltará muy alto, volará o correrá a gran velocidad.\n",
    "\n",
    "Una de las ventajas de la orientación a objetos es que nos permite modelar cosas, situaciones y comportamientos del mundo real de manera más exacta. La orientación a objetos modela las entidades de la vida real como objetos de software que tienen datos asociados (atributos) y pueden realizar ciertas funciones (métodos)."
   ]
  },
  {
   "cell_type": "markdown",
   "id": "112f27d2",
   "metadata": {},
   "source": [
    "**Ahora, recordemos que era una función y como podíamos reutilizarla, además de sus tipos, nos ayudará a entender mejor las clases**"
   ]
  },
  {
   "cell_type": "markdown",
   "id": "be9f0146",
   "metadata": {},
   "source": [
    "### Principios de la programación orientada a objetos\n",
    "\n",
    "La programación orientada a objetos la rigen los siguientes principios:\n",
    "\n",
    "- Herencia\n",
    "- Cohesión (Grado de relación entre los elementos)\n",
    "- Abstracción (Interfaz, ocultar complejidad)\n",
    "- Polimorfismo\n",
    "- Acoplamiento (Dependencia entre elementos)\n",
    "- Encapsulamiento (Solo es posible modificar desde el propio objeto)"
   ]
  },
  {
   "cell_type": "markdown",
   "id": "9f606440",
   "metadata": {},
   "source": [
    "### ¿Qué es herencia?\n",
    "\n",
    "La herencia es un proceso mediante el cual se puede crear una clase hija que hereda de una clase padre, compartiendo sus métodos y atributos. Además de ello, una clase hija puede sobreescribir los métodos o atributos, o incluso definir unos nuevos que no son heredados por el padre"
   ]
  },
  {
   "cell_type": "markdown",
   "id": "75df12e0",
   "metadata": {},
   "source": [
    "### ¿Qué es polimorfismo?\n",
    "\n",
    "El polimorfismo significa que objetos de diferentes clases pueden ser accedidos a través de la misma interfaz, sien embargo estos pueden tener comportamientos diferentes.\n",
    "\n",
    "El polimorfismo está relacionado a la herencia, puesto que para ser utilizado depende de ella. Este término nos define qué, en la programación orientada a objetos una operación (método, atributo) puede tomar diferentes comportamientos.\n",
    "\n",
    "Aquí toma fuerza la palabra sobreescribir. La sobreescritura de métodos o Overriding Methods permite sustituir un método proveniente de una clase padre. Se debe tener en cuenta que aunque se realice la sobreescritura de un método, esta debe tener el mismo nombre de la existente en la clase padre con los mismos parámetros."
   ]
  },
  {
   "cell_type": "markdown",
   "id": "0a1efa07",
   "metadata": {},
   "source": [
    "### ¿Qué es una clase?\n",
    "\n",
    "Las clases en el lenguaje de programación Python son un conjunto de variables y funciones que representan las características y comportamientos de un objeto que más adelante podrá ser reutilizado. Las clases permiten implementar herencia y polimorfismo, ya que se crean clases hijas a partir de principales que porporcionan características y comportamientos."
   ]
  },
  {
   "cell_type": "markdown",
   "id": "088a2ae1",
   "metadata": {},
   "source": [
    "### ¿Cómo se crea una clase?\n",
    "\n",
    "Antes de crear una clase imagina como guardarias la información de un perro que tiene nombre, raza, edad y peso. Que además corre y ladra. Debes crear 5 perritos diferentes. Puedes usar estructuras de datos o hacer una variable por cada perrito. Cuando finalices guarda tu código para compararlo con la creación de una clase en Python"
   ]
  },
  {
   "cell_type": "markdown",
   "id": "c9398a20",
   "metadata": {},
   "source": [
    "#### Ejemplo de construcción de clases\n",
    "\n",
    "**Clase**\n",
    "ANIMAL\n",
    "\n",
    "Raza  \n",
    "Nombre  \n",
    "Edad  \n",
    "Peso  \n",
    "\n",
    "**Objetos**\n",
    "\n",
    "Objeto animal  \n",
    "Especie=\"Canis familiaris\"  \n",
    "Nombre=\"Perro\"  \n",
    "Edad=9  \n",
    "peso= 20kg  "
   ]
  },
  {
   "cell_type": "code",
   "execution_count": 17,
   "id": "7444ba10",
   "metadata": {},
   "outputs": [],
   "source": [
    "# Creando clases en Python\n",
    "\n",
    "class Perro: # class es una palabra reservada que permite indicar que se creará una clase\n",
    "    def __init__(self, nombre): #Método constructor - Definir valores iniciales\n",
    "        self.nombre = nombre # Definir valores a los atributos de la clase\n",
    "        \n",
    "    def mostrarInfo(self): # Método\n",
    "        print(\"El nombre del perrito es: \" + self.nombre)\n"
   ]
  },
  {
   "cell_type": "code",
   "execution_count": 18,
   "id": "835d224e",
   "metadata": {},
   "outputs": [
    {
     "name": "stdout",
     "output_type": "stream",
     "text": [
      "ingrese el nombre de su perrito Violeta\n",
      "El nombre del perrito es: Violeta\n"
     ]
    }
   ],
   "source": [
    "# Utilizando una clase\n",
    "nombre = input(\"ingrese el nombre de su perrito \")\n",
    "perro1 = Perro(nombre)\n",
    "perro1.mostrarInfo()"
   ]
  },
  {
   "cell_type": "markdown",
   "id": "cea6875b",
   "metadata": {},
   "source": [
    "### Ejercicios prácticos"
   ]
  },
  {
   "cell_type": "markdown",
   "id": "584dfae5",
   "metadata": {},
   "source": [
    "1. Vamos a poner en práctica lo aprendido y vamos a agregar nuevas funcionalidades a la clase, vamos a mostrar el sonido que hace el perrito, vamos a mostrar su peso y edad y adicionalmente vas a crear un método que no recibe nada, solo muestra la información de los veterinarios (3) donde se podría llevar a los perritos.\n",
    "2. Pasa información a la clase de manera dinámica usando inputs\n",
    "3. Crea una clase que te permita crear estudiantes de una clase\n",
    "4. Crea una clase que te permita crear figuras cuadradas y rectangulares, según los parametros del usuario"
   ]
  },
  {
   "cell_type": "markdown",
   "id": "76c02725",
   "metadata": {},
   "source": [
    "#### Referencias\n",
    "\n",
    "Lenguajes de programación: https://programas.cuaed.unam.mx/repositorio/moodle/pluginfile.php/1023/mod_resource/content/1/contenido/index.html\n",
    "¿Qué es Python?: https://ellibrodepython.com/que-es-python\n",
    "Descargar e instalar Python: https://ellibrodepython.com/descargar-instalar-python\n",
    "A Python book: Beginning python, advanced python and python exercises, D Kuhlman, 2009\""
   ]
  }
 ],
 "metadata": {
  "kernelspec": {
   "display_name": "Python 3 (ipykernel)",
   "language": "python",
   "name": "python3"
  },
  "language_info": {
   "codemirror_mode": {
    "name": "ipython",
    "version": 3
   },
   "file_extension": ".py",
   "mimetype": "text/x-python",
   "name": "python",
   "nbconvert_exporter": "python",
   "pygments_lexer": "ipython3",
   "version": "3.9.6"
  }
 },
 "nbformat": 4,
 "nbformat_minor": 5
}
