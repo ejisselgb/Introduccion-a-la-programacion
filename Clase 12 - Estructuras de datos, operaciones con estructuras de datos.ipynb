{
 "cells": [
  {
   "cell_type": "markdown",
   "id": "dc51bb45",
   "metadata": {},
   "source": [
    "# Clase 12 - Estructuras de datos, operaciones con estructuras de datos\n",
    "\n",
    "\n",
    "### Corte 2 - Introducción a python\n",
    "* Mi primer programa en python ✅\n",
    "* Tipos y condiciones ✅\n",
    "* ciclos y patrones ✅\n",
    "* Operaciones y estructuras de datos ✅\n",
    "* Funciones y modularidad ✅\n",
    "* Programación orientada a objetos\n",
    "* Reúso de código ✅"
   ]
  },
  {
   "cell_type": "markdown",
   "id": "49db8b2d",
   "metadata": {},
   "source": [
    "### Tuplas\n",
    "\n",
    "Python proporciona las tuplas como otra estructura de datos que permite guardar datos de manera similar a las listas, con la diferencia de que estas son inmutables (es decir, no pueden ser modificadas, no es posible agregar, eliminar, actualizar elementos)"
   ]
  },
  {
   "cell_type": "code",
   "execution_count": null,
   "id": "64717c99",
   "metadata": {},
   "outputs": [],
   "source": [
    "# Ejemplo de creación de Tuplas\n",
    "\n",
    "tupla = (1, 2, 3) #A diferencia de la lista, la tupla es con parentesis () y no con corchete []\n"
   ]
  },
  {
   "cell_type": "code",
   "execution_count": null,
   "id": "6e1fbbcb",
   "metadata": {},
   "outputs": [],
   "source": [
    "# De la misma manera que con las listas, las tuplas pueden combinarse o ser anidadas\n",
    "\n",
    "tupla = 1, 2, ('a', 'b'), 3\n",
    "print(tupla)"
   ]
  },
  {
   "cell_type": "markdown",
   "id": "1bbc332b",
   "metadata": {},
   "source": [
    "De la misma manera que en las listas, en las tuplas permite acceder a sus valores por medio de las posiciones, ejemplo:"
   ]
  },
  {
   "cell_type": "code",
   "execution_count": 2,
   "id": "948333f9",
   "metadata": {},
   "outputs": [
    {
     "name": "stdout",
     "output_type": "stream",
     "text": [
      "2\n"
     ]
    }
   ],
   "source": [
    "tupla = (1,2,3)\n",
    "print(tupla[1])"
   ]
  },
  {
   "cell_type": "markdown",
   "id": "c21cd7c7",
   "metadata": {},
   "source": [
    "Una lista puede convertirse en una tupla, conservando su misma estructura y siendo accedida por posición de la misma manera que el ejemplo anterior:"
   ]
  },
  {
   "cell_type": "code",
   "execution_count": 6,
   "id": "900c07b2",
   "metadata": {},
   "outputs": [
    {
     "name": "stdout",
     "output_type": "stream",
     "text": [
      "(1, 2, 3)\n"
     ]
    }
   ],
   "source": [
    "lista = [1, 2, 3]\n",
    "tupla = tuple(lista)\n",
    "print(tupla)"
   ]
  },
  {
   "cell_type": "markdown",
   "id": "6fe3b2a0",
   "metadata": {},
   "source": [
    "Para encontrar la cantidad de veces que se encuentra un valor en una tupla ejecutar (el método count también aplica para listas)"
   ]
  },
  {
   "cell_type": "code",
   "execution_count": 8,
   "id": "5e0577d8",
   "metadata": {},
   "outputs": [
    {
     "name": "stdout",
     "output_type": "stream",
     "text": [
      "4\n"
     ]
    }
   ],
   "source": [
    "tupla = (1, 2, 3,5,6,3,7,8,3,4,3)\n",
    "print(tupla.count(3))\n"
   ]
  },
  {
   "cell_type": "markdown",
   "id": "b96dd29f",
   "metadata": {},
   "source": [
    "Con index es posible indicar desde que posición de la tupla se iniciará la busqueda, además del valor a buscar  \n",
    "\n",
    "`tupla.index(valor a buscar, inicio de la búsqueda)`"
   ]
  },
  {
   "cell_type": "code",
   "execution_count": 10,
   "id": "4a1c62fe",
   "metadata": {
    "scrolled": true
   },
   "outputs": [
    {
     "name": "stdout",
     "output_type": "stream",
     "text": [
      "2\n"
     ]
    }
   ],
   "source": [
    "tupla = [7, 7, 7, 3, 5, 7, 0, 9, 7]\n",
    "print(tupla.index(7,2))"
   ]
  },
  {
   "cell_type": "markdown",
   "id": "bb66dc4d",
   "metadata": {},
   "source": [
    "### Poniendo en práctica las tuplas\n",
    "\n",
    "1. Crea una tupla combinada que contenga 5 número, 3 letras y 2 booleanos, las letras deben hacer parte de una subtupla\n",
    "2. Accede a la primera y última posición de la tupla e imprime los valores\n",
    "3. Crea 3 tuplas más con los valores que desees, una con 10 elementos, otra con 5 y otra con 8. Compara estas tuplas con la anterior y encuentra la que tiene mayor cantidad de elementos."
   ]
  },
  {
   "cell_type": "markdown",
   "id": "f0cc3d3a",
   "metadata": {},
   "source": [
    "### Diccionarios"
   ]
  },
  {
   "cell_type": "markdown",
   "id": "c880c91e",
   "metadata": {},
   "source": [
    "Los diccionarios permiten almacenar información de tipo llave valor  \n",
    "\n",
    "`{llave:valor}` -- `{numero: 1}`\n",
    "\n",
    "Permite almacenar valores de diferentes valores ordenados en cualquier orden. En un diccionario es posible añadir elementos, borrar, mostrar y editar.\n"
   ]
  },
  {
   "cell_type": "code",
   "execution_count": 4,
   "id": "3a9832a0",
   "metadata": {},
   "outputs": [
    {
     "name": "stdout",
     "output_type": "stream",
     "text": [
      "{'Nombre': 'Pepe', 'Clase': 'Biologia', 'nota': 4.3}\n"
     ]
    }
   ],
   "source": [
    "#Creación de un diccionario\n",
    "\n",
    "diccionario = {\n",
    "  \"Nombre\": \"Pepe\",\n",
    "  \"Clase\": \"Biologia\",\n",
    "  \"nota\": 4.3\n",
    "}\n",
    "print(diccionario)"
   ]
  },
  {
   "cell_type": "markdown",
   "id": "bb99dc69",
   "metadata": {},
   "source": [
    "Los diccionarios pueden crearse a partir de tuplas, por ejemplo"
   ]
  },
  {
   "cell_type": "code",
   "execution_count": 5,
   "id": "22dc2224",
   "metadata": {},
   "outputs": [
    {
     "name": "stdout",
     "output_type": "stream",
     "text": [
      "{'materia1': 'Biología', 'materia2': 'Quimica', 'materia3': 'Programación'}\n"
     ]
    }
   ],
   "source": [
    "diccionario = dict([\n",
    "      ('materia1', 'Biología'),\n",
    "      ('materia2', 'Quimica'),\n",
    "      ('materia3', 'Programación'),\n",
    "])\n",
    "print(diccionario)"
   ]
  },
  {
   "cell_type": "markdown",
   "id": "bd9a40e6",
   "metadata": {},
   "source": [
    "Al igual que las listas y tuplas, los diccionarios pueden ser creados usando la función `dict`y pasandole parametros `dict(Nombre='Bilogía', Nota=4.0)`"
   ]
  },
  {
   "cell_type": "markdown",
   "id": "184bc661",
   "metadata": {},
   "source": [
    "Maneras de interactuar con diccionarios:"
   ]
  },
  {
   "cell_type": "code",
   "execution_count": 6,
   "id": "05478b9b",
   "metadata": {},
   "outputs": [
    {
     "name": "stdout",
     "output_type": "stream",
     "text": [
      "Biología\n"
     ]
    }
   ],
   "source": [
    "#Acceder a los elementos de un diccionario\n",
    "print(diccionario['materia1'])"
   ]
  },
  {
   "cell_type": "code",
   "execution_count": 7,
   "id": "01a82cf4",
   "metadata": {},
   "outputs": [
    {
     "name": "stdout",
     "output_type": "stream",
     "text": [
      "dict_items([('materia1', 'Biología'), ('materia2', 'Quimica'), ('materia3', 'Programación')])\n"
     ]
    }
   ],
   "source": [
    "#Obtener todos los elementos de un diccionario\n",
    "print(diccionario.items())"
   ]
  },
  {
   "cell_type": "code",
   "execution_count": 8,
   "id": "516a30b3",
   "metadata": {},
   "outputs": [
    {
     "name": "stdout",
     "output_type": "stream",
     "text": [
      "dict_keys(['materia1', 'materia2', 'materia3'])\n"
     ]
    }
   ],
   "source": [
    "#Obtener solo las llaves de un diccionario\n",
    "print(diccionario.keys())"
   ]
  },
  {
   "cell_type": "code",
   "execution_count": 9,
   "id": "99363058",
   "metadata": {},
   "outputs": [
    {
     "name": "stdout",
     "output_type": "stream",
     "text": [
      "dict_values(['Biología', 'Quimica', 'Programación'])\n"
     ]
    }
   ],
   "source": [
    "#Obtener solo los valores de un diccionario\n",
    "print(diccionario.values())"
   ]
  },
  {
   "cell_type": "code",
   "execution_count": 11,
   "id": "9ae97314",
   "metadata": {},
   "outputs": [
    {
     "name": "stdout",
     "output_type": "stream",
     "text": [
      "{'materia2': 'Quimica', 'materia3': 'Programación'}\n"
     ]
    }
   ],
   "source": [
    "#Eliminar un item de un diccionario según su llave\n",
    "diccionario.pop('materia1')\n",
    "print(diccionario)"
   ]
  },
  {
   "cell_type": "code",
   "execution_count": 25,
   "id": "4d0548ff",
   "metadata": {},
   "outputs": [
    {
     "name": "stdout",
     "output_type": "stream",
     "text": [
      "{'materia1': 'Biología', 'materia2': 'Quimica'}\n"
     ]
    }
   ],
   "source": [
    "#Eliminar el último elemento de un diccionario\n",
    "diccionario = dict([\n",
    "      ('materia1', 'Biología'),\n",
    "      ('materia2', 'Quimica'),\n",
    "      ('materia3', 'Programación')\n",
    "])\n",
    "\n",
    "diccionario.popitem()\n",
    "print(diccionario)"
   ]
  },
  {
   "cell_type": "code",
   "execution_count": 26,
   "id": "afa72693",
   "metadata": {},
   "outputs": [
    {
     "name": "stdout",
     "output_type": "stream",
     "text": [
      "{'materia1': 'Biología', 'materia2': 'Cálculo'}\n"
     ]
    }
   ],
   "source": [
    "#Modificar valores de un diccionario\n",
    "diccionario['materia2'] = 'Cálculo'\n",
    "print(diccionario)"
   ]
  },
  {
   "cell_type": "code",
   "execution_count": 21,
   "id": "0d76eba9",
   "metadata": {},
   "outputs": [
    {
     "name": "stdout",
     "output_type": "stream",
     "text": [
      "{}\n"
     ]
    }
   ],
   "source": [
    "#Limpiar un diccionario\n",
    "diccionario.clear()\n",
    "print(diccionario)"
   ]
  },
  {
   "cell_type": "markdown",
   "id": "e00e2e46",
   "metadata": {},
   "source": [
    "### Poniendo en práctica los diccionarios\n",
    "\n",
    "1. Crea un diccionario donde almacenes la información de tus clases (5) vistas este semestre como nombre materia, nombre de profesor y horario\n",
    "2. Agrega al diccionario los campos necesarios para conocer el nombre del edificio y número del salón de clase\n",
    "3. Elimina el primer y último elemento del diccionario\n",
    "4. Crea un diccionario con listas de nombres de verduras y frutas (10), separadas por el color. Estructura esperada `{rojo: [\"manzana\", \"tomate\"]}` "
   ]
  },
  {
   "cell_type": "markdown",
   "id": "382f255c",
   "metadata": {},
   "source": [
    "### Práctica con estructuras de datos"
   ]
  },
  {
   "cell_type": "markdown",
   "id": "51eb78f3",
   "metadata": {},
   "source": [
    "**Referencias**\n",
    "\n",
    "Lenguajes de programación: https://programas.cuaed.unam.mx/repositorio/moodle/pluginfile.php/1023/mod_resource/content/1/contenido/index.html  \n",
    "¿Qué es Python?: https://ellibrodepython.com/que-es-python  \n",
    "Descargar e instalar Python: https://ellibrodepython.com/descargar-instalar-python  \n",
    "A Python book: Beginning python, advanced python and python exercises, D Kuhlman, 2009\""
   ]
  }
 ],
 "metadata": {
  "kernelspec": {
   "display_name": "Python 3 (ipykernel)",
   "language": "python",
   "name": "python3"
  },
  "language_info": {
   "codemirror_mode": {
    "name": "ipython",
    "version": 3
   },
   "file_extension": ".py",
   "mimetype": "text/x-python",
   "name": "python",
   "nbconvert_exporter": "python",
   "pygments_lexer": "ipython3",
   "version": "3.9.6"
  }
 },
 "nbformat": 4,
 "nbformat_minor": 5
}
