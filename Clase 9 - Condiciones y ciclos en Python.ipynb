{
 "cells": [
  {
   "cell_type": "markdown",
   "id": "dc51bb45",
   "metadata": {},
   "source": [
    "# Clase 9 - Condiciones y ciclos en Python\n",
    "\n",
    "\n",
    "### Corte 2 - Introducción a python\n",
    "* Mi primer programa en python ✅\n",
    "* Tipos y condiciones ✅\n",
    "* ciclos y patrones\n",
    "* Operaciones y estructuras de datos\n",
    "* Funciones y modularidad\n",
    "* Programación orientada a objetos\n",
    "* Reúso de código"
   ]
  },
  {
   "cell_type": "markdown",
   "id": "1efd4ca8",
   "metadata": {},
   "source": [
    "**Antes de continuar con los temas relacionados a los ciclos, vamos a la clase 8 a la sección de condiciones y estudiemos los conceptos que allí se nos muestran**"
   ]
  },
  {
   "cell_type": "markdown",
   "id": "49db8b2d",
   "metadata": {},
   "source": [
    "### Hora de poner en práctica lo aprendido\n",
    "\n",
    "- Captura datos de un usuario a través de la consola, y valida el valor para así crear un menú de opciones, si el texto ingresado es A, mostrar el mensaje \"Opción de Registro\", si es B mostrar \"Opción de Login\", si es C o cualquier otra letra indicar que no es valida la opción para el inicio de sesión.\n",
    "- Capture 2 número y sumelos, para la resta valide que el número A sea mayor que el número B, de lo contrario la resta debería ser B - A (Esto para evitar número negativos). Luego pida nuevamente un número y realice la multiplicación entre el valor de la resta y el digito acabado de ingresar. Ingrese nuevamente un número D y valide si es menor o mayor a C. En caso de que D sea mayor deberá ser el dividendo, el menor debe ser el divisor."
   ]
  },
  {
   "cell_type": "markdown",
   "id": "1bb0562b",
   "metadata": {},
   "source": [
    "## ¿Qué son los ciclos?\n",
    "\n",
    "A un ciclo en programación se le conoce también como bucle. Un bloque o ciclo consiste en la ejecución de una porción de código n número de veces hasta cumplir un criterio que finalice el proceso. Para considerar que un fragmento de código es bucle, debe cumplir las siguientes características:\n",
    "\n",
    "- Debe contar con una condición\n",
    "- Si la condición se cumple se debe ejecutar el bloque de código\n",
    "- El bucle no finaliza hasta que la condición no deje de cumplirse\n",
    "\n",
    "\n",
    "### ¿Cuáles ciclos o bucles tenemos en programación específicamente Python?\n",
    "\n",
    "For, while\n",
    "\n",
    "### ¿Qué otras estructuras de control tenemos en Python?\n",
    "\n",
    "Continue, Break, range"
   ]
  },
  {
   "cell_type": "markdown",
   "id": "2137c148",
   "metadata": {},
   "source": [
    "## Bucle While\n",
    "\n",
    "El bucle while permite ejecutar una porción de código repetidas veces. El código se ejecutará mientras una condición se cumpla. Cuando la condición se deje de cumplir, se saldrá del bucle y se continuará la ejecución normal del resto del código. Llamaremos iteración a una ejecución completa del bloque de código.  \n",
    "\n",
    "Ejemplo:"
   ]
  },
  {
   "cell_type": "code",
   "execution_count": 1,
   "id": "eac5f271",
   "metadata": {},
   "outputs": [
    {
     "name": "stdout",
     "output_type": "stream",
     "text": [
      "El número es: 10\n",
      "El número es: 9\n",
      "El número es: 8\n",
      "El número es: 7\n",
      "El número es: 6\n",
      "El número es: 5\n",
      "El número es: 4\n",
      "El número es: 3\n",
      "El número es: 2\n",
      "El número es: 1\n"
     ]
    }
   ],
   "source": [
    "numero = 10\n",
    "while numero > 0:\n",
    "    print(\"El número es: \" + str(numero))\n",
    "    numero = numero -1"
   ]
  },
  {
   "cell_type": "markdown",
   "id": "c4c22bad",
   "metadata": {},
   "source": [
    "## Bucle FOR\n",
    "\n",
    "El bucle for a pesar de ser similar al while (permite ejecutar una porción de código repetidas veces), cuanta con las siguientes características que lo hace diferente:\n",
    "\n",
    "- El número de ejecuciones está definido, mientras que en el while NO (en el buble while es muy fácil generar un ciclo infinito)\n",
    "- En el bucle for no se evalua una condición, sino que se cuenta con un iterador que define el número de veces que se ejecutará el código.\n",
    "- Es útil para recorrer arreglos (los arreglos aún no los hemos visto, serán vistos en la clase de estructuras de datos)"
   ]
  },
  {
   "cell_type": "code",
   "execution_count": 2,
   "id": "d32563b0",
   "metadata": {},
   "outputs": [
    {
     "name": "stdout",
     "output_type": "stream",
     "text": [
      "P\n",
      "y\n",
      "t\n",
      "h\n",
      "o\n",
      "n\n"
     ]
    }
   ],
   "source": [
    "for i in \"Python\":\n",
    "    print(i)"
   ]
  },
  {
   "cell_type": "code",
   "execution_count": 4,
   "id": "e6256fd9",
   "metadata": {},
   "outputs": [
    {
     "name": "stdout",
     "output_type": "stream",
     "text": [
      "0\n",
      "1\n",
      "2\n",
      "3\n",
      "4\n"
     ]
    }
   ],
   "source": [
    "for i in range(0, 5):\n",
    "    print(i)"
   ]
  },
  {
   "cell_type": "markdown",
   "id": "14a7c7c7",
   "metadata": {},
   "source": [
    "Formas de iterar de manera incorrecta:"
   ]
  },
  {
   "cell_type": "code",
   "execution_count": 5,
   "id": "642fcebd",
   "metadata": {},
   "outputs": [
    {
     "ename": "TypeError",
     "evalue": "'int' object is not iterable",
     "output_type": "error",
     "traceback": [
      "\u001b[1;31m---------------------------------------------------------------------------\u001b[0m",
      "\u001b[1;31mTypeError\u001b[0m                                 Traceback (most recent call last)",
      "\u001b[1;32m~\\AppData\\Local\\Temp/ipykernel_19752/1937688437.py\u001b[0m in \u001b[0;36m<module>\u001b[1;34m\u001b[0m\n\u001b[0;32m      1\u001b[0m \u001b[0mnumero\u001b[0m \u001b[1;33m=\u001b[0m \u001b[1;36m10\u001b[0m\u001b[1;33m\u001b[0m\u001b[1;33m\u001b[0m\u001b[0m\n\u001b[1;32m----> 2\u001b[1;33m \u001b[1;32mfor\u001b[0m \u001b[0mi\u001b[0m \u001b[1;32min\u001b[0m \u001b[0mnumero\u001b[0m\u001b[1;33m:\u001b[0m\u001b[1;33m\u001b[0m\u001b[1;33m\u001b[0m\u001b[0m\n\u001b[0m\u001b[0;32m      3\u001b[0m     \u001b[0mprint\u001b[0m\u001b[1;33m(\u001b[0m\u001b[0mi\u001b[0m\u001b[1;33m)\u001b[0m\u001b[1;33m\u001b[0m\u001b[1;33m\u001b[0m\u001b[0m\n",
      "\u001b[1;31mTypeError\u001b[0m: 'int' object is not iterable"
     ]
    }
   ],
   "source": [
    "numero = 10\n",
    "for i in numero:\n",
    "    print(i)"
   ]
  },
  {
   "cell_type": "markdown",
   "id": "d7536119",
   "metadata": {},
   "source": [
    "## Range\n",
    "\n",
    "El range permite generar un rango de números que luego podrán ser utilizados para iterar. El rango puede ir de 0 a n."
   ]
  },
  {
   "cell_type": "code",
   "execution_count": 8,
   "id": "d973c2ad",
   "metadata": {},
   "outputs": [
    {
     "name": "stdout",
     "output_type": "stream",
     "text": [
      "0\n",
      "1\n",
      "2\n",
      "3\n",
      "4\n",
      "5\n",
      "6\n",
      "7\n",
      "8\n",
      "9\n",
      "10\n",
      "11\n",
      "12\n",
      "13\n",
      "14\n",
      "15\n",
      "16\n",
      "17\n",
      "18\n",
      "19\n"
     ]
    }
   ],
   "source": [
    "for i in range(20):\n",
    "    print(i) #0, 1, 2, 3, 4, ..., 20"
   ]
  },
  {
   "cell_type": "code",
   "execution_count": 9,
   "id": "7c8ed23f",
   "metadata": {},
   "outputs": [
    {
     "name": "stdout",
     "output_type": "stream",
     "text": [
      "5\n",
      "7\n",
      "9\n",
      "11\n",
      "13\n",
      "15\n",
      "17\n",
      "19\n"
     ]
    }
   ],
   "source": [
    "# Range con saltos\n",
    "\n",
    "for i in range(5, 20, 2):\n",
    "    print(i) #5,7,9,11,13,15,17,19"
   ]
  },
  {
   "cell_type": "markdown",
   "id": "4509aa5e",
   "metadata": {},
   "source": [
    "## Break\n",
    "\n",
    "El comando o sentencia break nos permite alterar el comportamiento de los bucles while y for, finalizando la ejecución de un bucle.\n"
   ]
  },
  {
   "cell_type": "code",
   "execution_count": 11,
   "id": "60de7838",
   "metadata": {},
   "outputs": [
    {
     "name": "stdout",
     "output_type": "stream",
     "text": [
      "1\n"
     ]
    }
   ],
   "source": [
    "for i in range(1,5):\n",
    "    print(i)\n",
    "    break"
   ]
  },
  {
   "cell_type": "code",
   "execution_count": 13,
   "id": "a370b21b",
   "metadata": {},
   "outputs": [
    {
     "name": "stdout",
     "output_type": "stream",
     "text": [
      "P\n",
      "y\n",
      "t\n",
      "Se encontró la h\n"
     ]
    }
   ],
   "source": [
    "cadena = 'Python'\n",
    "for letra in cadena:\n",
    "    if letra == 'h':\n",
    "        print(\"Se encontró la h\")\n",
    "        break\n",
    "    print(letra)"
   ]
  },
  {
   "cell_type": "code",
   "execution_count": 14,
   "id": "d63ecbca",
   "metadata": {},
   "outputs": [
    {
     "name": "stdout",
     "output_type": "stream",
     "text": [
      "4\n",
      "Fin del bucle\n",
      "3\n",
      "Fin del bucle\n",
      "2\n",
      "Fin del bucle\n",
      "1\n",
      "Fin del bucle\n",
      "0\n"
     ]
    }
   ],
   "source": [
    "x = 5\n",
    "while True:\n",
    "    x -= 1\n",
    "    print(x)\n",
    "    if x == 0:\n",
    "        break\n",
    "    print(\"Fin del bucle\")"
   ]
  },
  {
   "cell_type": "markdown",
   "id": "9500915d",
   "metadata": {},
   "source": [
    "## Continue\n",
    "\n",
    "La sentencia `continue`, modifica el comportamiento de los bucles al igual que lo hace el `break`. Esta sentencia se salta todo el código de la iteración que este por debajo de esta instrucción, volviendo a iniciar la instrucción.\n",
    "\n",
    "La diferencia entre el break y continue es que el continue no rompe el bucle, si no que pasa a la siguiente iteración saltando el código pendiente."
   ]
  },
  {
   "cell_type": "code",
   "execution_count": 15,
   "id": "013a98ea",
   "metadata": {},
   "outputs": [
    {
     "name": "stdout",
     "output_type": "stream",
     "text": [
      "y\n",
      "t\n",
      "h\n",
      "o\n",
      "n\n"
     ]
    }
   ],
   "source": [
    "cadena = 'Python'\n",
    "for letra in cadena:\n",
    "    if letra == 'P':\n",
    "        continue\n",
    "    print(letra)"
   ]
  },
  {
   "cell_type": "markdown",
   "id": "8a98d949",
   "metadata": {},
   "source": [
    "### Ejercicios de práctica\n",
    "\n",
    "- Crea un rango de números del 1 al 100 donde valides si este es par o impar, si el número es par deberás hacer un continue, de lo contrario mostrar un mensaje con el número. El resultado de este ejercicio es obtener todos los números impares del 1 a 100\n",
    "- Reciba dos número en pantalla y realice la suma de ambos números, siga sumando los números ingresados con el resultado de la suma hasta que el resultado sea mayor a 100. Rompa el ciclo con break si uno de los 2 números es mayor o igual a 40\n",
    "- Ingrese una cadena de texto por consola y muestre cada letra de manera independiente haciendo uso del for, luego, cuando finalice el ciclo, muestre el tamaño del texto insertado. Las palabras que inserte deben ser mayores a 5 caracteres, haga una validación para garantizar esto"
   ]
  },
  {
   "cell_type": "markdown",
   "id": "d2747827",
   "metadata": {},
   "source": [
    "### Importante:\n",
    "\n",
    "Antes de finalizar la clase, no olvides subir el script de práctica de la clase al repositorio de GITHUB, para que practiques los conocimientos adquiridos previamente en esta herramienta. Debes validar con tu profesor que los "
   ]
  },
  {
   "cell_type": "markdown",
   "id": "22efbe7c",
   "metadata": {},
   "source": [
    "**Referencias**\n",
    "\n",
    "Lenguajes de programación: https://programas.cuaed.unam.mx/repositorio/moodle/pluginfile.php/1023/mod_resource/content/1/contenido/index.html\n",
    "¿Qué es Python?: https://ellibrodepython.com/que-es-python\n",
    "Descargar e instalar Python: https://ellibrodepython.com/descargar-instalar-python\n",
    "A Python book: Beginning python, advanced python and python exercises, D Kuhlman, 2009\""
   ]
  },
  {
   "cell_type": "code",
   "execution_count": null,
   "id": "5dd88582",
   "metadata": {},
   "outputs": [],
   "source": []
  }
 ],
 "metadata": {
  "kernelspec": {
   "display_name": "Python 3 (ipykernel)",
   "language": "python",
   "name": "python3"
  },
  "language_info": {
   "codemirror_mode": {
    "name": "ipython",
    "version": 3
   },
   "file_extension": ".py",
   "mimetype": "text/x-python",
   "name": "python",
   "nbconvert_exporter": "python",
   "pygments_lexer": "ipython3",
   "version": "3.9.6"
  }
 },
 "nbformat": 4,
 "nbformat_minor": 5
}
