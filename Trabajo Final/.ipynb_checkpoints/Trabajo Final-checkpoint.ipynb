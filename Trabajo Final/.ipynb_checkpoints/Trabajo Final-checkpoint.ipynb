{
 "cells": [
  {
   "cell_type": "markdown",
   "id": "b36a7704",
   "metadata": {},
   "source": [
    "# Trabajo Final\n",
    "\n",
    "\n",
    "En este trabajo final, realizaremos un pequeño videojuego que nos permitirá aplicar todo lo visto en clase, desde un diagrama de flujo, hasta variables, condiciones, funciones, ciclos y clases.\n",
    "\n",
    "Este trabajo será en parejas y consiste de tres partes.\n",
    "\n",
    "1. Diagrama de flujo de flujo, donde se detalle el comportamiento del juego\n",
    "2. Programación del juego, se entregará el código fuente del mismo, en un archivo .zip con la siguiente estructura, apellido1_apellido2.zip\n",
    "3. Sustentación de lo realizado y explicación de lo programado, utilizando como apoyo recursos multimedia como presentación en powerpoint.\n",
    "\n",
    "**Fecha de entrega**: 18 de noviembre, en el horario de la clase"
   ]
  },
  {
   "cell_type": "markdown",
   "id": "28f75649",
   "metadata": {},
   "source": [
    "## Sinopsis del videojuego\n",
    "\n",
    "El reino de los virus y bacterias es un universo desconocido para los seres humanos, ya que son tan diminutos que son casi imperceptibles para el entorno en el que están presentes. Sin embargo, muchos de ellos son tan peligrosos que pueden causar efectos devastadores.\n",
    "\n",
    "Un equipo de cientificos, biólogos y químicos, se encuentran frente una amenaza desconocida, donde deberán luchar con diversos virus y bacterias que han afectado numerosos cultivos en todo el mundo. Por medio de compuestos químicos buscarán destruirlos y devolver la tranquilidad al planeta tierra, y demostrar una vez más el poder de la ciencia."
   ]
  },
  {
   "cell_type": "markdown",
   "id": "b9205dcd",
   "metadata": {},
   "source": [
    "### Estructura del videojuego\n",
    "\n",
    "\n",
    "El videojuego a nivel de programación debe contener:\n",
    "\n",
    "- Clase personaje\n",
    "- Atributos del personaje (nombre, ataque, vida)\n",
    "- Equipo de personajes (cientifico, biologo, quimico)\n",
    "- Enemigo aleatorio (virus, bacteria)\n",
    "- Menú de selección\n",
    "- Campo de batalla"
   ]
  },
  {
   "attachments": {
    "Screenshot_58.png": {
     "image/png": "[encoded data removed]"
    }
   },
   "cell_type": "markdown",
   "id": "f6354e33",
   "metadata": {},
   "source": [
    "### Definición del videojuego\n",
    "\n",
    "1. El jugador deberá escoger si desea atacar o salir del menu de opciones y cerrar el videojuego\n",
    "\n",
    "![Screenshot_58.png](attachment:Screenshot_58.png)\n",
    "\n",
    "\n"
   ]
  },
  {
   "attachments": {
    "Screenshot_60.png": {
     "image/png": "[encoded data removed]"
    }
   },
   "cell_type": "markdown",
   "id": "a0b37e00",
   "metadata": {},
   "source": [
    "2. Al escoger la opción **Atacar**, el usuario deberá seleccionar con que personaje se quiere enfrentar al enemigo (virus / bacteria)\n",
    "\n",
    "![Screenshot_60.png](attachment:Screenshot_60.png)"
   ]
  },
  {
   "attachments": {
    "Screenshot_61.png": {
     "image/png": "[encoded data removed]"
    }
   },
   "cell_type": "markdown",
   "id": "094ddb8e",
   "metadata": {},
   "source": [
    "3. Se deberá mostrar las características del enemigo, el cual se seleccionará de manera aleatoria\n",
    "\n",
    "![Screenshot_61.png](attachment:Screenshot_61.png)"
   ]
  },
  {
   "attachments": {
    "Screenshot_62.png": {
     "image/png": "[encoded data removed]"
    }
   },
   "cell_type": "markdown",
   "id": "7c2265d5",
   "metadata": {},
   "source": [
    "4. Ganar o perder en el campo de batalla es cuestión de suerte, todo ocurre de manera aleatoria, en el caso de que el uno de los miembros del equipo gane frente al microorganismo malvado, se deberá mostrar lo siguiente en pantalla\n",
    "\n",
    "![Screenshot_62.png](attachment:Screenshot_62.png)"
   ]
  },
  {
   "cell_type": "code",
   "execution_count": null,
   "id": "151faa07",
   "metadata": {},
   "outputs": [],
   "source": []
  }
 ],
 "metadata": {
  "kernelspec": {
   "display_name": "Python 3 (ipykernel)",
   "language": "python",
   "name": "python3"
  },
  "language_info": {
   "codemirror_mode": {
    "name": "ipython",
    "version": 3
   },
   "file_extension": ".py",
   "mimetype": "text/x-python",
   "name": "python",
   "nbconvert_exporter": "python",
   "pygments_lexer": "ipython3",
   "version": "3.9.6"
  }
 },
 "nbformat": 4,
 "nbformat_minor": 5
}
