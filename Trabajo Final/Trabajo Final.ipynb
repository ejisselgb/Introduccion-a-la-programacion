{
 "cells": [
  {
   "cell_type": "markdown",
   "id": "b36a7704",
   "metadata": {},
   "source": [
    "# Trabajo Final\n",
    "\n",
    "\n",
    "En este trabajo final, realizaremos un pequeño videojuego que nos permitirá aplicar todo lo visto en clase, desde un diagrama de flujo, hasta variables, condiciones, funciones, ciclos y clases.\n",
    "\n",
    "Este trabajo será en parejas y consiste de tres partes.\n",
    "\n",
    "1. Diagrama de flujo de flujo, donde se detalle el comportamiento del juego\n",
    "2. Programación del juego, se entregará el código fuente del mismo, en un archivo .zip con la siguiente estructura, apellido1_apellido2.zip\n",
    "3. Sustentación de lo realizado y explicación de lo programado, utilizando como apoyo recursos multimedia como presentación en powerpoint.\n",
    "\n",
    "**Fecha de entrega**: 18 de noviembre, en el horario de la clase"
   ]
  },
  {
   "cell_type": "markdown",
   "id": "28f75649",
   "metadata": {},
   "source": [
    "## Sinopsis del videojuego\n",
    "\n",
    "El reino de los virus y bacterias es un universo desconocido para los seres humanos, ya que son tan diminutos que son casi imperceptibles para el entorno en el que están presentes. Sin embargo, muchos de ellos son tan peligrosos que pueden causar efectos devastadores.\n",
    "\n",
    "Un equipo de cientificos, biólogos y químicos, se encuentran frente una amenaza desconocida, donde deberán luchar con diversos virus y bacterias que han afectado numerosos cultivos en todo el mundo. Por medio de compuestos químicos buscarán destruirlos y devolver la tranquilidad al planeta tierra, y demostrar una vez más el poder de la ciencia."
   ]
  },
  {
   "cell_type": "markdown",
   "id": "b9205dcd",
   "metadata": {},
   "source": [
    "### Estructura del videojuego\n",
    "\n",
    "\n",
    "El videojuego a nivel de programación debe contener:\n",
    "\n",
    "- Clase personaje\n",
    "- Atributos del personaje (nombre, ataque, vida)\n",
    "- Equipo de personajes (cientifico, biologo, quimico)\n",
    "- Enemigo aleatorio (virus, bacteria)\n",
    "- Menú de selección\n",
    "- Campo de batalla"
   ]
  },
  {
   "attachments": {
    "Screenshot_58.png": {
     "image/png": "[encoded data removed]"
    }
   },
   "cell_type": "markdown",
   "id": "63858c59",
   "metadata": {},
   "source": [
    "### Definición del videojuego\n",
    "\n",
    "1. El jugador deberá escoger si desea atacar o salir del menu de opciones y cerrar el videojuego\n",
    "\n",
    "![Screenshot_58.png](attachment:Screenshot_58.png)\n",
    "\n",
    "\n"
   ]
  },
  {
   "attachments": {
    "Screenshot_60.png": {
     "image/png": "[encoded data removed]"
    }
   },
   "cell_type": "markdown",
   "id": "9da553e7",
   "metadata": {},
   "source": [
    "2. Al escoger la opción **Atacar**, el usuario deberá seleccionar con que personaje se quiere enfrentar al enemigo (virus / bacteria)\n",
    "\n",
    "![Screenshot_60.png](attachment:Screenshot_60.png)"
   ]
  },
  {
   "attachments": {
    "Screenshot_61.png": {
     "image/png": "[encoded data removed]"
    }
   },
   "cell_type": "markdown",
   "id": "b019dacd",
   "metadata": {},
   "source": [
    "3. Se deberá mostrar las características del enemigo, el cual se seleccionará de manera aleatoria\n",
    "\n",
    "![Screenshot_61.png](attachment:Screenshot_61.png)"
   ]
  },
  {
   "attachments": {
    "Screenshot_62.png": {
     "image/png": "[encoded data removed]"
    }
   },
   "cell_type": "markdown",
   "id": "b74a60a1",
   "metadata": {},
   "source": [
    "4. Ganar o perder en el campo de batalla es cuestión de suerte, todo ocurre de manera aleatoria, en el caso de que el uno de los miembros del equipo gane frente al microorganismo malvado, se deberá mostrar lo siguiente en pantalla\n",
    "\n",
    "![Screenshot_62.png](attachment:Screenshot_62.png)\n",
    "\n",
    "En caso de perder frente a un microorganismo se mostrará:"
   ]
  },
  {
   "attachments": {
    "Screenshot_63.png": {
     "image/png": "[encoded data removed]"
    }
   },
   "cell_type": "markdown",
   "id": "9080402d",
   "metadata": {},
   "source": [
    "![Screenshot_63.png](attachment:Screenshot_63.png)"
   ]
  },
  {
   "attachments": {
    "Screenshot_64.png": {
     "image/png": "[encoded data removed]"
    }
   },
   "cell_type": "markdown",
   "id": "3b993912",
   "metadata": {},
   "source": [
    "5. Si el usuario ingresa una opción de personaje no válida se deberá mostrar\n",
    "\n",
    "![Screenshot_64.png](attachment:Screenshot_64.png)"
   ]
  },
  {
   "cell_type": "markdown",
   "id": "cb6ec163",
   "metadata": {},
   "source": [
    "6. Si en las opciones iniciales del videojuego donde es posible seleccionar si se desea Atacar o Salir, al seleccionar la opción **Salir** se deberá terminar el juego. Esto también ocurrirá si la opción seleccionada es diferente de 1 --> **Atacar**"
   ]
  },
  {
   "cell_type": "markdown",
   "id": "4dcb2943",
   "metadata": {},
   "source": [
    "### Pistas para el desarrollo del videojuego\n",
    "\n",
    "1. Analizar el comportamiento del videojuego y plasmarlo en el diagrama de flujo antes de iniciar el desarrollo, pensar únicamente en el comportamiento, antes de pasar a la etapa de desarrollo y programación para tener mayor claridad en la idea.\n",
    "\n",
    "2. Crear una clase personaje que cuente con un método constructor donde se definan los atributos de nombre, ataque, vida.\n",
    "\n",
    "3. La clase personaje debe tener los siguientes métodos:\n",
    "    3.1 getCaracteristicas, el cual permitirá obtener por medio de un print el nombre del\n",
    "        personaje, sus posibilidades de ataque y vida (la vida para todos los personajes es de\n",
    "        100)\n",
    "    3.2 getAtaque, método encargado de calcular el daño que hace el personaje\n",
    "    3.3 recibirAtaque, método encargado de restar la vida del personaje cada que recibe un golpe \n",
    "        o ataque\n",
    "\n",
    "4. Se debe hacer uso del import random para generar el ataque de manera dinámica, esto es necesario ya que si el valor del ataque del enemigo está entre 10 y 30, corresponde a una bacteria, pero si es mayor a 30 y menor que 50, el enemigo es un virus.\n",
    "\n",
    "5. el valor del ataque también será aleatorio, en la función que cálcula el daño que hace el personaje, se le agregará además un valor random que permitirá que el enemigo o el personaje principal sea más fuerte. Ejemplo: "
   ]
  },
  {
   "cell_type": "code",
   "execution_count": 5,
   "id": "d66a7543",
   "metadata": {},
   "outputs": [
    {
     "name": "stdout",
     "output_type": "stream",
     "text": [
      "25\n"
     ]
    }
   ],
   "source": [
    "import random\n",
    "\n",
    "ataqueAleatorio = random.randint(0,10)\n",
    "ataqueBasePersonaje = 20\n",
    "\n",
    "golpeFinal = ataqueBasePersonaje + ataqueAleatorio\n",
    "\n",
    "print(golpeFinal)\n",
    "\n",
    "#Según el código anterior, el personaje puede tener más o menor fuerza según el valor del random"
   ]
  },
  {
   "cell_type": "markdown",
   "id": "89443707",
   "metadata": {},
   "source": [
    "6. Se deberá tener un diccionario con la siguiente estructura:\n",
    "\n",
    "`equipo = {\"cientifico\": cientifico, \"biologo\": biologo, \"quimico\": quimico}`\n",
    "\n",
    "7. El científico tendrá 20 puntos de ataque, el biólogo 30 y el químico 15.\n",
    "\n",
    "8. La manera de crear un personaje por medio de una clase es la siguiente:\n",
    "\n",
    "`cientifico = Personaje(\"Cientifico\", 20, 100)`\n",
    "9. Recuerde hacer uso de While para pedir la información, funciones y demás elementos vistos en clase que le puedan ser de ayuda.\n",
    "10. Para el cierre de un programa en ejecución debe importar la siguiente librería `import sys`y poner la siguiente línea de código donde requiere cerrar el programa `sys.exit()`"
   ]
  }
 ],
 "metadata": {
  "kernelspec": {
   "display_name": "Python 3 (ipykernel)",
   "language": "python",
   "name": "python3"
  },
  "language_info": {
   "codemirror_mode": {
    "name": "ipython",
    "version": 3
   },
   "file_extension": ".py",
   "mimetype": "text/x-python",
   "name": "python",
   "nbconvert_exporter": "python",
   "pygments_lexer": "ipython3",
   "version": "3.9.6"
  }
 },
 "nbformat": 4,
 "nbformat_minor": 5
}
