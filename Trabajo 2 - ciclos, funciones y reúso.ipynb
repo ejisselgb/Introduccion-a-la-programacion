{
 "cells": [
  {
   "cell_type": "markdown",
   "id": "946f4986",
   "metadata": {},
   "source": [
    "# Trabajo 2 - Ciclos, funciones y reúso"
   ]
  },
  {
   "cell_type": "markdown",
   "id": "614af0ad",
   "metadata": {},
   "source": [
    "El objetivo de este trabajo, es poner en práctica todos los temas vistos hasta la fecha los cuales incluye:\n",
    "\n",
    "- Variables y tipos de variables\n",
    "- Identificación de patrones\n",
    "- Condiciones, ciclos, funciones y reúso\n",
    "- Estructuras de datos"
   ]
  },
  {
   "cell_type": "markdown",
   "id": "acd5f7ca",
   "metadata": {},
   "source": [
    "Los entregables del trabajo consisten en:\n",
    "\n",
    "- Diagrama de flujo\n",
    "- 1 casos práctico aplicado a la biología desarrollado en Python\n",
    "- 1 casos de análisis de código\n",
    "\n",
    "Fecha de entrega del taller: **6 de junio de 2022**"
   ]
  },
  {
   "cell_type": "markdown",
   "id": "06f1c179",
   "metadata": {},
   "source": [
    "### Bioinformática: creando mi primer programa - Caso práctico\n",
    "\n",
    "Crea un programa que permita capturar desde la consola el nombre del científico, la fecha en que realizará el análisis de las cadenas, correo electrónico del cientifíco, celular y la cantidad de secuencias de ADN a analizar. El programa deberá contar con las siguientes validaciones\n",
    "\n",
    "- La fecha debe ser en formato yyyy/mm/dd\n",
    "- El teléfono celular debe empezar por 3 y debe ser de 10 dígitos\n",
    "- El correo electrónico debe ser de un formato válido por ejemplo aaaa@aaa.com. Debes validar que tenga @ (Recuerda que puede ser .com, .co, .org, lo importante y la validación recae sobre el @)\n",
    "- El nombre del científico no debe superar los 50 caracteres no debe tener _.,;:! pero si se debe permitir la ñ\n",
    "- La cantidad mínima  de cadenas de ADN o ARN debe ser 10 y máxima 100\n",
    "- Si la cantidad mímina seleccionada es inferior a la esperada se debe reintentar, aunque también se le debe preguntar al usuario si desea intentar con un valor de cadenas nuevamente o si desea salir.\n",
    "- Si el usuario selecciona la opción de salir, se deberá enviar un correo electrónico al cientifico siguiendo la siguiente estructura:\n",
    "`Subject: \"Error de análisis\"\n",
    "To: \"email ingresado\"\n",
    "From: \"tu email\"\n",
    "password: \"La contraseña de tu email\"\n",
    "message = \"No se ha podido realizar con éxito el análisis, los datos ingresados no son los esperados. Recuerda que la cantidad mínima para realizar un análisis es de 10 cadenas y máxima de 100. Realiza el intento nuevamente, siguiendo las instrucciones como se indican en este correo\"`\n",
    "\n",
    "- Si la cantidad de cadenas a ingresar es correcta, almacenar la información en una lista para posteriormente analizarla.\n",
    "- Se debe validar que cada cadena de la lista tenga al menos 20 caracteres, de no cumplir con este tamaño, se debe eliminar de la lista ese elemento y se debe crear un nueva lista con esos valores. Cuando se tenga la lista con la información correcta realizar los pasos que siguen.\n",
    "- Validar si la cadena ingresada esta conformada por los nucleótidos A,C,G,T o si es A,C,G,U, de no ser así también debe ser elimina de la lista a analizar y debe pasarse a la lista de cadenas incorrectas\n",
    "- Se debe contar la cantidad de A,C,G,T o U según el caso para cada cadena. Para esto debes crear un diccionario el cual permita almacenar la información con la siguiente estructura \n",
    "\n",
    "`informacion_cadena = [{\n",
    "  \"cadena\": 1,\n",
    "  \"tamano\": 25,\n",
    "  \"tipo\": \"ADN,\n",
    "  \"A\": 5,\n",
    "  \"C\": 5,\n",
    "  \"G\": 10,\n",
    "  \"T\": 5\n",
    "}]`\n",
    "\n",
    "- Transcribir la cadena pasar ya sea de ADN a ARN o viceversa. Crear también una lista de diccionarios con la siguiente estructura\n",
    "\n",
    "`transcripcion = [{\n",
    "  \"cadena\": 1,\n",
    "  \"tipo\": \"ADN\",\n",
    "  \"transcripcion\": \"ARN\"\n",
    "  \"cadena_original\": \"AAAAACCCCCGGGGGGGGGGTTTTT\"\n",
    "  \"cadena_transcripcion\": \"AAAAACCCCCGGGGGGGGGGUUUUU\"\n",
    "}]`\n",
    "\n",
    "- Identifica en la cadena los valores ubicados de manera recurrente 3 o más veces por ejemplo: la cadena \"AATATTGTGGGATTTTT\" tiene T, 5 veces y G 3 veces. Esto se debe hacer sobre la cadena que se aplicó la transcripción. Crear una lista de diccionarios con la siguiente estructura:\n",
    "\n",
    "`valores_recurrentes = [{\n",
    "  \"cadena\": 1,\n",
    "  \"tipo\": \"ADN\",\n",
    "  \"transcripcion\": \"ARN\"\n",
    "  \"cadena_transcripcion\": \"AAAAACCCCCGGGGGGGGGGUUUUU\"\n",
    "  \"recurrente_T\": 5,\n",
    "  \"recurrente_G\": 3\n",
    "}]`\n",
    "\n",
    "- Finalmente enviar un correo electrónico con la siguiente estructura\n",
    "\n",
    "`Subject: \"Error de análisis\"\n",
    "To: \"email ingresado\"\n",
    "From: \"tu email\"\n",
    "password: \"La contraseña de tu email\"\n",
    "message = \"Transcripción de cadenas de ADN a ARN - identificación de valores recurrentes /n\" + \"Información cadena: \" + informacion_cadena + \"/n transcripcion: \" + transcripcion + \" /n Valores recurrentes: \" + valores_recurrentes + \"/n\n",
    "Este análisis fue realizado por: /n\"\n",
    "+nombre_cientifico+\"/n telefono de contacto:\"+telefono`\n",
    "\n",
    "- **IMPORTANTE:** Antes de crear el ejercicio en Python crea el diagrama de flujo que te ayudará mejor a entender el problema. Recuerda que el diagrama hace parte del entregable."
   ]
  },
  {
   "cell_type": "markdown",
   "id": "666cb575",
   "metadata": {},
   "source": [
    "### Caso de análisis\n",
    "\n",
    "Teniendo en cuenta lo aprendido en clase, revisa los siguientes programas e identifica los errores"
   ]
  },
  {
   "cell_type": "code",
   "execution_count": 27,
   "id": "833cc35e",
   "metadata": {},
   "outputs": [
    {
     "name": "stdout",
     "output_type": "stream",
     "text": [
      "Ingrese un valor numérico para indicar el total de cadenas a ingresar 4\n",
      "Ingresa la cadena 1: AAACCCGTA\n",
      "Ingresa la cadena 2: AAATTTCYA\n",
      "Ingresa la cadena 3: AAAGTTUIC\n",
      "Ingresa la cadena 4: AAACCCTTBBGGG\n",
      "EL RESULTADO ESPERADO ES EL SIGUIENTE\n",
      "[{'cadena': 1, 'Tamaño A': 4, 'Tamaño C': 3, 'Tamaño G': 1, 'Tamaño T': 1}, {'error': 'La cadena 2 no es válida'}, {'error': 'La cadena 3 no es válida'}, {'error': 'La cadena 4 no tiene el tamaño indicado'}]\n"
     ]
    }
   ],
   "source": [
    "# CASO DE ANÁLISIS 1\n",
    "\n",
    "#Lee la siguiente cadena de ADN, cuenta cuantas letras A, T, G o C e imprime manteniendo la siguiente forma\n",
    "#conteo = [{\n",
    "#\"cadena\": 1,\n",
    "#\"A\": 5,\n",
    "#\"C\": 5,\n",
    "#\"G\": 5,\n",
    "#\"T\": 5\n",
    "#}]\n",
    "\n",
    "#Si la cadena no tiene ninguna de las letras esperadas, en el diccionario aparecerá como error: \"cadena 2 no es válida\"\n",
    "\n",
    "#Si la cadena es de tamaño menor a 5 o mayor a 10 deberá aparece error \"cadena 3 no tiene el tamaño indicado\"\n",
    "\n",
    "#La cantidad de cadenas a ingresar debe estar entre 3 y 10\n",
    "\n",
    "\n",
    "def crear_lista_cadenas(total_cadenas):\n",
    "    lista_cadenas = []\n",
    "    for i in range(0, 2):\n",
    "        temp_cadena = input(\"Ingresa la cadena \" + i+1 + \": \")\n",
    "        lista_cadenas.append(temp_cadena)\n",
    "\n",
    "\n",
    "def validar_cadenas(lista):\n",
    "    diccionario_cadenas = []\n",
    "    posicion = 0\n",
    "    for i in lista:\n",
    "        posicion = 1\n",
    "        conteo_A = 0\n",
    "        conteo_C = 0\n",
    "        conteo_G = 0\n",
    "        conteo_T = 0\n",
    "        if(len(i) < 5 or len(i) > 10):\n",
    "            diccionario_cadenas.append({\"error\": \"La cadena \" + str(posicion) + \" no tiene el tamaño indicado\"})\n",
    "        else:\n",
    "            for j in i:\n",
    "                if(j==\"A\"):\n",
    "                    conteo_A += 1\n",
    "                elif(j ==\"C\"):\n",
    "                    conteo_C += 1\n",
    "                elif(j==\"G\"):\n",
    "                    conteo_G += 1\n",
    "                elif(j==\"T\"):\n",
    "                    conteo_T += 1\n",
    "                else:\n",
    "                    diccionario_cadenas.append({\"error\": \"La cadena \" + str(posicion) + \" no es válida\"})\n",
    "                    conteo_A = 0\n",
    "                    conteo_C = 0\n",
    "                    break\n",
    "            if(conteo_A > 0 or conteo_C > 0 or conteo_G > 0 or conteo_T > 0):\n",
    "                diccionario_cadenas.append({\"cadena\": posicion, \"Tamaño A\": conteo_A, \n",
    "                                            \"Tamaño C\": conteo_C, \"Tamaño G\": conteo_G, \"Tamaño T\": conteo_T})\n",
    "    return diccionario_cadenas\n",
    "\n",
    "    \n",
    "total_cadenas = input(\"Ingrese un valor numérico para indicar el total de cadenas a ingresar \")\n",
    "\n",
    "if(total_cadenas >= 3 and total_cadenas <= 5):\n",
    "    lista = crear_lista_cadenas()\n",
    "    diccionario = validar_cadenas(diccionario)\n",
    "    print(lista)\n",
    "else: \n",
    "    print(\"El valor ingresado debe estar entre 3 y 10\")\n",
    "    \n"
   ]
  },
  {
   "cell_type": "markdown",
   "id": "f85ce1f0",
   "metadata": {},
   "source": [
    "La cantidad de errores para el código anterior son **10**"
   ]
  },
  {
   "cell_type": "markdown",
   "id": "e235a6d9",
   "metadata": {},
   "source": [
    "### Tener en cuenta que aún no hemos visto funciones ni estructuras de datos, estas las veremos en el transcurso de las próximas clases, importante no faltar a ninguna para no perderse de los conceptos ya que serán de gran utilidad para avanzar en el trabajo\n",
    "\n",
    "Pueden ir adelantando en la parte inicial que consiste en la creación del diagrama de flujo solicitud de los datos desde la consola y validación de los mismos."
   ]
  },
  {
   "cell_type": "markdown",
   "id": "611a92c0",
   "metadata": {},
   "source": [
    "## Parte 3\n",
    "\n",
    "De acuerdo al código construido para el primer programa, se deberá hacer lo siguiente:\n",
    "\n",
    "1. Crear clases que permitan hacer más optimo el desarrollo, por ejemplo crear una clase que permita hacer envios de correo, es decir que reciba parametros y que solo sea llamar su método cuando se requiera hacer un envío de correo.\n",
    "2. Crear una clase para hacer transcripciones de cadena, una que se encargue propiamente de ADN\n",
    "3. Crear una clase para hacer transcripciones de cadena, una que se encargue propiamente de ARN\n",
    "3. Todas las clases y demás funciones del programa deberán ser llamados en un script llamado main.py. Dentro del script main.py, agrega `if __name__ == '__main__':`y debajo de este realiza las invocaciones de las clases, llamado a funciones, es decir si vas a crear funciones extra que son globales y las utilizarás para algo adicional, se crean por fuera del if y son invocadas o llamadas en el condicional. Ejemplo:"
   ]
  },
  {
   "cell_type": "code",
   "execution_count": 1,
   "id": "727114d6",
   "metadata": {},
   "outputs": [
    {
     "name": "stdout",
     "output_type": "stream",
     "text": [
      "Ingrese una cadenaAAGGCCCCTTTT\n",
      "AAGGCCCCTTTT\n"
     ]
    }
   ],
   "source": [
    "def obtener_cadenas():\n",
    "    guardar_cadena = input(\"Ingrese una cadena\")\n",
    "    return guardar_cadena\n",
    "\n",
    "if __name__ == '__main__':\n",
    "    valor_cadena = obtener_cadenas()\n",
    "    print(valor_cadena)"
   ]
  },
  {
   "cell_type": "markdown",
   "id": "33918307",
   "metadata": {},
   "source": [
    "No cambiar nada de lo que ya tienen, solo agregar pasar a clases y hacer que las clases tengan un constructor. Si requieren solución de dudas y apoyo en la solución, confirmar para sacar espacio puede ser via virtual.\n",
    "\n",
    "Código de apoyo para envio de correo, en la carpeta Códigos de ejemplo en el repositorio.\n",
    "\n",
    "# IMPORTANTE:\n",
    "\n",
    "- Recuerda validar SOLO lo que se pide en esta guía, con respecto a la validación de caracteres de una cadena solo hacerlo con los elementos que se solicita `_.,;:!`\n",
    "- No hacer cosas diferentes a lo que se solicita en la guía y utilizar lo aprendido en clase. Si se utilizan elementos diferentes o de mayor complejidad es necesario entender que hace ese fragmento de código y por qué se va a utilizar. No hagan por hacer, recuerden que en clase ya hemos realizado ejercicios similares y de complejidad relevante que son de gran ayuda para resolver este trabajo\n",
    "- No lo dejen para última hora, será más dificil sacar espacio para asesorias y resolver dudas a tiempo"
   ]
  }
 ],
 "metadata": {
  "kernelspec": {
   "display_name": "Python 3 (ipykernel)",
   "language": "python",
   "name": "python3"
  },
  "language_info": {
   "codemirror_mode": {
    "name": "ipython",
    "version": 3
   },
   "file_extension": ".py",
   "mimetype": "text/x-python",
   "name": "python",
   "nbconvert_exporter": "python",
   "pygments_lexer": "ipython3",
   "version": "3.9.6"
  }
 },
 "nbformat": 4,
 "nbformat_minor": 5
}
