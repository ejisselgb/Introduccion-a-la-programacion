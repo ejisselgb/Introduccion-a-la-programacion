{
 "cells": [
  {
   "cell_type": "markdown",
   "id": "dc51bb45",
   "metadata": {},
   "source": [
    "# Clase 11 - Estructuras de datos, operaciones con datos estructurados\n",
    "\n",
    "\n",
    "### Corte 2 - Introducción a python\n",
    "* Mi primer programa en python ✅\n",
    "* Tipos y condiciones ✅\n",
    "* ciclos y patrones ✅\n",
    "* Operaciones y estructuras de datos\n",
    "* Funciones y modularidad ✅\n",
    "* Programación orientada a objetos\n",
    "* Reúso de código ✅"
   ]
  },
  {
   "cell_type": "markdown",
   "id": "1efd4ca8",
   "metadata": {},
   "source": [
    "**Tema pendiente de la clase pasada: identificación de patrones, reúso de código y funciones:** https://github.com/ejisselgb/Introduccion-a-la-programacion/blob/semestre-2022-1/Clase%2010%20-%20Patrones%20repetitivos%2C%20uso%20de%20ciclos%2C%20re%C3%BAso%20de%20c%C3%B3digo%20y%20funciones.ipynb"
   ]
  },
  {
   "attachments": {
    "Screenshot_188.png": {
     "image/png": "[encoded data removed]"
    }
   },
   "cell_type": "markdown",
   "id": "49db8b2d",
   "metadata": {},
   "source": [
    "### Estructuras de datos\n",
    "\n",
    "Las estructuras de datos son la forma de organizar la información o datos de nuestro sistema, donde es posible añadir, editar, borrar y obtener\n",
    "Las estructuras de datos almacenan información de manera que cada dato está en un espacio reservado, donde para acceder se ubica la posición. Se debe tener en cuenta que las posiciones inician desde 0 y NO desde 1. Imagina un estante ennumerado donde se almacena un objeto por cada espacio.\n",
    "\n",
    "![Screenshot_188.png](attachment:Screenshot_188.png)\n",
    "\n"
   ]
  },
  {
   "cell_type": "markdown",
   "id": "1bb0562b",
   "metadata": {},
   "source": [
    "## Tipos de estructuras de datos\n",
    "\n",
    "Python cuenta con diversas formas de manipular los datos en forma de bodega, las que aprenderemos en clase son:\n",
    "\n",
    "- Listas\n",
    "- Tuplas\n",
    "- Diccionarios\n",
    "\n",
    "\n",
    "### Listas\n",
    "\n",
    "Las listas son un tipo de estructura de manipulación de datos que permite almacenar datos de cualquier tipo (int, boolean, string, float). Son mutables y dinámicas, a diferencias de las tuplas y los diccionarios.\n",
    "\n",
    "Maneras de definir una lista:"
   ]
  },
  {
   "cell_type": "code",
   "execution_count": 2,
   "id": "959e2554",
   "metadata": {},
   "outputs": [],
   "source": [
    "#Lista de enteros\n",
    "lista = [1, 2, 3, 4]\n",
    "\n",
    "#Lista de string\n",
    "lista = list(\"1234\")\n",
    "lista = list(\"hola\")\n",
    "\n",
    "#Lista de tipos de datos combinados\n",
    "lista = [1, \"Hola\", 3.67, [1, 2, 3]]"
   ]
  },
  {
   "cell_type": "markdown",
   "id": "ac479380",
   "metadata": {},
   "source": [
    "Las listas pueden ser modificadas, las formas de hacerlo son:"
   ]
  },
  {
   "cell_type": "code",
   "execution_count": 19,
   "id": "362107cc",
   "metadata": {},
   "outputs": [
    {
     "name": "stdout",
     "output_type": "stream",
     "text": [
      "['verde', 'azul', 'rosado', 'amarillo', 'morado']\n"
     ]
    }
   ],
   "source": [
    "# APPEND: Permite añadir un elemento en la última posición de la lista\n",
    "\n",
    "lista = [\"verde\", \"azul\", \"rosado\", \"amarillo\"]\n",
    "lista.append(\"morado\")\n",
    "\n",
    "print(lista)"
   ]
  },
  {
   "cell_type": "code",
   "execution_count": 14,
   "id": "7d6381f9",
   "metadata": {},
   "outputs": [
    {
     "name": "stdout",
     "output_type": "stream",
     "text": [
      "verde\n",
      "cafe\n"
     ]
    }
   ],
   "source": [
    "# También es posible modificar una lista accediendo a la posición que se desea modificar por ejemplo\n",
    "\n",
    "\n",
    "lista[1] = \"cafe\"\n",
    "\n",
    "print(lista[0])\n",
    "print(lista[1])\n"
   ]
  },
  {
   "cell_type": "code",
   "execution_count": 6,
   "id": "f97e8fab",
   "metadata": {},
   "outputs": [
    {
     "name": "stdout",
     "output_type": "stream",
     "text": [
      "[1, 2, 3, 4]\n"
     ]
    }
   ],
   "source": [
    "#Agregar una lista a otra lista ya existente\n",
    "\n",
    "lista_numeros = [1, 2]\n",
    "lista_numeros.extend([3, 4])\n",
    "print(lista_numeros)"
   ]
  },
  {
   "cell_type": "code",
   "execution_count": 18,
   "id": "4fbdc90c",
   "metadata": {},
   "outputs": [
    {
     "name": "stdout",
     "output_type": "stream",
     "text": [
      "[1, 2, 3, 10, 4, 5]\n"
     ]
    }
   ],
   "source": [
    "#Agrega un elemento en una posición determinada\n",
    "\n",
    "lista_numeros = [1,2,3,4,5]\n",
    "lista_numeros.insert(3,10)\n",
    "print(lista_numeros)"
   ]
  },
  {
   "cell_type": "code",
   "execution_count": 20,
   "id": "73dcdd59",
   "metadata": {},
   "outputs": [
    {
     "name": "stdout",
     "output_type": "stream",
     "text": [
      "ingresa a3\n",
      "ingresa b4\n",
      "ingresa c5\n",
      "['3', '4', '5']\n"
     ]
    }
   ],
   "source": [
    "a = input(\"ingresa a\")\n",
    "b = input(\"ingresa b\")\n",
    "c = input(\"ingresa c\")\n",
    "\n",
    "lista = [a,b,c]\n",
    "print(lista)"
   ]
  },
  {
   "cell_type": "markdown",
   "id": "142f963a",
   "metadata": {},
   "source": [
    "### Poniendo en práctica el manejo de listas (Agregando elementos)\n",
    "\n",
    "1. Crea una lista de 10 valores numéricos\n",
    "2. Crea una lista de valores combinados (10)\n",
    "3. Crea una lista de 10 valores de texto\n",
    "4. Modifica la primera posición de cada lista y haz que todos tengan como valor el 20\n",
    "5. Modifica el 6 valor de todas las listas y haz que todas tengan como valor \"hola mundo\"\n",
    "6. Imprime la última posición de cada una de las listas"
   ]
  },
  {
   "cell_type": "markdown",
   "id": "61a142e2",
   "metadata": {},
   "source": [
    "**Las listas permiten eliminar elementos y acceder a una posición en particular, este valor que se accede también puede ser modificado.**"
   ]
  },
  {
   "cell_type": "code",
   "execution_count": 4,
   "id": "fa60f10f",
   "metadata": {},
   "outputs": [
    {
     "name": "stdout",
     "output_type": "stream",
     "text": [
      "[1, 2, 3, 4]\n",
      "['A', 'B', 'C', 'D', 'E', 'F', 'G']\n",
      "1\n",
      "4\n",
      "F\n"
     ]
    }
   ],
   "source": [
    "#Accediendo a los elementos de la lista\n",
    "\n",
    "listaNumeros = [1, 2, 3, 4]\n",
    "listaLetras = list(\"ABCDEFG\")\n",
    "\n",
    "print(listaNumeros)\n",
    "print(listaLetras)\n",
    "\n",
    "#Accediendo a la posición 0 de la lista números\n",
    "print(listaNumeros[0])\n",
    "\n",
    "#Accediendo a la última posición de la lista números\n",
    "print(listaNumeros[3])\n",
    "\n",
    "#Accediendo a la posición 5 de la lista\n",
    "print(listaLetras[5])\n"
   ]
  },
  {
   "cell_type": "markdown",
   "id": "42b6ed3e",
   "metadata": {},
   "source": [
    "Cuando se accede a una posición de una lista, es necesario que esta posición exista, de lo contrario se arrojará un error, ya que no será posible desde el código ir a la posición deseada."
   ]
  },
  {
   "cell_type": "markdown",
   "id": "116f3c5b",
   "metadata": {},
   "source": [
    "## Eliminando elementos de la lista\n",
    "\n",
    "Para eliminar elementos de la lista utilizaremos la función `del` a cual es propia de Python. También podemos usar `remove`. Veamos los siguientes ejemplos:"
   ]
  },
  {
   "cell_type": "code",
   "execution_count": 5,
   "id": "941f5181",
   "metadata": {},
   "outputs": [
    {
     "name": "stdout",
     "output_type": "stream",
     "text": [
      "[1, 3, 4, 5]\n"
     ]
    }
   ],
   "source": [
    "#Eliminando de la lista usando la función del\n",
    "listaNumeros = [1, 2, 3, 4, 5]\n",
    "del listaNumeros[1] \n",
    "print(listaNumeros)"
   ]
  },
  {
   "cell_type": "code",
   "execution_count": 8,
   "id": "ad1cc013",
   "metadata": {},
   "outputs": [
    {
     "name": "stdout",
     "output_type": "stream",
     "text": [
      "[1, 2, 3, 5]\n"
     ]
    }
   ],
   "source": [
    "#Eliminando de la lista usando la funcion remove (tener en cuenta que este elimina es un valor puntual de la lista no\n",
    "#una posición)\n",
    "\n",
    "listaNumeros = [1, 2, 3, 4, 5]\n",
    "listaNumeros.remove(4) #Se eliminó el número 4, NO  el elemento de la posición 4\n",
    "print(listaNumeros)"
   ]
  },
  {
   "cell_type": "markdown",
   "id": "d83267dc",
   "metadata": {},
   "source": [
    "Python nos proporciona una función adicional para eliminar elementos de una lista, esta es `pop`y funciona de la siguiente manera:"
   ]
  },
  {
   "cell_type": "code",
   "execution_count": 11,
   "id": "71b31000",
   "metadata": {},
   "outputs": [
    {
     "name": "stdout",
     "output_type": "stream",
     "text": [
      "[1, 2, 3, 4]\n"
     ]
    }
   ],
   "source": [
    "listaNumeros = [1, 2, 3, 4, 5]\n",
    "listaNumeros.pop() #Elimina el último elemento de la lista, en este caso el 5\n",
    "print(listaNumeros)"
   ]
  },
  {
   "cell_type": "markdown",
   "id": "e3fec27e",
   "metadata": {},
   "source": [
    "**Python nos proporciona otras funciones que permiten manipular listas, estas son `sort` la cual se encarga de ordenar los elementos de menor a mayor y `reverse`función encargada de invertir el orden de la lista**"
   ]
  },
  {
   "cell_type": "code",
   "execution_count": 12,
   "id": "af3f3779",
   "metadata": {},
   "outputs": [
    {
     "name": "stdout",
     "output_type": "stream",
     "text": [
      "[1, 3, 7, 8, 10, 20]\n"
     ]
    }
   ],
   "source": [
    "#Uso de sort para organizar de menor a mayor - funciona también para organizar en orden alfabético\n",
    "listaNumeros = [10, 8, 20, 3, 1, 7]\n",
    "listaNumeros.sort()\n",
    "print(listaNumeros)"
   ]
  },
  {
   "cell_type": "code",
   "execution_count": 13,
   "id": "bdebd0c0",
   "metadata": {},
   "outputs": [
    {
     "name": "stdout",
     "output_type": "stream",
     "text": [
      "[5, 4, 3, 2, 1]\n"
     ]
    }
   ],
   "source": [
    "#Uso de reverse para invertir orden de la lista\n",
    "listaNumeros = [1, 2, 3, 4, 5]\n",
    "listaNumeros.reverse()\n",
    "print(listaNumeros)"
   ]
  },
  {
   "cell_type": "markdown",
   "id": "51eb78f3",
   "metadata": {},
   "source": [
    "**Referencias**\n",
    "\n",
    "Lenguajes de programación: https://programas.cuaed.unam.mx/repositorio/moodle/pluginfile.php/1023/mod_resource/content/1/contenido/index.html  \n",
    "¿Qué es Python?: https://ellibrodepython.com/que-es-python  \n",
    "Descargar e instalar Python: https://ellibrodepython.com/descargar-instalar-python  \n",
    "A Python book: Beginning python, advanced python and python exercises, D Kuhlman, 2009\""
   ]
  }
 ],
 "metadata": {
  "kernelspec": {
   "display_name": "Python 3 (ipykernel)",
   "language": "python",
   "name": "python3"
  },
  "language_info": {
   "codemirror_mode": {
    "name": "ipython",
    "version": 3
   },
   "file_extension": ".py",
   "mimetype": "text/x-python",
   "name": "python",
   "nbconvert_exporter": "python",
   "pygments_lexer": "ipython3",
   "version": "3.9.6"
  }
 },
 "nbformat": 4,
 "nbformat_minor": 5
}
