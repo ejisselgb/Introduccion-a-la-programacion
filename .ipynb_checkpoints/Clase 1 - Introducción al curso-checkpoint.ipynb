{
 "cells": [
  {
   "cell_type": "markdown",
   "id": "83d2e921",
   "metadata": {},
   "source": [
    "# INTRODUCCIÓN A LA PROGRAMACIÓN\n",
    "\n",
    "**Profesora:** Erika Jissel Gutiérrez Beltrán  \n",
    "**Correo:** ejgutierrb@eafit.edu.co"
   ]
  },
  {
   "cell_type": "markdown",
   "id": "6ce52767",
   "metadata": {},
   "source": [
    "# Contenido del curso"
   ]
  },
  {
   "cell_type": "markdown",
   "id": "db43e97a",
   "metadata": {},
   "source": [
    "### Corte I - Algoritmos, diagramas y lógica\n",
    " \n",
    " - Algoritmos y diagramas de flujo\n",
    " - Lógica booleana\n",
    " - Abstracción y patrones\n",
    " - Pseudocódigo\n",
    " \n",
    "### Corte 2 - Introducción a python\n",
    "  \n",
    "  - Mi primer programa en python\n",
    "  - Tipos y condiciones\n",
    "  - ciclos y patrones\n",
    "  - Operaciones y estructuras de datos\n",
    "  - Funciones y modularidad\n",
    "  - Programación orientada a objetos\n",
    "  - Reúso de código\n",
    "  \n",
    "  \n",
    "### Corte 3 - Introducción a R\n",
    "  \n",
    "  - Primeros pasos en R\n",
    "  - Introducción a datos, funciones y operadores en R\n",
    " \n",
    " "
   ]
  },
  {
   "cell_type": "markdown",
   "id": "8ca29889",
   "metadata": {},
   "source": [
    "## Fechas importantes\n",
    "\n",
    "- **Corte 1**\n",
    "    - Quiz 1: 17 de febrero - 5%\n",
    "    - Trabajo 1: 10 de marzo - 5%\n",
    "    - Examen 1: 17 de marzo - 10%  \n",
    "    \n",
    "    \n",
    "    \n",
    "    \n",
    "\n",
    "- **Corte 2**\n",
    "    - Quiz 2: 7 de abril - 5%\n",
    "    - Trabajo 2: 21 de abril - 15%\n",
    "    - Examen 2: 28 de abril - 20%  \n",
    "    \n",
    "    \n",
    "    \n",
    "    \n",
    "\n",
    "- **Corte 3**\n",
    "    - Trabajo 3: 26 de mayo - 10%\n",
    "    - Sustentación: 26 de mayo - 5%\n",
    "    - Examen 3: 2 de junio - 25%  \n",
    "    "
   ]
  },
  {
   "cell_type": "markdown",
   "id": "f90e40ab",
   "metadata": {},
   "source": [
    "## Lenguajes y herramientas\n",
    "\n",
    "* Lenguaje de programación: Python / R  \n",
    "* Github"
   ]
  },
  {
   "cell_type": "markdown",
   "id": "d0c106b5",
   "metadata": {},
   "source": [
    "## Compromisos del curso\n",
    "\n",
    "- Reportar a tiempo los problemas presentados con los temas vistos en clases\n",
    "- Enfocarse en la clase, evitar distractores para así comprender más fácil los temas propuestos\n",
    "- Preguntar siempre ante cualquier inquietud, todas las preguntas son válidas\n",
    "- Saber escuchar"
   ]
  }
 ],
 "metadata": {
  "kernelspec": {
   "display_name": "Python 3 (ipykernel)",
   "language": "python",
   "name": "python3"
  },
  "language_info": {
   "codemirror_mode": {
    "name": "ipython",
    "version": 3
   },
   "file_extension": ".py",
   "mimetype": "text/x-python",
   "name": "python",
   "nbconvert_exporter": "python",
   "pygments_lexer": "ipython3",
   "version": "3.9.6"
  }
 },
 "nbformat": 4,
 "nbformat_minor": 5
}
