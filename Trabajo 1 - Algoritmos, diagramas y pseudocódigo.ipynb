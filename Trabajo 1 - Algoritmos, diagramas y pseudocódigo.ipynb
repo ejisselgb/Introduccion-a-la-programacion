{
 "cells": [
  {
   "cell_type": "markdown",
   "id": "946f4986",
   "metadata": {},
   "source": [
    "# Trabajo 1 - Algoritmos, diagramas y pseudocódigo"
   ]
  },
  {
   "cell_type": "markdown",
   "id": "614af0ad",
   "metadata": {},
   "source": [
    "El objetivo de este trabajo, es poner en práctica todos los temas vistos hasta la fecha los cuales incluye:\n",
    "\n",
    "- Pseudocódigo y diagramas de flujo\n",
    "- Lógica proposicional\n",
    "- Diseño de algoritmos en PSEINT"
   ]
  },
  {
   "cell_type": "markdown",
   "id": "acd5f7ca",
   "metadata": {},
   "source": [
    "Los entregables del trabajo consisten en:\n",
    "\n",
    "- 1 casos práctico aplicado a la biología, donde se deben considerar los diagramas de flujo, pseudocódigo en Pseint\n",
    "- Solución de código en Python (Este tema de python lo veremos en las dos próximas clases, para lograr la solución de este punto)\n",
    "- 2 casos prácticos de pseudocódigo\n",
    "- Solución de proposiciones en tablas de verdad\n",
    "\n",
    "Fecha de entrega del taller: **20 de marzo de 2022**"
   ]
  },
  {
   "cell_type": "markdown",
   "id": "52232041",
   "metadata": {},
   "source": [
    "## Caso práctico aplicado a la biología\n",
    "\n",
    "#### Procentaje en contenido G+C (contenido Guanina y Citosina)\n",
    "\n",
    "El contenido en G+C del DNA es la proporción de citosinas y guaninas respecto al total de nucleótidos del genoma. Se utiliza en las descripciones taxon+ómicas de microorganismos procariotas.\n",
    "\n",
    "En la actualidad para obtener el contenido G+C se realiza la secuencia genómica de la cepa.\n",
    "\n",
    "El contenido G+C indica el porcentaje de pares de bases de nucleótidos donde la guanina está unida a la citosina. El ADN con gran contenido de GC más alto será más difícil de romper.\n",
    "\n",
    "**Material necesario**\n",
    "\n",
    "- Secuencia genómica del microorganismo\n",
    "- Si se requiere la secuenciación de la cepa, se requiere el cultivo activo, DNA genómico de la cepa a caracterizar\n",
    "- Más de 2 microorganismos de DNA genímico a una concentración de 40 ng/µl suspendido en agua ultrapura o tampón TE, con valores A260/A280 de entre 1,8 y 2. El DNA se ha de enviar en frío.\n",
    "\n",
    "Esta información es tomada de [Contenido en G+C mol% del DNA](https://www.uv.es/uvweb/coleccion-espanola-cultivos-tipo/es/servicios/identificacion-caracterizacion/caracterizacion-procariotas/contenido-mol-del-dna-1285978911386.html)\n"
   ]
  },
  {
   "cell_type": "markdown",
   "id": "8ae6150c",
   "metadata": {},
   "source": [
    "Para llevar a cabo este cálculo, se deberá tomar una cadena y hacer el conteo de nucleótidos de citosina (C) y guanina (G)\n",
    "\n",
    "Ejemplo: \n",
    "\n",
    "`CCAAGGCCCGACCTTA`\n",
    "\n",
    "**G/C = 10**"
   ]
  },
  {
   "cell_type": "markdown",
   "id": "3362badc",
   "metadata": {},
   "source": [
    "Luego, deberá hacer el conteo del total de las bases de la cadena de ADN ingresada.\n",
    "\n",
    "**G/C contenido = 15**"
   ]
  },
  {
   "cell_type": "markdown",
   "id": "714fcf7d",
   "metadata": {},
   "source": [
    "Lo cual quedaría\n",
    "\n",
    "**G/C contenido** = 10/16 = 0.625"
   ]
  },
  {
   "cell_type": "markdown",
   "id": "3124bdab",
   "metadata": {},
   "source": [
    "El resultado se debe multiplicar por 100 lo que daría como resultado \n",
    "\n",
    "**G/C contenido** = 0.625 * 100 = 62.5%"
   ]
  },
  {
   "cell_type": "markdown",
   "id": "15e06d60",
   "metadata": {},
   "source": [
    "Teniendo en cuenta esto, usted deberá crear un programa que realice esto de manera dinámica, y para un máximo de 5 cadenas. Cree inicialmente un diagrama de flujo que le permita lo siguiente en su programa:\n",
    "\n",
    "- Preguntar al usuario cuantas cadenas de ADN desea evaluar\n",
    "- Capturar el número de cadenas de ADN según le ha indicado el usuario\n",
    "- Evaluar el contenido G+C de cada cadena ingresada\n",
    "- Mostrar el resultado del porcentaje utilizando la siguiente estructura:  \n",
    "\n",
    "Cadena 1: `CCAAGGCCCGACCTTA`  \n",
    "Porcentaje de G+C: 62.5%  \n",
    "Tamaño de la cadena: 15\n",
    "\n",
    "- Se deberá indicar si es cadena 1, 2, 3 y así sucesivamente.\n",
    "- Deberá además al final mostrar la cadena con mayor contenido de G+C de la siguiente manera:  \n",
    "\n",
    "La cadena con mayor contenido de G+C es **cadena 1**: CCAAGGCCCGACCTTA\n",
    "\n",
    "- Si solo ingresó una cadena de ADN deberá decirle al usuario que no es posible hacer la comparación porque solo se ingresó una cadena de ADN, esto es posible solo si hay 2 o más cadenas.\n",
    "- Deberá validar que sea una cadena válida, por ejemplo si se inserta una cadena con un valor diferente de `AGCT` rechazar esa cadena y pedir que se ingresé una nueva. Si la persona hizo 3 veces el intento de insertar un cadena y lo hizo de manera incorrecta, el programa deberá finalizar e indicar al usuario que **no es posible continuar y que deberá ingresar nuevamente toda la información**"
   ]
  },
  {
   "cell_type": "markdown",
   "id": "ede03bce",
   "metadata": {},
   "source": [
    "Luego de hacer el diagrama de flujo y entender las validaciones. Cree el pseudocódigo en PSEINT para comprender mejor y poder hacer un paso a Python de manera más rápida y sencilla.\n",
    "\n",
    "Este pseudocódigo deberá pasarse a Python respetando la funcionalidad creada inicialmente."
   ]
  },
  {
   "cell_type": "markdown",
   "id": "0d57b63c",
   "metadata": {},
   "source": [
    "## 2 Casos prácticos en pseudocódigo\n",
    "\n",
    "1. Vamos a crear una calculadora cientifica, la cual va a calcular fracciones, logaritmo en base 10 y en cualquier otra base, logaritmo natural, raíz cuadrada y potenciación. Además si se selecciona la opción **PI** deberá mostrarme el número *3.14159265*. Para ello en PSEINT, preguntar al usuario inicialmente el tipo de operación que desea realizar, luego pedir los números, por ejemplo para el caso de log en otra base se debería pedir el número de la base y el número a operar. Si es potenciación, raíz cuadrada, se deberá pedir solo un número. Revisa cuales requieren pedir dos número y cuales un solo número para lograr correctamente la operación. Apoyate en esta calculadora: [Geogebra Scientific Calculator](https://www.geogebra.org/scientific?lang=en)  \n",
    "\n",
    "2. Identifica cuando un número es primo y cuando no lo es, para ello debes pedir al usuario que ingrese un número, luego debes validar que ese número sea en un rango de 1 a 100, si no esta en ese rango mostrar un mensaje que indique **Número no permitido, por favor intente nuevamente**, si el número esta en dicho rango dividir el número para garantizar que es primo, recuerde que un número primo debe cumpli la siguiente condición:\n",
    "\n",
    "`Un número es primo si este es divisible únicamente entre 1 y el mismo`\n",
    "\n",
    "Ejemplo de lo anteriormente dicho:\n",
    "\n",
    "**Número ingresado**: 6\n",
    "- **6/1 = 6 - Residuo 0**\n",
    "- **6/2 = 3 - Residuo 0**\n",
    "- **6/3 = 2 - Residuo 0**\n",
    "- 6/4 = 4 - Residuo 2\n",
    "- 6/5 = 5 - Residuo 1\n",
    "- **6/6 = 1 - Residuo 0**\n",
    "\n",
    "En este caso el número 6 no es primo ya que es divisible entre 1,2,3 y 6, no cumple la condición de ser divisilbe solo por 1 o por el mismo, por lo tanto aquí se deberá indicar al usuario, el número ingresado no es primo.\n",
    "\n",
    "Caso de un número primo:\n",
    "\n",
    "**Número ingresado**: 5\n",
    "- **5/1 = 5 - Residuo 0**\n",
    "- 5/2 = 2.5 - Residuo (cálculo 0.5 * 2 = 1)\n",
    "- 5/3 = 1.66666666667 - Residuo (cálculo 1*3 = 3, luego 5-3 = 2, por lo tanto el residuo es 2)\n",
    "- 5/4 = 1.25 - Residuo (cálculo 0.25 * 4 = 1)\n",
    "- **5/5 = 1 - Residuo 0**\n",
    "\n",
    "Si lo realizas de la forma larga, ten en cuenta que el calculo del residuo cambia dependiendo del número de decimales que tengamos en el cociente.Si es mayor a dos tendremos la forma larga como en el caso de 5/3, si es dos o un decimal, forma corta.\n",
    "\n",
    "Tener en cuenta que esto puede evaluarse con la función MOD (%), ¿de qué manera podrías hacer más el procedimiento usando el módulo?"
   ]
  },
  {
   "cell_type": "markdown",
   "id": "180bbb0e",
   "metadata": {},
   "source": [
    "## Proposiciones en tablas de verdad\n",
    "\n",
    "1. ¬(((p^q)^(rvq))vp)\n",
    "2. ¬(¬pv¬q)^(¬((¬rvq)v(t^q)))\n",
    "3. (¬(pvq)^q)v(r^q)"
   ]
  }
 ],
 "metadata": {
  "kernelspec": {
   "display_name": "Python 3 (ipykernel)",
   "language": "python",
   "name": "python3"
  },
  "language_info": {
   "codemirror_mode": {
    "name": "ipython",
    "version": 3
   },
   "file_extension": ".py",
   "mimetype": "text/x-python",
   "name": "python",
   "nbconvert_exporter": "python",
   "pygments_lexer": "ipython3",
   "version": "3.9.6"
  }
 },
 "nbformat": 4,
 "nbformat_minor": 5
}
