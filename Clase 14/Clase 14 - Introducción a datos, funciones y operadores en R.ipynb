{
 "cells": [
  {
   "cell_type": "markdown",
   "id": "0fdfe237",
   "metadata": {},
   "source": [
    "# Introducción a datos, funciones y operadores en R"
   ]
  },
  {
   "cell_type": "markdown",
   "id": "1760dc4f",
   "metadata": {},
   "source": [
    "## Contenido clase\n",
    "\n",
    "- Tipos de datos en R (vectores, matrices, arreglos, factores, data frames)\n",
    "- Operadores en R\n",
    "- Funciones en R\n",
    "- Ejercicio práctico\n",
    "- Validación de ejercicio de clases pendiente en por realizar en lenguaje Python"
   ]
  },
  {
   "cell_type": "markdown",
   "id": "bf2440eb",
   "metadata": {},
   "source": [
    "### Tipos de datos en R"
   ]
  },
  {
   "cell_type": "markdown",
   "id": "81093dfa",
   "metadata": {},
   "source": [
    "R cuenta con un conjunto de tipos y estructuras de datos estándar, la igual que en otros lenguajes de programación como por ejemplo python.  \n",
    "\n",
    "Mientras que en Python contamos con `float, int, string, boolean`, en R podemos encontrarnos con los tipos `vectores, listas, matrices, arreglos, factores, dataframes`, los cuales tienen subtipos.\n",
    "\n",
    "**Vectores**: Son los objetos más simples que se pueden encontrar en el lenguaje de programación R. Este tiene como subtipos a:  \n",
    "\n",
    "- lógicos (true / false)\n",
    "- númericos (decimales)\n",
    "- integer (no decimales, ID, enteros)\n",
    "- complejos (números imaginarios)\n",
    "- caracter (texto)\n",
    "- raw (bytes)\n",
    "\n",
    "*R convierte de númerico a integer sin necesidad de hacer lo que conocemos en Python como cast*  \n",
    "\n",
    "**Listas**: Es un tipo que consta de un vector con múltiples elementos\n",
    "\n",
    "`c(elemento1, elemento2, elemento3, elemento4)`\n",
    "\n",
    "*Una lista puede almacenar cualquier tipo de objetos*  \n",
    "\n",
    "**Matrices**: Conjunto de datos de 2 dimensiones filas / columnas. Los objetos deben ser todos del mismo tipo. Para construir una matriz se debe serguir el comando: \n",
    "\n",
    "`M <- matrix(c('x','y','z','a','b','c'), nrow=2, ncol=3, byrow=TRUE)`\n",
    "\n",
    "*Un error muy común es confundir una matriz con un dataframe, además hay una relación entre gráficas de dispersión y matrices*  \n",
    "\n",
    "**Arreglo**: Conjunto de datos de varias dimensiones\n",
    "\n",
    "`A <- array(c('virus', 'bacteria', 'virus'), dim=c(3,3,1))`\n",
    "\n",
    "*Su comportamiento es similar al de una matriz*  \n",
    "\n",
    "**Factores**: Tipos de objetos que utilizan para categorizar datos e información, clasifican la información y permiten filtrar por columnas. Estos tipos de datos son utilizados para el modelado y análisis de datos.\n",
    "\n",
    "- *No confunir con listas sencillas*\n",
    "- *Columna de tipo factor no permite realizar operaciones*\n",
    "\n",
    "**Dataframes**: Este tipo de dato, define una estructura en forma de tabla similar a una matriz pero permitiendo operar y almacenar diferentes tipos de datos. El número de columnas debe ser igual al número de filas, se usan encabezados para identificar cada columna y se usan nombres únicos para los renglones. (Son como hojas de cálculo en excel)\n",
    "\n",
    "*Los dataframes deben tener la misma cantidad de datos*\n"
   ]
  },
  {
   "cell_type": "markdown",
   "id": "3dbc1463",
   "metadata": {},
   "source": [
    "#### Para tener en cuenta\n",
    "\n",
    "Aunque una matriz y un arreglo en R inicialmente pueden parecer lo mismo, sus diferencias recaen en que una matriz puede tener 2 dimensiones filas/columnas. Mientras que un arreglo proporciona la libertad de crear objetos en múltiples dimensiones, además un arreglo se puede multiplicar muchas veces.\n",
    "\n",
    "**Veamos los ejemplos de tipos en el IDE R studio**"
   ]
  },
  {
   "cell_type": "markdown",
   "id": "a7b286f1",
   "metadata": {},
   "source": [
    "`#Variables en R\n",
    "x <- 56\n",
    "y <- \"Hola mundo\"\n",
    "z <- x>10\n",
    "a <- 45.7`"
   ]
  },
  {
   "cell_type": "markdown",
   "id": "3a2fae67",
   "metadata": {},
   "source": [
    "`#Datos de tipo vector\n",
    "materias <- c('Biología', 'Matemáticas', 'Química')\n",
    "numeros <- c(1,2,3,4,5,6,7,8,9,10)\n",
    "numeros_automaticos <- (1:100)\n",
    "vector_variables <- c(x,y,z)`"
   ]
  },
  {
   "cell_type": "markdown",
   "id": "67332521",
   "metadata": {},
   "source": [
    "`#Datos de tipo Lista\n",
    "nombre_materias <- c(\"Biología\", \"Matemáticas\", \"Química\")\n",
    "notas_materias <- matrix(c(4.3,4.2,4.1, 3.9, 2.3, 4.5, 4.1, 3.8, 2.0), nrow=3, ncol=3)\n",
    "lista_final <- list(nombre_materias, notas_materias)`"
   ]
  },
  {
   "cell_type": "markdown",
   "id": "1d5e49c4",
   "metadata": {},
   "source": [
    "`#Datos de tipo matrix\n",
    "m <- matrix( c('x', 'y', 'z', 'a', 'b', 'c'), nrow=2, ncol=3, byrow=TRUE)\n",
    "m2 <- matrix( c('x', 'y', 'z', 'a', 'b', 'c'), nrow=2, ncol=3, byrow=FALSE)\n",
    "mn <- matrix( c(10,20,03,15,12,20,08,19,18,19), nrow=5, ncol=2)`\n",
    "\n",
    "`\n",
    "disney <- c(11,13,11,8,12)\n",
    "warner <- c(20,20,16,17,22)\n",
    "peliculas <- matrix(c(warner,disney), nrow=5, ncol=2)\n",
    "colnames(peliculas) <- c('warner', 'disney')\n",
    "rownames(peliculas) <- c('2017','2018', '2019', '2020', '2021')`"
   ]
  },
  {
   "cell_type": "markdown",
   "id": "3450608d",
   "metadata": {},
   "source": [
    "`#Datos de tipo arreglo\n",
    "a <- array(c('perros', 'gatos'), dim = c(3,4,2))`"
   ]
  },
  {
   "cell_type": "markdown",
   "id": "161f9a20",
   "metadata": {},
   "source": [
    "#### ¿Qué son los factores en R? \n",
    "\n",
    "Estructura de datos encargada de manipular variables que tienen un conjunto fijo y conocido de valores posibles (variables categóricas). son de gran utilidad cuando se desea mostrar vectores de caracteres que no cuentan con algún orden."
   ]
  },
  {
   "cell_type": "markdown",
   "id": "4947654b",
   "metadata": {},
   "source": [
    "## Operadores en R\n",
    "\n",
    "En R es posible encontrar todo tipo de operadores aritméticos, relacionales, lógicos de asignación, al igual que en otros lenguajes de programación, ya que R está diseñado principalmente para realizar operaciones complejas y de análisis estadistico.\n",
    "\n",
    "Algunos operadores cambian, a diferencia de Python, por ejemplo en el caso del módulo el cual se representa por `%%`, división entera `%/%`, potenciación `^2`\n",
    "\n",
    "Para mayor detalle ir: https://www.rstudio.com/resources/cheatsheets/"
   ]
  },
  {
   "cell_type": "markdown",
   "id": "82bd35b6",
   "metadata": {},
   "source": [
    "## Funciones en R\n",
    "\n",
    "\n",
    "En R es posible llevar a cabo la construcción de funciones al igual que en un lenguaje de programación como por ejemplo Python. La estructura es similar:\n",
    "\n",
    "`nombre_funcion <- function(var1, var2) {\n",
    "    operacion1 <- operacion\n",
    "    operacion2 <- operacion\n",
    "    resultado = oepracion1 + operacion2\n",
    "    return(resultado)\n",
    "}`"
   ]
  },
  {
   "cell_type": "markdown",
   "id": "5eb65a99",
   "metadata": {},
   "source": [
    "Sin embargo, en muchas ocasiones no es necesario implementar una función desde cero, ya que R cuenta con funciones que realizan operaciones que parecen complejas pero se utilizan comúnmente como lo son la media (mean), raíz cuadrada (sqrt), logaritmo (log(num,base)), valor absoluto (abs), exponencial (exp)"
   ]
  },
  {
   "cell_type": "markdown",
   "id": "7dbdd40b",
   "metadata": {},
   "source": [
    "## Ejercicio Práctico"
   ]
  },
  {
   "cell_type": "markdown",
   "id": "f033d6e2",
   "metadata": {},
   "source": [
    "1. Realice una función que haga operaciones básicas con tres números.\n",
    "2. Realice una función que opere número negativos y utilice abs para volverlos positivos\n",
    "3. Cree un data frame con información del semestre de un estudiante, nombre de los cursos, notas por curso y corte, recuerde utilizar vectores para esto\n",
    "4. Capture las notas del primer corte, y sumelas para obtener el promedio. Aplique esto mismo para todos los otros dos cortes."
   ]
  }
 ],
 "metadata": {
  "kernelspec": {
   "display_name": "Python 3 (ipykernel)",
   "language": "python",
   "name": "python3"
  },
  "language_info": {
   "codemirror_mode": {
    "name": "ipython",
    "version": 3
   },
   "file_extension": ".py",
   "mimetype": "text/x-python",
   "name": "python",
   "nbconvert_exporter": "python",
   "pygments_lexer": "ipython3",
   "version": "3.9.6"
  }
 },
 "nbformat": 4,
 "nbformat_minor": 5
}
