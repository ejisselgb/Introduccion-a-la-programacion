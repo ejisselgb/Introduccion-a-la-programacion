{
 "cells": [
  {
   "cell_type": "markdown",
   "id": "7392267d",
   "metadata": {},
   "source": [
    " # Clases, herencia y polimorfismo"
   ]
  },
  {
   "cell_type": "markdown",
   "id": "5a33b035",
   "metadata": {},
   "source": [
    "## Contenido de la clase"
   ]
  },
  {
   "cell_type": "markdown",
   "id": "033a22c5",
   "metadata": {},
   "source": [
    "- Repaso de concepto y uso de clases\n",
    "- ¿Qué es herencia?\n",
    "- ¿Qué es polimorfismo?\n",
    "- Casos prácticos con clases"
   ]
  },
  {
   "cell_type": "markdown",
   "id": "b448fbd1",
   "metadata": {},
   "source": [
    "## Repaso de concepto y uso de clases\n",
    "\n",
    "**Recordemos**\n",
    "\n",
    "- ¿Qué elementos se deben tener en cuenta para la construcción de una clase?\n",
    "- ¿Describir la estructura de una clase?\n",
    "- ¿Cómo crear una clase?\n",
    "- ¿Cómo invocar una clase?\n",
    "- ¿Para qué sirve la palabra reservada self?\n",
    "- ¿Cuando utilizar clases?"
   ]
  },
  {
   "cell_type": "markdown",
   "id": "296b90b5",
   "metadata": {},
   "source": [
    "## ¿Qué es herencia?\n"
   ]
  },
  {
   "cell_type": "markdown",
   "id": "a98ab7bf",
   "metadata": {},
   "source": [
    "La herencia es el proceso por el cual una clase puede tomar las propiedades y comportamientos (_métodos y atributos_) de otra. La nueva clase que recibe información de una clase ya existente se conocen como __clase hija__ y la clase que proporciona la información como __clase padre__."
   ]
  },
  {
   "cell_type": "markdown",
   "id": "d65210f1",
   "metadata": {},
   "source": [
    "**Creando clases con características repetidas**"
   ]
  },
  {
   "cell_type": "code",
   "execution_count": 2,
   "id": "81334fc4",
   "metadata": {},
   "outputs": [],
   "source": [
    "class Perro:\n",
    "    def __init__(self, nombre, especie, edad, raza, sexo):\n",
    "        self.nombre = nombre\n",
    "        self.especie = especie\n",
    "        self.edad = edad\n",
    "        self.raza = raza\n",
    "        self.sexo = sexo\n",
    "        \n",
    "    def descripcion(self):\n",
    "        return f\"{self.nombre} tiene {self.edad} años y es de sexo {self.sexo}\"\n",
    "        \n",
    "class Gato:\n",
    "    def __init__(self, nombre, especie, edad, raza, sexo):\n",
    "        self.nombre = nombre\n",
    "        self.especie = especie\n",
    "        self.edad = edad\n",
    "        self.raza = raza\n",
    "        self.sexo = sexo\n",
    "    \n",
    "    def descripcion(self):\n",
    "        return f\"{self.nombre} tiene {self.edad} años y es de sexo {self.sexo}\"\n",
    "        \n",
    "class Jirafa:\n",
    "    def __init__(self, nombre, especie, edad, raza, sexo):\n",
    "        self.nombre = nombre\n",
    "        self.especie = especie\n",
    "        self.edad = edad\n",
    "        self.raza = raza\n",
    "        self.sexo = sexo\n",
    "        \n",
    "    def descripcion(self):\n",
    "        return f\"{self.nombre} tiene {self.edad} años y es de sexo {self.sexo}\""
   ]
  },
  {
   "cell_type": "markdown",
   "id": "3fb0699c",
   "metadata": {},
   "source": [
    "**Construir clases usando herencia**"
   ]
  },
  {
   "cell_type": "code",
   "execution_count": 3,
   "id": "95a86705",
   "metadata": {},
   "outputs": [],
   "source": [
    "class Animal:\n",
    "    def __init__(self, nombre, especie, edad, raza, sexo):\n",
    "        self.nombre = nombre\n",
    "        self.especie = especie\n",
    "        self.edad = edad\n",
    "        self.raza = raza\n",
    "        self.sexo = sexo\n",
    "    \n",
    "    def descripcion(self):\n",
    "        return f\"{self.nombre} tiene {self.edad} años y es de sexo {self.sexo}\"\n",
    "    \n",
    "class Perro(Animal):\n",
    "    nombre = \"Perro\"\n",
    "    especie = \"Canis familiaris\"\n",
    "    \n",
    "class Gato(Animal):\n",
    "    nombre = \"Gato\"\n",
    "    especie = \"Felis silvestris\"\n",
    "    \n",
    "class Jirafa(Animal):\n",
    "    nombre = \"Jirafa\"\n",
    "    especie = \"Northern giraffe\""
   ]
  },
  {
   "cell_type": "markdown",
   "id": "7b3842ef",
   "metadata": {},
   "source": [
    "En este caso las clases heredan o extienden de la **clase padre:** Animal, la cual posee características de nombre, especie, edad, raza y sexo. Como la Clase Perro, Gato y Jirafa reciben como parametro la clase padre, esto indica que, herederan tanto las características como las funciones. Es decir, las clases hijas tienens los mismo atributos y métodos definidos en la clase **Animal**"
   ]
  },
  {
   "cell_type": "markdown",
   "id": "61c59da6",
   "metadata": {},
   "source": [
    "##### Palabra nueva: \n",
    "\n",
    "**MÉTODO**\n",
    "\n",
    "Un método tiene la misma estructura de una función, pero hace parte de una clase, a diferencia de una función que es declarada de manera global y no están contenidas por ningún objeto, únicamente en el script.\n"
   ]
  },
  {
   "cell_type": "code",
   "execution_count": 4,
   "id": "0f96fdad",
   "metadata": {},
   "outputs": [],
   "source": [
    "# EJEMPLO DE MÉTODO\n",
    "\n",
    "class Persona:\n",
    "    def __init__(self, nombre, edad, profesion):\n",
    "        self.nombre = nombre\n",
    "        self.edad = edad\n",
    "        self.profesion = profesion\n",
    "    \n",
    "    def mostrarNombre(self):\n",
    "        print(\"El nombre de la persona es \" + self.nombre + \"\\nLa edad de la persona es: \" + self.edad)\n",
    "        print(\"La profesión de la persona es: \" + self.profesion)"
   ]
  },
  {
   "cell_type": "code",
   "execution_count": 7,
   "id": "ada04e88",
   "metadata": {},
   "outputs": [
    {
     "name": "stdout",
     "output_type": "stream",
     "text": [
      "El nombre de la persona es Erika\n",
      "La edad de la persona es: 27\n",
      "La profesión de la persona es: Ingeniera\n"
     ]
    }
   ],
   "source": [
    "# EJEMPLO DE FUNCIÓN\n",
    "\n",
    "def mostrarNombre(nombre, edad, profesion):\n",
    "    print(\"El nombre de la persona es \" + nombre + \"\\nLa edad de la persona es: \" + edad)\n",
    "    print(\"La profesión de la persona es: \" + profesion)\n",
    "\n",
    "mostrarNombre(\"Erika\", \"27\", \"Ingeniera\")"
   ]
  },
  {
   "cell_type": "markdown",
   "id": "80a5ddd9",
   "metadata": {},
   "source": [
    "## ¿Qué es polimorfismo?\n",
    "\n",
    "\n",
    "El polimorfismo está relacionado a la herencia, puesto que para ser utilizado depende de ella. Este término nos define qué, en la programación orientada a objetos una operación (método, atributo) puede tomar diferentes comportamientos.\n",
    "\n",
    "Aquí toma fuerza la palabra **sobreescribir**\n",
    "\n",
    "La **sobreescritura de métodos** o **Overriding Methods** permite sustituir un método proveniente de una clase padre. Se debe tener en cuenta que aunque se realice la sobreescritura de un método, esta debe tener el mismo nombre de la existente en la clase padre con los mismos parámetros.\n"
   ]
  },
  {
   "cell_type": "markdown",
   "id": "8cd31629",
   "metadata": {},
   "source": [
    "### Hagamos un parentesis...\n",
    "\n",
    "**¿Cuál es la diferencia entre parámetros y atributos?**"
   ]
  },
  {
   "cell_type": "markdown",
   "id": "f2d178a5",
   "metadata": {},
   "source": [
    "Continuando con la sobre escritura de métodos, comportamiento asociado al polimorfismo, se presenta el siguiente ejemplo:"
   ]
  },
  {
   "cell_type": "code",
   "execution_count": 25,
   "id": "c7d5e952",
   "metadata": {},
   "outputs": [],
   "source": [
    "class Persona():\n",
    "    def __init__(self):\n",
    "        self.cedula = \"1123456\"\n",
    "    def mostrarInfo(self):\n",
    "        print(\"La cedula del usuario es \" + self.cedula)"
   ]
  },
  {
   "cell_type": "code",
   "execution_count": 26,
   "id": "fd57a2c1",
   "metadata": {},
   "outputs": [],
   "source": [
    "class Obrero(Persona):\n",
    "    def __init__(self):\n",
    "        self.especializacion = \"Obra blanca\"\n",
    "    \n",
    "    def mostrarInfo(self):\n",
    "        print(\"La especialización del obrero es \" + self.especializacion)"
   ]
  },
  {
   "cell_type": "code",
   "execution_count": 28,
   "id": "6a8e7184",
   "metadata": {},
   "outputs": [
    {
     "name": "stdout",
     "output_type": "stream",
     "text": [
      "La cedula del usuario es 1123456\n",
      "La especialización del obrero es Obra blanca\n"
     ]
    }
   ],
   "source": [
    "persona = Persona()\n",
    "obrero = Obrero()\n",
    "\n",
    "persona.mostrarInfo()\n",
    "obrero.mostrarInfo()"
   ]
  },
  {
   "cell_type": "markdown",
   "id": "ff6348d3",
   "metadata": {},
   "source": [
    "**Veamos otro ejemplo**"
   ]
  },
  {
   "cell_type": "code",
   "execution_count": 38,
   "id": "17264e02",
   "metadata": {},
   "outputs": [],
   "source": [
    "class Animal:\n",
    "    def hablar(self):\n",
    "        pass\n",
    "\n",
    "# LA PALABRA RESERVADA PASS NO PROPORCIONA NINGÚN RESULTADO AUNQUE SEA EJECUTADA"
   ]
  },
  {
   "cell_type": "code",
   "execution_count": 18,
   "id": "5892e155",
   "metadata": {},
   "outputs": [],
   "source": [
    "class Perro(Animal):\n",
    "    def sonido(self):\n",
    "        print(\"Guau...\")\n",
    "\n",
    "class Gato(Animal):\n",
    "    def sonido(self):\n",
    "        print(\"Miau...\")"
   ]
  },
  {
   "cell_type": "code",
   "execution_count": 20,
   "id": "11fa628e",
   "metadata": {},
   "outputs": [
    {
     "name": "stdout",
     "output_type": "stream",
     "text": [
      "Guau...\n",
      "Miau...\n"
     ]
    }
   ],
   "source": [
    "perro = Perro()\n",
    "gato = Gato()\n",
    "\n",
    "perro.sonido()\n",
    "gato.sonido()\n"
   ]
  },
  {
   "cell_type": "markdown",
   "id": "e39a8938",
   "metadata": {},
   "source": [
    "### Extendiendo funcionalidades de la clase padre\n",
    "\n",
    "Tomaremos como ejemplo la clase animal, ya que cada uno de ellos hace sonidos diferentes."
   ]
  },
  {
   "cell_type": "code",
   "execution_count": 30,
   "id": "a911612d",
   "metadata": {},
   "outputs": [],
   "source": [
    "class Animal:\n",
    "    def __init__(self, nombre):\n",
    "        self.nombre = nombre\n",
    "\n",
    "    def habla(self, sonido):\n",
    "        return f\"{self.nombre} dice {sonido}\""
   ]
  },
  {
   "cell_type": "code",
   "execution_count": 35,
   "id": "cefa26ea",
   "metadata": {},
   "outputs": [],
   "source": [
    "class Zorro(Animal):\n",
    "    def sonido(self, sonido = \"What does the fox say\"):\n",
    "        return f\"{self.nombre} dice: {sonido}\"\n",
    "\n",
    "class Oveja(Animal):\n",
    "    def sonido(self, sonido = \"Bee\"):\n",
    "        return f\"{self.nombre} dice: {sonido}\""
   ]
  },
  {
   "cell_type": "code",
   "execution_count": 34,
   "id": "12ad7304",
   "metadata": {},
   "outputs": [
    {
     "data": {
      "text/plain": [
       "'Zorrillo dice What does the fox say'"
      ]
     },
     "execution_count": 34,
     "metadata": {},
     "output_type": "execute_result"
    }
   ],
   "source": [
    "zorro = Zorro(\"Zorrillo\")\n",
    "\n",
    "zorro.sonido()"
   ]
  },
  {
   "cell_type": "markdown",
   "id": "08f236a2",
   "metadata": {},
   "source": [
    "**Ahora vamos a intentarlo**\n",
    "\n",
    "Muestra el mensaje que dice la oveja, haciendo los llamados a la clase tal cual como la clase `Zorro` y adicionalmente agrega a la clase animal un método donde sea posible identificar si el animal es cazador o no. Va a recibir como parámetro un valor String que Diga `SI` o `NO` "
   ]
  },
  {
   "cell_type": "code",
   "execution_count": 37,
   "id": "9e915f35",
   "metadata": {},
   "outputs": [
    {
     "data": {
      "text/plain": [
       "'Violeta dice Guau'"
      ]
     },
     "execution_count": 37,
     "metadata": {},
     "output_type": "execute_result"
    }
   ],
   "source": [
    "# EJEMPLO LLAMANDO DIRECTAMENTE A LA CLASE PADRE\n",
    "\n",
    "perro = Animal(\"Violeta\")\n",
    "\n",
    "perro.habla(\"Guau\")"
   ]
  },
  {
   "cell_type": "markdown",
   "id": "b6e01dfa",
   "metadata": {},
   "source": [
    "### ¿Qué es la función `super()` ?"
   ]
  },
  {
   "cell_type": "markdown",
   "id": "09a2c38a",
   "metadata": {},
   "source": [
    "Esta función permite conservar los valores de un atributo o los comportamientos de un método contenidos en una clase padre y heredados por una clase hija, sin que deba ser llamada de manera explicita"
   ]
  },
  {
   "cell_type": "code",
   "execution_count": 54,
   "id": "14b99cd5",
   "metadata": {},
   "outputs": [],
   "source": [
    "class Animal:\n",
    "    def __init__(self):\n",
    "        pass\n",
    "\n",
    "    def sonido(self, sonido):\n",
    "        return print(\"El animal hace fuertemente \" + sonido)"
   ]
  },
  {
   "cell_type": "code",
   "execution_count": 46,
   "id": "ecd2c44c",
   "metadata": {},
   "outputs": [],
   "source": [
    "class Gato(Animal):\n",
    "\n",
    "    def sonido(self, sonido = \"Miau\"):\n",
    "        return print(\"El animal hace: \" + sonido)\n",
    "\n",
    "class Perro(Animal):\n",
    "    nombre = \"Firulais\""
   ]
  },
  {
   "cell_type": "code",
   "execution_count": 47,
   "id": "9694be76",
   "metadata": {},
   "outputs": [
    {
     "name": "stdout",
     "output_type": "stream",
     "text": [
      "El animal hace fuertemente Guau\n"
     ]
    }
   ],
   "source": [
    "perro = Perro()\n",
    "\n",
    "perro.sonido(\"Guau\")"
   ]
  },
  {
   "cell_type": "code",
   "execution_count": 48,
   "id": "d9d251d8",
   "metadata": {},
   "outputs": [
    {
     "name": "stdout",
     "output_type": "stream",
     "text": [
      "El animal hace: Miau\n"
     ]
    }
   ],
   "source": [
    "gato = Gato()\n",
    "\n",
    "gato.sonido()"
   ]
  },
  {
   "cell_type": "markdown",
   "id": "1258086d",
   "metadata": {},
   "source": [
    "**Para obtener el mismo mensaje en mabas clases hijas, se debe hacer uso de `super`**"
   ]
  },
  {
   "cell_type": "code",
   "execution_count": 52,
   "id": "2021e38e",
   "metadata": {},
   "outputs": [],
   "source": [
    "class Gato(Animal):\n",
    "    especie = \"Felis silvestris\"\n",
    "    \n",
    "    def habla(self, sonido = \"Miau\"):\n",
    "        return super().sonido(sonido)"
   ]
  },
  {
   "cell_type": "code",
   "execution_count": 53,
   "id": "86e447cb",
   "metadata": {},
   "outputs": [
    {
     "name": "stdout",
     "output_type": "stream",
     "text": [
      "El animal hace fuertemente Miau\n"
     ]
    }
   ],
   "source": [
    "# Mostrar el sonido del gato utilizando la función super\n",
    "\n",
    "gato = Gato()\n",
    "\n",
    "gato.habla()"
   ]
  },
  {
   "cell_type": "markdown",
   "id": "bae1c2af",
   "metadata": {},
   "source": [
    "## Casos prácticos"
   ]
  },
  {
   "cell_type": "markdown",
   "id": "be2249d4",
   "metadata": {},
   "source": [
    "- Cree una clase vehículo, la cual le permita construir luego clases hijas como moto, bicicleta,carro. \n",
    "- Un vehículo tiene como atributos: color, marca, modelo\n",
    "- Cada clase debe contener un método que defina el combustible: Si es electrico el vehículo, a gasolina o no aplica. Este se debe heredar de la clase padre Vehículo\n",
    "- El método encargado de mostrar el combustible puede ser sobreescrito (polimorfismo) ya quecada vehículo puede varias según su tipo\n",
    "- Crear un método que sera heredado, encargado de mostrar la información, deberá ser igual en todos los hijos por lo que será necesario utilizar el método super \n"
   ]
  }
 ],
 "metadata": {
  "kernelspec": {
   "display_name": "Python 3 (ipykernel)",
   "language": "python",
   "name": "python3"
  },
  "language_info": {
   "codemirror_mode": {
    "name": "ipython",
    "version": 3
   },
   "file_extension": ".py",
   "mimetype": "text/x-python",
   "name": "python",
   "nbconvert_exporter": "python",
   "pygments_lexer": "ipython3",
   "version": "3.9.6"
  }
 },
 "nbformat": 4,
 "nbformat_minor": 5
}
