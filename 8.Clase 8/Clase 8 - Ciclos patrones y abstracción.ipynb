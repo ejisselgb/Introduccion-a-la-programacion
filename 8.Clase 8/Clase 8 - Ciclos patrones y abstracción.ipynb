{
 "cells": [
  {
   "cell_type": "markdown",
   "id": "2d2f41dd",
   "metadata": {},
   "source": [
    "# Ciclos, patrones y abstracción"
   ]
  },
  {
   "cell_type": "markdown",
   "id": "ede5940b",
   "metadata": {},
   "source": [
    "## Contenido de la clase\n",
    "\n",
    "- ¿Qué son ciclos?\n",
    "- While, for\n",
    "- Casos Practicos\n",
    "- ¿Qué son funciones?\n",
    "- Tipos de funciones\n",
    "- Casos practicos\n",
    "- Solución de ejercicios clase 6"
   ]
  },
  {
   "cell_type": "markdown",
   "id": "fb1fe729",
   "metadata": {},
   "source": [
    "## ¿Qué son los ciclos?"
   ]
  },
  {
   "cell_type": "markdown",
   "id": "b425eac7",
   "metadata": {},
   "source": [
    "A un ciclo en programación se le conoce también como bucle. Un bloque o ciclo consiste en la ejecución de una porción de código **n** número de veces. Para considerar que un fragmento de código es bucle, debe cumplir las siguientes características:  \n",
    "\n",
    "- Debe contar con una condición\n",
    "- Si la condición se cumple se debe ejecutar el bloque de código\n",
    "- El bucle no finaliza hasta que la condición no deje de cumplirse"
   ]
  },
  {
   "cell_type": "markdown",
   "id": "8bdf51ba",
   "metadata": {},
   "source": [
    "### ¿Cuáles ciclos o bucles tenemos en programación?\n",
    "\n",
    "El For y el While.\n",
    "\n",
    "\n",
    "#### Ciclo While\n",
    "\n",
    "Es ciclo consta de una condición y se ejecuta hasta que la condición se siga cumpliendo, su declaración es la siguiente:"
   ]
  },
  {
   "cell_type": "code",
   "execution_count": 2,
   "id": "6193c8eb",
   "metadata": {},
   "outputs": [
    {
     "name": "stdout",
     "output_type": "stream",
     "text": [
      "El número es: 10\n",
      "El número es: 9\n",
      "El número es: 8\n",
      "El número es: 7\n",
      "El número es: 6\n",
      "El número es: 5\n",
      "El número es: 4\n",
      "El número es: 3\n",
      "El número es: 2\n",
      "El número es: 1\n"
     ]
    }
   ],
   "source": [
    "numero = 10\n",
    "while numero > 0:\n",
    "    print(\"El número es: \" + str(numero))\n",
    "    numero = numero -1"
   ]
  },
  {
   "cell_type": "markdown",
   "id": "73813a63",
   "metadata": {},
   "source": [
    "#### Ciclo for\n",
    "\n",
    "Permite ejecutar una porción de código si una condición se cumple. Su ejecución se lleva a cabo solo si la condición se cumple. Es útil para recorrer arreglos (los arreglos aún no los hemos visto, serán vistos en la clase de estructuras de datos)"
   ]
  },
  {
   "cell_type": "code",
   "execution_count": 2,
   "id": "8e078dbd",
   "metadata": {},
   "outputs": [
    {
     "name": "stdout",
     "output_type": "stream",
     "text": [
      "0\n",
      "1\n",
      "2\n",
      "3\n",
      "4\n"
     ]
    }
   ],
   "source": [
    "for x in range(0,5):\n",
    "    print(x)"
   ]
  },
  {
   "cell_type": "markdown",
   "id": "e19909ae",
   "metadata": {},
   "source": [
    "## Casos prácticos"
   ]
  },
  {
   "cell_type": "code",
   "execution_count": 4,
   "id": "a376d274",
   "metadata": {},
   "outputs": [
    {
     "name": "stdout",
     "output_type": "stream",
     "text": [
      "Conteo de vacunas aplicadas contra el Covid 19\n",
      "Número de vacunas:  9  Número personas vacunadas:  1\n",
      "Número de vacunas:  8  Número personas vacunadas:  2\n",
      "Número de vacunas:  7  Número personas vacunadas:  3\n",
      "Número de vacunas:  6  Número personas vacunadas:  4\n",
      "Número de vacunas:  5  Número personas vacunadas:  5\n",
      "Número de vacunas:  4  Número personas vacunadas:  6\n",
      "Número de vacunas:  3  Número personas vacunadas:  7\n",
      "Número de vacunas:  2  Número personas vacunadas:  8\n",
      "Número de vacunas:  1  Número personas vacunadas:  9\n",
      "Número de vacunas:  0  Número personas vacunadas:  10\n"
     ]
    }
   ],
   "source": [
    "print(\"Conteo de vacunas aplicadas contra el Covid 19\")\n",
    "numero_vacunas = 10\n",
    "numero_vacunados = 0\n",
    "while numero_vacunas > 0:\n",
    "    numero_vacunas = numero_vacunas - 1\n",
    "    numero_vacunados = numero_vacunados + 1\n",
    "    print(\"Número de vacunas: \", numero_vacunas, \" Número personas vacunadas: \", numero_vacunados)\n"
   ]
  },
  {
   "cell_type": "code",
   "execution_count": 5,
   "id": "7bc36d07",
   "metadata": {},
   "outputs": [
    {
     "name": "stdout",
     "output_type": "stream",
     "text": [
      "Imprimiendo número pares e impares\n",
      "El número 0 es par\n",
      "El número 1 es impar\n",
      "El número 2 es par\n",
      "El número 3 es impar\n",
      "El número 4 es par\n",
      "El número 5 es impar\n",
      "El número 6 es par\n",
      "El número 7 es impar\n",
      "El número 8 es par\n",
      "El número 9 es impar\n"
     ]
    }
   ],
   "source": [
    "print(\"Imprimiendo número pares e impares\")\n",
    "\n",
    "for x in range(0,10):\n",
    "    if x%2 == 0:\n",
    "        print(\"El número \" + str(x) + \" es par\")\n",
    "    else:\n",
    "        print(\"El número \" + str(x) + \" es impar\")"
   ]
  },
  {
   "cell_type": "markdown",
   "id": "de8d9093",
   "metadata": {},
   "source": [
    "### Fortaleciendo nuestros conocimientos:\n",
    "\n",
    "- ¿Cuántas veces debería ejecutarse un ciclo - bucle?\n",
    "- ¿Qué características tiene un bucle que se considera infinito?\n",
    "- ¿Ejemplos de la cotidianidad en los que usarias un bucle o ciclo?"
   ]
  },
  {
   "cell_type": "markdown",
   "id": "fd370da1",
   "metadata": {},
   "source": [
    "## ¿Qué son funciones?"
   ]
  },
  {
   "cell_type": "markdown",
   "id": "13daf1e7",
   "metadata": {},
   "source": [
    "Fragmentos de código que permiten ejecutar una funcionalidad, descomponer un problema en algo más simple y corto. Las características que debe tener el fragmento para que sea una función son:\n",
    "\n",
    "- Permite la reutilización del bloque de código\n",
    "- Puede recibir parámetros\n",
    "- Puede devolver un resultado\n",
    "- El código está contenido por def y un nombre de la función  \n",
    "    **def nombre_funcion**\n",
    "- Facilita la lectura del código y lo vuelve más corto"
   ]
  },
  {
   "cell_type": "code",
   "execution_count": 7,
   "id": "1f434df1",
   "metadata": {},
   "outputs": [
    {
     "name": "stdout",
     "output_type": "stream",
     "text": [
      "El resultado de la suma es: 8\n"
     ]
    }
   ],
   "source": [
    "#Declaración de funciones\n",
    "\n",
    "numero1 = 3\n",
    "numero2 = 5\n",
    "def sumar():\n",
    "    resultado = numero1 + numero2\n",
    "    print(\"El resultado de la suma es: \" + str(resultado))\n",
    "\n",
    "    \n",
    "sumar()"
   ]
  },
  {
   "cell_type": "markdown",
   "id": "0d0b233c",
   "metadata": {},
   "source": [
    "## Tipos de funciones\n",
    "\n",
    "Una función puede ser declarada con:\n",
    "\n",
    "- Sin Parámetros, no recibe ningún valor, opera con valores internos o globales del programa\n",
    "- Con parámetros, recibe valores para ser operados al interior de la función. Estos valores pueden ser entregados por otra función"
   ]
  },
  {
   "cell_type": "markdown",
   "id": "0a12ad9e",
   "metadata": {},
   "source": [
    "### Funciones sin parámetros"
   ]
  },
  {
   "cell_type": "code",
   "execution_count": 7,
   "id": "afe7448a",
   "metadata": {},
   "outputs": [
    {
     "name": "stdout",
     "output_type": "stream",
     "text": [
      "Saludar usuario\n",
      "Ingrese el nombre del usuario: Erika\n",
      "Bienvenido: Erika\n"
     ]
    }
   ],
   "source": [
    "print(\"Saludar usuario\")\n",
    "nombre= input(\"Ingrese el nombre del usuario: \")\n",
    "\n",
    "def saludo():\n",
    "    print(\"Bienvenido: \" + nombre)\n",
    "\n",
    "saludo()"
   ]
  },
  {
   "cell_type": "markdown",
   "id": "45740309",
   "metadata": {},
   "source": [
    "### Funciones con parámetros"
   ]
  },
  {
   "cell_type": "code",
   "execution_count": 10,
   "id": "2b1e5860",
   "metadata": {},
   "outputs": [
    {
     "name": "stdout",
     "output_type": "stream",
     "text": [
      "Calcular la edad de un usuario\n",
      "Ingrese fecha de naciemiento en formato dd/mm/yyyy: 25/06/1994\n",
      "La edad es:  27\n"
     ]
    }
   ],
   "source": [
    "from datetime import datetime\n",
    "\n",
    "def obtener_edad(fecha):\n",
    "    nacimiento = datetime.strptime(fecha, '%d/%m/%Y').date()\n",
    "    hoy = datetime.today()\n",
    "    edad = hoy.year - nacimiento.year - ((hoy.month, hoy.day) < (nacimiento.month, nacimiento.day))\n",
    "    print(\"La edad es: \", edad)\n",
    "    \n",
    "\n",
    "print(\"Calcular la edad de un usuario\")\n",
    "fecha= input(\"Ingrese fecha de naciemiento en formato dd/mm/yyyy: \")\n",
    "obtener_edad(fecha)\n",
    "    "
   ]
  },
  {
   "cell_type": "markdown",
   "id": "0ade3810",
   "metadata": {},
   "source": [
    "### Funciones con retorno"
   ]
  },
  {
   "cell_type": "code",
   "execution_count": 19,
   "id": "4e84fd65",
   "metadata": {},
   "outputs": [
    {
     "name": "stdout",
     "output_type": "stream",
     "text": [
      "Los puntos obtenidos son: 11\n"
     ]
    }
   ],
   "source": [
    "def calcular_puntos(puntos):\n",
    "    return puntos + 1\n",
    "      \n",
    "\n",
    "puntuacion = calcular_puntos(10)\n",
    "print(\"Los puntos obtenidos son: \" + str(puntuacion))\n",
    "    "
   ]
  },
  {
   "cell_type": "markdown",
   "id": "49f751e6",
   "metadata": {},
   "source": [
    "### Fortaleciendo nuestros conocimientos:\n",
    "\n",
    "- ¿Cuando y cómo se ejecuta una función?\n",
    "- Nombre tres características de las funciones\n",
    "- Diferencias entre una función que retorna o devuelve un valor con una que no\n",
    "- Cuando usar una función con parámetros, sin parametros y con retorno"
   ]
  },
  {
   "cell_type": "markdown",
   "id": "051c0af3",
   "metadata": {},
   "source": [
    "## Ejercicios prácticos:\n",
    "\n",
    "1. Mejore la función sumar, reutilicela para el cálculo de un producto + iva, sumar el valor de dos productos y sacar el promedio de dos notas\n",
    "2. Mejore la función calcular_puntos, sume puntos al usuario mientras el ataque sea > 0. Mientras el ataque disminuye el puntaje aumenta. El puntaje aumenta 5 puntos si ataque fue \"completo\", 3 puntos si fue \"medio y ninguno si \"fallo\""
   ]
  },
  {
   "cell_type": "markdown",
   "id": "d1991def",
   "metadata": {},
   "source": [
    "## Continuación ejercicios clase 6"
   ]
  },
  {
   "cell_type": "markdown",
   "id": "54567f9c",
   "metadata": {},
   "source": [
    "Link clase 6: https://github.com/ejisselgb/Introduccion-a-la-programacion/blob/master/Clase%206/Clase%206%20-%20Lógica%20Booleana.ipynb"
   ]
  }
 ],
 "metadata": {
  "kernelspec": {
   "display_name": "Python 3 (ipykernel)",
   "language": "python",
   "name": "python3"
  },
  "language_info": {
   "codemirror_mode": {
    "name": "ipython",
    "version": 3
   },
   "file_extension": ".py",
   "mimetype": "text/x-python",
   "name": "python",
   "nbconvert_exporter": "python",
   "pygments_lexer": "ipython3",
   "version": "3.9.6"
  }
 },
 "nbformat": 4,
 "nbformat_minor": 5
}
