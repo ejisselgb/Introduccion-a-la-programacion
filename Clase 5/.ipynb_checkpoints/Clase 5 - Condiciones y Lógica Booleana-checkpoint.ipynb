{
 "cells": [
  {
   "cell_type": "markdown",
   "id": "f8d2c3bf",
   "metadata": {},
   "source": [
    "# Condiciones y Lógica Booleana"
   ]
  },
  {
   "cell_type": "markdown",
   "id": "54dd69d8",
   "metadata": {},
   "source": [
    "## Contenido de la clase\n",
    "\n",
    "- Revisión y continuación ejercicios prácticos clase 4\n",
    "- Definición de condiciones\n",
    "- Tipos de condiciones (IF - ELIF - ELSE / Switch - Case)\n",
    "- Introducción a la lógica booleana\n",
    "- Creando tablas de verdad"
   ]
  },
  {
   "cell_type": "markdown",
   "id": "66cab45f",
   "metadata": {},
   "source": [
    "### ¿Qué son las condiciones?"
   ]
  },
  {
   "cell_type": "markdown",
   "id": "1c160cba",
   "metadata": {},
   "source": [
    "Instrucciones que permiten tomas decisiones tanto de la funcionalidad del programa, como del bloque de código a ejecutar.  \n",
    "Las condiciones se conforman de la parte que se ejecuta si se cumple la condición y de lo que ocurre en el caso contrario."
   ]
  },
  {
   "cell_type": "markdown",
   "id": "73447709",
   "metadata": {},
   "source": [
    "La declaración de las condiciones en muy similar en todos los lenguajes, pues se utiliza el if o el switch-case con el mismo propósito en todos. Sin embargo, cambia su escritura a nivel de sintaxis, esto teniendo en cuenta que en python un bloque de código se forma por tabulación y no por llaves. Ejemplo: "
   ]
  },
  {
   "cell_type": "raw",
   "id": "14f6f1ea",
   "metadata": {},
   "source": [
    "//Código en otro lenguaje\n",
    "\n",
    "numero = 10\n",
    "\n",
    "if(numero == 2){\n",
    "\n",
    "    //bloque de código aquí\n",
    "}"
   ]
  },
  {
   "cell_type": "markdown",
   "id": "0a8ee673",
   "metadata": {},
   "source": [
    "Código en Python"
   ]
  },
  {
   "cell_type": "code",
   "execution_count": 3,
   "id": "6ef83c8d",
   "metadata": {},
   "outputs": [
    {
     "name": "stdout",
     "output_type": "stream",
     "text": [
      "El número es 2\n"
     ]
    }
   ],
   "source": [
    "numero = 2\n",
    "\n",
    "if numero == 2:\n",
    "    print(\"El número es 2\")"
   ]
  },
  {
   "cell_type": "markdown",
   "id": "59b8707c",
   "metadata": {},
   "source": [
    "### Condicional IF"
   ]
  },
  {
   "cell_type": "markdown",
   "id": "5dcdebf3",
   "metadata": {},
   "source": [
    "Nos permite validar que un datos del programa, cumpla con el valor esperado."
   ]
  },
  {
   "cell_type": "code",
   "execution_count": 7,
   "id": "680b454f",
   "metadata": {},
   "outputs": [
    {
     "name": "stdout",
     "output_type": "stream",
     "text": [
      "Gane el curso de Programación\n"
     ]
    }
   ],
   "source": [
    "nombre_curso = \"Programación\"\n",
    "nota_final = 4.5\n",
    "\n",
    "if nota_final >= 3.0 :\n",
    "    print(\"Gane el curso de \" + nombre_curso)"
   ]
  },
  {
   "cell_type": "markdown",
   "id": "9a9d110d",
   "metadata": {},
   "source": [
    "### Condicional ELSE"
   ]
  },
  {
   "cell_type": "markdown",
   "id": "9919e245",
   "metadata": {},
   "source": [
    "Permite ejecutar un bloque de código en caso de que la condición contenida en el IF no se haya ejecutado"
   ]
  },
  {
   "cell_type": "code",
   "execution_count": 17,
   "id": "a238e060",
   "metadata": {},
   "outputs": [
    {
     "name": "stdout",
     "output_type": "stream",
     "text": [
      "NO gane el curso de Programación\n"
     ]
    }
   ],
   "source": [
    "nombre_curso = \"Programación\"\n",
    "nota_final = 2.9\n",
    "\n",
    "if nota_final >= 3.0 :\n",
    "    print(\"Gane el curso de \" + nombre_curso)\n",
    "else:\n",
    "    print(\"NO gane el curso de \" + nombre_curso)"
   ]
  },
  {
   "cell_type": "markdown",
   "id": "0632b9ce",
   "metadata": {},
   "source": [
    "### Condicional ELIF"
   ]
  },
  {
   "cell_type": "markdown",
   "id": "ffd1bde3",
   "metadata": {},
   "source": [
    "Permite agregar otra sentencia para validar en caso de que el IF no se cumpla. Se ejecuta previamente al IF y se pueden tener multiples sentencias anidadas"
   ]
  },
  {
   "cell_type": "code",
   "execution_count": 18,
   "id": "e8682f55",
   "metadata": {},
   "outputs": [
    {
     "name": "stdout",
     "output_type": "stream",
     "text": [
      "Avanzar vehículo\n"
     ]
    }
   ],
   "source": [
    "semaforo_color = \"verde\"\n",
    "\n",
    "if semaforo_color == \"rojo\":\n",
    "    print(\"Detener el vehículo\")\n",
    "elif semaforo_color == \"amarillo\":\n",
    "    print(\"Precaución detener vehículo\")\n",
    "else:\n",
    "    print(\"Avanzar vehículo\")"
   ]
  },
  {
   "cell_type": "markdown",
   "id": "dfc23d3f",
   "metadata": {},
   "source": [
    "### Condicional Switch - Case"
   ]
  },
  {
   "cell_type": "markdown",
   "id": "0129e49a",
   "metadata": {},
   "source": [
    "Este condicional permite crear una estructura que evalúa más de un caso para un dato de entrada. Consta de la opción a evaluar, caso y bloque de código según este se cumplea y opción default para el caso en que ningún caso se cumpla.  \n",
    "\n",
    "Ejemplo:"
   ]
  },
  {
   "cell_type": "raw",
   "id": "1aeb811b",
   "metadata": {},
   "source": [
    "int opcion=2;\n",
    "\n",
    "        switch (opcion){\n",
    "\n",
    "            case 1:{\n",
    "\n",
    "                System.out.println(\"Usted eligió la opcion 1.\");\n",
    "\n",
    "                break;\n",
    "\n",
    "            }\n",
    "\n",
    "            case 2:{\n",
    "\n",
    "                System.out.println(\"Usted eligió la opcion 2.\");\n",
    "\n",
    "                break;\n",
    "\n",
    "            }\n",
    "\n",
    "            case 3:{\n",
    "\n",
    "                System.out.println(\"Usted eligió la opcion 3.\");\n",
    "\n",
    "                break;\n",
    "\n",
    "            }\n",
    "\n",
    "            default: {\n",
    "\n",
    "                System.out.println(\"Opcion incorrecta\");\n",
    "\n",
    "            }\n",
    "\n",
    "      "
   ]
  },
  {
   "cell_type": "markdown",
   "id": "8934315c",
   "metadata": {},
   "source": [
    "En el caso del lenguaje de programación Python, este no cuenta con la sentencia Switch - case. Sin embargo se utiliza if - elif - else para simularlo"
   ]
  },
  {
   "cell_type": "code",
   "execution_count": 2,
   "id": "59e02336",
   "metadata": {},
   "outputs": [
    {
     "name": "stdout",
     "output_type": "stream",
     "text": [
      "Usted eligió la opción 2\n"
     ]
    }
   ],
   "source": [
    "opcion=2\n",
    "\n",
    "if(opcion == 1):\n",
    "    print(\"Usted eligió la opción 1\")\n",
    "elif(opcion == 2):\n",
    "    print(\"Usted eligió la opción 2\")\n",
    "elif(opcion == 3):\n",
    "    print(\"Usted eligió la opción 3\")\n",
    "else:\n",
    "    print(\"Opción incorrecta\")\n"
   ]
  },
  {
   "cell_type": "markdown",
   "id": "753ada36",
   "metadata": {},
   "source": [
    "### Diferencias entre Switch-case y if-else"
   ]
  },
  {
   "cell_type": "markdown",
   "id": "fda0a1ff",
   "metadata": {},
   "source": [
    "Un condicional if permite validar si el dato o la sentencia evaluada se cumple o no (falso o verdadero), mientras que switch permite comparar el dato con un conjunto de valores ya definidos y determinar si se cumple el valor esperado.  \n",
    "El condicional switch funciona como un tipo de interruptor, mientras que un condicional if permite comprobar condiciones complejas."
   ]
  },
  {
   "cell_type": "markdown",
   "id": "37606ec7",
   "metadata": {},
   "source": [
    "### Recordemos los operadores que podemos usar en python para crear nuestras sentencias"
   ]
  },
  {
   "cell_type": "markdown",
   "id": "71ad3918",
   "metadata": {},
   "source": [
    "Suma: +  \n",
    "Resta: -  \n",
    "Multiplicación: *  \n",
    "División: /  \n",
    "Division entera (cociente): //  \n",
    "Modulo (residuo de la división): %  \n",
    "Exponenciación: **  \n"
   ]
  },
  {
   "cell_type": "markdown",
   "id": "c5c6edcd",
   "metadata": {},
   "source": [
    "### Usando operadores en nuestras sentencias del coondicional if"
   ]
  },
  {
   "cell_type": "code",
   "execution_count": 20,
   "id": "51151e85",
   "metadata": {},
   "outputs": [
    {
     "name": "stdout",
     "output_type": "stream",
     "text": [
      "Ingrese el número 1 10\n",
      "Ingrese el número 2 2\n",
      "Resultado de la suma  12\n",
      "El resultado de la suma es un número par\n",
      "Resultado de la división entera  5\n",
      "Resultado de la division  5.0\n",
      "El resultado de la exponenciación  144\n"
     ]
    }
   ],
   "source": [
    "numero1 = input(\"Ingrese el número 1 \")\n",
    "numero2 = input(\"Ingrese el número 2 \")\n",
    "\n",
    "numero1 = int(numero1)\n",
    "numero2 = int(numero2)\n",
    "\n",
    "suma = numero1 + numero2\n",
    "\n",
    "print(\"Resultado de la suma \", suma)\n",
    "\n",
    "if suma % 2 == 0:\n",
    "    print(\"El resultado de la suma es un número par\")\n",
    "else:\n",
    "    print(\"El resultado de la suma es un número impar\")\n",
    "    \n",
    "division_entera = numero1 // numero2\n",
    "\n",
    "print(\"Resultado de la división entera \", division_entera)\n",
    "\n",
    "division = numero1 / numero2\n",
    "\n",
    "print(\"Resultado de la division \", division)\n",
    "\n",
    "exponenciacion = suma**2\n",
    "\n",
    "\n",
    "print(\"El resultado de la exponenciación \", exponenciacion)\n",
    "\n",
    "\n"
   ]
  },
  {
   "cell_type": "markdown",
   "id": "e1387f69",
   "metadata": {},
   "source": [
    "### Validemos nuestros conocimientos en condicionales"
   ]
  },
  {
   "cell_type": "markdown",
   "id": "a6e94d0c",
   "metadata": {},
   "source": [
    "- ¿Qué ocurre si una condición en nuestro if no se cumple?\n",
    "- ¿Cómo crear un condicional switch en Python?\n",
    "- ¿Qué ocurre si no se agrega un else al condicional?\n",
    "- ¿En qué casos debería agregar un elif?"
   ]
  },
  {
   "cell_type": "markdown",
   "id": "aaf992a0",
   "metadata": {},
   "source": [
    "### Lógica"
   ]
  },
  {
   "cell_type": "markdown",
   "id": "9cb09c38",
   "metadata": {},
   "source": [
    "Es la disposición que tenemos los humanos para pensar de forma coherente y estructurada. Permite también verificar si un pensamiento es correcto o incorrecto.\n",
    "\n",
    "La lógica en matemáticas se encarga de estudiar procedimientos para distinguir si un razonamiento es correcto o incorrecto."
   ]
  },
  {
   "cell_type": "markdown",
   "id": "71c90e2d",
   "metadata": {},
   "source": [
    "### Introducción a la Algebra de Boole y Lógica Proposicional "
   ]
  },
  {
   "cell_type": "markdown",
   "id": "e2c99a8a",
   "metadata": {},
   "source": [
    "La algebra de Boole parte de la herramienta matemática planteada por George Boole en el año 1815, luego, en el año 1938, fue posible modelar sistemas digitales a partir de lo conocido como álgebra de Boole.  \n",
    "\n",
    "Esto permite a los sistemas distiguir entre un acción o evento, teniendo en cuenta si un argumento o sentencia se cumple, es correcta o incorrecta. Del álgebra de Boole parte la lógica proposional, la cual permite transformar expresiones o enunciados de menor complejidad a unas de mayor complejidad "
   ]
  },
  {
   "cell_type": "markdown",
   "id": "08103666",
   "metadata": {},
   "source": [
    "En lógica al enunciado se le conoce como **premisa/proposición** por lo que siempre tendran un valor de verdad, es decir siempre se podrá decir si esa premisa es falsa o verdadera. "
   ]
  },
  {
   "cell_type": "markdown",
   "id": "59bb9f54",
   "metadata": {},
   "source": [
    "#### Proposición / Premisas simples\n",
    "\n",
    "- 10 es mayor que 20\n",
    "- El idioma de Colombia es el Castellano\n",
    "- La semana tiene 7 días"
   ]
  },
  {
   "cell_type": "markdown",
   "id": "00362032",
   "metadata": {},
   "source": [
    "#### Premisa compuesta verdadera\n",
    "\n",
    "1. Todas las aves tienen pico\n",
    "2. Una gallina es un ave\n",
    "3. Todas las gallinas tiene pico"
   ]
  },
  {
   "cell_type": "markdown",
   "id": "10089771",
   "metadata": {},
   "source": [
    "#### Premisa compuesta falsa\n",
    "\n",
    "1. Algunos mamíferos puede respirar bajo el agua\n",
    "2. Las ballenas son mamíferos\n",
    "3. Todas las ballenas puede respirar bajo el agua"
   ]
  },
  {
   "cell_type": "markdown",
   "id": "9ba6728d",
   "metadata": {},
   "source": [
    "Las premisas/proposiciones:\n",
    "\n",
    "- Tienen un solo valor de verdad, no dan paso a la generación de incertidumbre\n",
    "- Son claras y no dan paso a ambigüedades\n",
    "- La combinación de preposiciones da paso a los **Operadores Lógicos**"
   ]
  },
  {
   "cell_type": "markdown",
   "id": "d4ab315b",
   "metadata": {},
   "source": [
    "### Construyendo premisas\n",
    "\n",
    "Diseña 3 premisas con conclusiones ya sean falsas o verdaderas"
   ]
  },
  {
   "cell_type": "markdown",
   "id": "957a08ac",
   "metadata": {},
   "source": [
    "### Tablas de verdad y operadores lógicos (operadores binarios)"
   ]
  },
  {
   "cell_type": "markdown",
   "id": "21247242",
   "metadata": {},
   "source": [
    "#### Operador Binario OR\n",
    "\n",
    "Un valor de la expresión debe ser Verdad para que sea Verdadera. A un valor verdadero en el código lo conocemos como TRUE\n",
    "\n",
    "p **OR** q -> r\n",
    "\n",
    "| p | q | OR | r |\n",
    "|----| --- | -- | ---|\n",
    "| True | True | --> | True |  \n",
    "| True | False | --> | True |\n",
    "| False | True | --> | True |\n",
    "| False | False | --> | False |"
   ]
  },
  {
   "cell_type": "code",
   "execution_count": 22,
   "id": "933359ea",
   "metadata": {},
   "outputs": [
    {
     "data": {
      "text/plain": [
       "True"
      ]
     },
     "execution_count": 22,
     "metadata": {},
     "output_type": "execute_result"
    }
   ],
   "source": [
    "True or False"
   ]
  },
  {
   "cell_type": "code",
   "execution_count": 23,
   "id": "2f0481ae",
   "metadata": {},
   "outputs": [
    {
     "data": {
      "text/plain": [
       "False"
      ]
     },
     "execution_count": 23,
     "metadata": {},
     "output_type": "execute_result"
    }
   ],
   "source": [
    "False or False"
   ]
  },
  {
   "cell_type": "markdown",
   "id": "fbfff523",
   "metadata": {},
   "source": [
    "**Ejemplo en enunciado**\n",
    "\n",
    "\"Me veré la película si no tengo clase **OR** si no tengo tarea\""
   ]
  },
  {
   "cell_type": "markdown",
   "id": "23f2b561",
   "metadata": {},
   "source": [
    "#### Operador Binario AND"
   ]
  },
  {
   "cell_type": "markdown",
   "id": "e0c9aefa",
   "metadata": {},
   "source": [
    "Ambos valores de la expresión deben ser verdad para que esta sea Verdadera (TRUE)\n",
    "\n",
    "p **AND** q -> r\n",
    "\n",
    "| p | q |AND | r |\n",
    "|----| --- | --- | ---|\n",
    "| True | True | --> | True |  \n",
    "| True | False | --> | False |\n",
    "| False | True | --> |False |\n",
    "| False | False | --> | False |"
   ]
  },
  {
   "cell_type": "code",
   "execution_count": 24,
   "id": "64b0bcc9",
   "metadata": {},
   "outputs": [
    {
     "data": {
      "text/plain": [
       "True"
      ]
     },
     "execution_count": 24,
     "metadata": {},
     "output_type": "execute_result"
    }
   ],
   "source": [
    "True and True"
   ]
  },
  {
   "cell_type": "code",
   "execution_count": 25,
   "id": "4748f02b",
   "metadata": {},
   "outputs": [
    {
     "data": {
      "text/plain": [
       "False"
      ]
     },
     "execution_count": 25,
     "metadata": {},
     "output_type": "execute_result"
    }
   ],
   "source": [
    "True and False"
   ]
  },
  {
   "cell_type": "markdown",
   "id": "9352f618",
   "metadata": {},
   "source": [
    "**Ejemplo en enunciado**\n",
    "\n",
    "\"Sí me levanto tarde **AND** me deja el bus, llego tarde a clase\""
   ]
  },
  {
   "cell_type": "markdown",
   "id": "7043c5f0",
   "metadata": {},
   "source": [
    "#### Operador Binario NOT\n",
    "\n",
    "\n"
   ]
  },
  {
   "cell_type": "markdown",
   "id": "432c2984",
   "metadata": {},
   "source": [
    "Este operador cambia el valor de la expresión por su opuesto o complemento. Es un operador unario, lo que significa que lleva a cabo su acción sobre un único operando."
   ]
  },
  {
   "cell_type": "markdown",
   "id": "4aa9be1c",
   "metadata": {},
   "source": [
    "**NOT** p -> r\n",
    "\n",
    "| p | NOT| r |\n",
    "|----| --- | ---|\n",
    "| True | --> | False |  \n",
    "| False | --> | True |"
   ]
  },
  {
   "cell_type": "code",
   "execution_count": 26,
   "id": "96974d87",
   "metadata": {},
   "outputs": [
    {
     "data": {
      "text/plain": [
       "False"
      ]
     },
     "execution_count": 26,
     "metadata": {},
     "output_type": "execute_result"
    }
   ],
   "source": [
    "not True"
   ]
  },
  {
   "cell_type": "code",
   "execution_count": 27,
   "id": "1a75b9ae",
   "metadata": {},
   "outputs": [
    {
     "data": {
      "text/plain": [
       "True"
      ]
     },
     "execution_count": 27,
     "metadata": {},
     "output_type": "execute_result"
    }
   ],
   "source": [
    "not False"
   ]
  },
  {
   "cell_type": "markdown",
   "id": "a92a67b6",
   "metadata": {},
   "source": [
    "**Ejemplo en enunciado**\n",
    "\n",
    "\"Si **NOT** pago mi suscripcion a Netflix, entonces se bloquea mi acceso a la cuenta\""
   ]
  },
  {
   "cell_type": "markdown",
   "id": "59820fd0",
   "metadata": {},
   "source": [
    "#### Operador Binario XOR"
   ]
  },
  {
   "cell_type": "markdown",
   "id": "52deba1d",
   "metadata": {},
   "source": [
    "Este operador no es muy utilizado, sin embargo su uso se basa en que un valor de la expresión debe ser diferente para que sea Verdadera (True)"
   ]
  },
  {
   "cell_type": "markdown",
   "id": "a851c76c",
   "metadata": {},
   "source": [
    "p **XOR** q -> r\n",
    "\n",
    "| p | q | XOR | r |\n",
    "|----| --- | --- | ---|\n",
    "| True | True | --> | False |  \n",
    "| True | False | --> | True |\n",
    "| False | True | --> | True |\n",
    "| False | False | --> | False |"
   ]
  },
  {
   "cell_type": "markdown",
   "id": "f6b042e7",
   "metadata": {},
   "source": [
    "Python no tiene XOR como palabra reservada, para este caso se debe usar el operador ^"
   ]
  },
  {
   "cell_type": "code",
   "execution_count": 28,
   "id": "e5f20968",
   "metadata": {},
   "outputs": [
    {
     "data": {
      "text/plain": [
       "True"
      ]
     },
     "execution_count": 28,
     "metadata": {},
     "output_type": "execute_result"
    }
   ],
   "source": [
    "True ^ False"
   ]
  },
  {
   "cell_type": "code",
   "execution_count": 31,
   "id": "ec1b89f7",
   "metadata": {},
   "outputs": [
    {
     "data": {
      "text/plain": [
       "False"
      ]
     },
     "execution_count": 31,
     "metadata": {},
     "output_type": "execute_result"
    }
   ],
   "source": [
    "True ^ True"
   ]
  },
  {
   "cell_type": "markdown",
   "id": "81d8d777",
   "metadata": {},
   "source": [
    "**Ejemplo en enunciado**  \n",
    "\n",
    "\"Hoy lloverá **XOR** hará sol\""
   ]
  },
  {
   "cell_type": "markdown",
   "id": "f93cc52b",
   "metadata": {},
   "source": [
    "#### Importante:\n",
    "\n",
    "Las preposiciones se resuelven en el siguiente orden:\n",
    "\n",
    "- Primero los paréntesis\n",
    "- Luego se resuelve la negación\n",
    "- Luego se resuleve la operación\n",
    "- Por último se realiza el entonces (-->)"
   ]
  },
  {
   "cell_type": "markdown",
   "id": "f3aca14a",
   "metadata": {},
   "source": [
    "### Creando tablas de verdad"
   ]
  },
  {
   "cell_type": "markdown",
   "id": "eef015bd",
   "metadata": {},
   "source": [
    "Para el ejercicio utilizaremos la representación en simbolos de los operadores lógicos\n",
    "\n",
    "1. ^ AND (Conjución)\n",
    "2. V OR (Disyunción) \n",
    "4. ¬ / ~ NOT (Negación)\n",
    "5. -> Entonces (Condicional)\n",
    "\n",
    "\n",
    "Ejemplo:\n",
    "    \n",
    "    ¬(¬p^q)\n",
    "    \n",
    "    \n",
    "| p | q | ¬p | ¬p^q | ¬(¬p^q) |\n",
    "|----| --- | --- | --- | --- |\n",
    "| True | True | False | False |  True |\n",
    "| True | False | False | False |  True |\n",
    "| False | True | True | True |  False |\n",
    "| False | False | True | False |  True |\n",
    "    \n",
    "    \n",
    "    \n",
    "    \n",
    "    \n",
    "    "
   ]
  },
  {
   "cell_type": "markdown",
   "id": "23b0ceb3",
   "metadata": {},
   "source": [
    "1. (¬p)^(¬q)\n",
    "2. (p^q) v q\n",
    "3. (p^q) ^ (pvq)\n",
    "4. ¬(pv¬q) v p\n",
    "5. ¬(pv¬q) v (p^r)"
   ]
  }
 ],
 "metadata": {
  "kernelspec": {
   "display_name": "Python 3 (ipykernel)",
   "language": "python",
   "name": "python3"
  },
  "language_info": {
   "codemirror_mode": {
    "name": "ipython",
    "version": 3
   },
   "file_extension": ".py",
   "mimetype": "text/x-python",
   "name": "python",
   "nbconvert_exporter": "python",
   "pygments_lexer": "ipython3",
   "version": "3.9.6"
  }
 },
 "nbformat": 4,
 "nbformat_minor": 5
}
