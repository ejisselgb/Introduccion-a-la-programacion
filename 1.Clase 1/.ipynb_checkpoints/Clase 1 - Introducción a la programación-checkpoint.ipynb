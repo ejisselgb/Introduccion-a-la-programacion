{
 "cells": [
  {
   "cell_type": "markdown",
   "id": "proprietary-receiver",
   "metadata": {},
   "source": [
    "# INTRODUCCIÓN A LA PROGRAMACIÓN"
   ]
  },
  {
   "cell_type": "markdown",
   "id": "tamil-eating",
   "metadata": {},
   "source": [
    "- Profesora: Erika Jissel Gutiérrez Beltrán\n",
    "- Correo: ejgutierrb@eafit.edu.co\n"
   ]
  },
  {
   "cell_type": "markdown",
   "id": "filled-concentrate",
   "metadata": {},
   "source": [
    "# CRONOGRAMA DE ACTIVIDADES"
   ]
  },
  {
   "cell_type": "markdown",
   "id": "manufactured-contributor",
   "metadata": {},
   "source": [
    "1. Inicio de clases generales: 19 de julio\n",
    "2. Fin de clases generales: 20 de noviembre\n",
    "3. Supletorio de la evaluación final: 29 noviembre de 8 a 10 am\n",
    "4. Asamblea general de carreras: 8 de septiembre\n",
    "5. Limite reporte 70% notas: 14 de noviembre\n",
    "6. Cancelación materias: 14 de noviembre\n",
    "7. Entrega notas 100%: 30 de noviembre\n",
    "8. Inicio clase programación: 22 de julio\n",
    "9. Fin de clase programación: 18 de noviembre"
   ]
  },
  {
   "cell_type": "markdown",
   "id": "98ed26a7",
   "metadata": {},
   "source": [
    "# CONTENIDO DEL CURSO"
   ]
  },
  {
   "cell_type": "markdown",
   "id": "ac35140d",
   "metadata": {},
   "source": [
    "- Unidad 1: Algorimos y pseudocódigo \n",
    "- Unidad 2: Introducción a los algoritmos y la lógica de programación\n",
    "- Unidad 3: Computadores, representación y almacenamiento de datos\n",
    "- Unidad 4: Lenguajes y herramientas de programación "
   ]
  },
  {
   "cell_type": "markdown",
   "id": "c8c95fd5",
   "metadata": {},
   "source": [
    "# CONTENIDO DEL CURSO"
   ]
  },
  {
   "cell_type": "markdown",
   "id": "069aec4b",
   "metadata": {},
   "source": [
    "- Clase 1: Presentación del curso e introducción (22 de julio)\n",
    "- Clase 2: Pseudocódigo y diagramas de flujo (29 de julio)\n",
    "- Clase 3: Introducción a python, mi primer programa (5 de agosto)\n",
    "- Clase 4: Tipos y condicionales (12 de agosto)\n",
    "- Clase 5: Lógica booleana - Entrega Trabajo 1 (19 de agosto)\n",
    "- Clase 6: Lógica boolaena - Examen 1 (26 de agosto)\n",
    "- Clase 7: Ciclos y patrones (2 de septiembre)\n",
    "- Clase 8: Abstracción y patrones (9 de septiembre)\n",
    "- Clase 9: Operaciones y estructuras de datos - Entrega de trabajo 2 (16 de septiembre)\n",
    "- Clase 10: Reúso de código - Funciones y modularidad (23 de septiembre)\n",
    "- Clase 11: Reúso de código - Examen 2 (30 de septiembre)\n",
    "- Clase 12: Programación orientada a objetos (7 de octubre)\n",
    "- Clase 13: Programación orientada a objetos (14 de octubre)\n",
    "- Clase 14: Práctica 1 (21 de octubre)\n",
    "- Clase 15: Práctica 2 (28 de octubre)\n",
    "- Clase 16: Primeros pasos con R (4 de noviembre)\n",
    "- Clase 17: Entrega trabajo final y sustentación (11 de noviembre)\n",
    "- Clase 18: Examen 3 (18 de noviembre)\n"
   ]
  },
  {
   "cell_type": "markdown",
   "id": "de3f9c9f",
   "metadata": {},
   "source": [
    "# LENGUAJES Y HERRAMIENTAS"
   ]
  },
  {
   "cell_type": "markdown",
   "id": "fb0862c4",
   "metadata": {},
   "source": [
    "- Lenguaje de programación: Python / R\n",
    "- Link de consola virtual: https://replit.com/@ErikaG1/Introduccion-a-la-programacion#.replit\n",
    "- Github\n"
   ]
  },
  {
   "cell_type": "markdown",
   "id": "8fdfdd24",
   "metadata": {},
   "source": [
    "# ENTREGABLES"
   ]
  },
  {
   "cell_type": "markdown",
   "id": "445ae399",
   "metadata": {},
   "source": [
    "- Corte 1: (Inicio: 22 de julio - Fin: 26 de agosto) 30%\n",
    "\n",
    "1. Examen 1: 10%\n",
    "2. Trabajo 1: 20%\n",
    "\n"
   ]
  },
  {
   "cell_type": "markdown",
   "id": "41d2a4e0",
   "metadata": {},
   "source": [
    "- Corte 2: (Inicio: 2 de septiembre - Fin: 30 de septiembre) 30%\n",
    "\n",
    "1. Examen 2: 10%\n",
    "2. Trabajo 2: 20%"
   ]
  },
  {
   "cell_type": "markdown",
   "id": "d5e201f5",
   "metadata": {},
   "source": [
    "\n",
    "- Corte 3: (Inicio: 7 de octubre - Fin: 18 de noviembre) 40%\n",
    "\n",
    "1. Examen 3 - final: 10%\n",
    "2. Trabajo 3 - final: 20%\n",
    "3. Sustentación: 10%"
   ]
  },
  {
   "cell_type": "markdown",
   "id": "66591617",
   "metadata": {},
   "source": [
    "# COMPROMISOS DEL CURSO"
   ]
  },
  {
   "cell_type": "markdown",
   "id": "b523c33e",
   "metadata": {},
   "source": [
    "- Reportar a tiempo los problemas presentados con los temas vistos en clases\n",
    "- Enfocarse en la clase, evitar distractores para así comprender más fácil los temas propuestos\n",
    "- Preguntar siempre ante cualquier inquietud\n",
    "- Saber escuchar"
   ]
  }
 ],
 "metadata": {
  "kernelspec": {
   "display_name": "Python 3 (ipykernel)",
   "language": "python",
   "name": "python3"
  },
  "language_info": {
   "codemirror_mode": {
    "name": "ipython",
    "version": 3
   },
   "file_extension": ".py",
   "mimetype": "text/x-python",
   "name": "python",
   "nbconvert_exporter": "python",
   "pygments_lexer": "ipython3",
   "version": "3.9.6"
  }
 },
 "nbformat": 4,
 "nbformat_minor": 5
}
