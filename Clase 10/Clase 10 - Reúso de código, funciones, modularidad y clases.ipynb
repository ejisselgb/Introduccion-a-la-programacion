{
 "cells": [
  {
   "cell_type": "markdown",
   "id": "8cfd1789",
   "metadata": {},
   "source": [
    "# Reúso de código, funciones, modularidad y clases"
   ]
  },
  {
   "cell_type": "markdown",
   "id": "2b77d7be",
   "metadata": {},
   "source": [
    "## Contenido de la clase\n",
    "\n",
    "- Reúso de código\n",
    "- ¿Qué son las clases?\n",
    "- Programación orientada a objetos\n",
    "- Ejemplo de construcción de clases\n",
    "- Casos prácticos con clases\n",
    "\n",
    "\n",
    "\n"
   ]
  },
  {
   "cell_type": "markdown",
   "id": "388d91e3",
   "metadata": {},
   "source": [
    "## Antes de continuar, recordemos conceptos.\n",
    "\n",
    "- Describir los tipos de variables\n",
    "- Describir los tipos de estructuras de datos\n",
    "- Cuando usar una función\n",
    "- Cuando usar una condición\n",
    "- Tipos de condicionales \n",
    "- Como unir condiciones\n",
    "- ¿Alguna duda relacionada a los temas vistos hasta esta clase?, vamos a solucionarlas"
   ]
  },
  {
   "cell_type": "markdown",
   "id": "49c79e09",
   "metadata": {},
   "source": [
    "## Reúso de código"
   ]
  },
  {
   "cell_type": "markdown",
   "id": "9b71179f",
   "metadata": {},
   "source": [
    "Cada día aprendemos nuevos conceptos de programación, lo que nos permite construis programas mucho más largos y complejos. Sin embargo, si no damos manejo a tiempo, nuestro código se volverá dificil de mantener y leer. La posibilidades para la solución de errores serán limitadas. "
   ]
  },
  {
   "cell_type": "markdown",
   "id": "be6dae34",
   "metadata": {},
   "source": [
    "El **reúso de código** nace como una solución a la optimización de nuestros programas, eliminando lineas repetidas, código que no se utiliza y llamando muchas veces bloques de código para llevar a cabo una tarea un número ilimitado de veces.  \n",
    "\n",
    "Todo lo anterior lo conoceremos de ahora en adelante como **MODULARIDAD**, ya que es el concepto que define el trabajo por secciones, fragmentar un programa en pequeñas partes para luego reutilizr cada bloque o módulo, y hacer de estas un programa más grande y complejo.\n",
    "\n",
    "Las ventajas de tener un programa **modular** es que se puede encontrar más facil los errores de un programa muy grande, reutilizar código que puede repetirse muchas veces, ofrecer soluciones sobre un problema en particular y no afectar a todo el programa mientras se soluciona el problema de un solo módulo."
   ]
  },
  {
   "cell_type": "markdown",
   "id": "bf627d03",
   "metadata": {},
   "source": [
    "## Paradigmas de programación\n",
    "\n",
    "Los paradigmas son formas de ver el mundo, donde se considera que son formas de pensar o conceptualizar, dar significado a algo por medio de programas.\n",
    " \n",
    " Algunos paradigmas de programación:\n",
    "\n",
    "- Programación Estructurada: La unidad fundamental son las **Estructuras**.\n",
    "- Programación Orientada a objetos: La unidad fundamental son los **Objetos**.\n",
    "- Programación Funcional: La unidad fundamental son las **Funciones**.\n",
    "- Programación Declarativa: La unidad fundamental son **Reglas** lógicas.\n",
    "- Etc.\n"
   ]
  },
  {
   "cell_type": "markdown",
   "id": "e9b89d3d",
   "metadata": {},
   "source": [
    "## Programación orientada a objetos"
   ]
  },
  {
   "cell_type": "markdown",
   "id": "6220778c",
   "metadata": {},
   "source": [
    "La programación orientada a objetos **POO**, es un paradigma de programación el cual consiste en organizar el código en bloques o unidades específicas, a las que se les conoce como clases. La **POO** es la aproximación más cercana que se tiene en relacion a los objetos de la vida real con los objetos en código.\n",
    "\n",
    "La programación orientada a objetos permite definir las características que tiene un objeto de la realidad como por ejemplo color, tamaño, forma, en variables de un código, permite abstraer y plasmar en un programa lo que se visualiza en el entorno para llevarlo a uno digital. También se posible definir el compartamiento del objeto como si tendrá un sonido en particular, un idioma, si saltará muy alto, volará o correrá a gran velocidad."
   ]
  },
  {
   "cell_type": "markdown",
   "id": "4023bf2e",
   "metadata": {},
   "source": [
    "Una de las ventajas de la orientación a objetos es que nos permite modelar cosas,situaciones y comportamientos del mundo real de manera más exacta. La orientación a objetos modela las entidades de la vida real como objetos de software que tienen datos asociados (atributos) y pueden realizar ciertas funciones (métodos)."
   ]
  },
  {
   "cell_type": "markdown",
   "id": "d2db72e7",
   "metadata": {},
   "source": [
    "Python es un lenguaje de programación **orientado a objetos**. Esto lo podemos evidenciar cuando hablamos de __atributos y métodos__, además del acceso a algunos elementos y caracterpisticas del objeto de la siguiente manera: `objeto.atributo`\n"
   ]
  },
  {
   "cell_type": "markdown",
   "id": "48b085a2",
   "metadata": {},
   "source": [
    "## ¿Qué son las clases?"
   ]
  },
  {
   "cell_type": "markdown",
   "id": "e49b6eea",
   "metadata": {},
   "source": [
    "Las clases en el lenguaje de programación Python son un conjuunto de variables y funciones, que representan las características y comportamientos de un objeto que más adelante puede ser reutilizado.  \n",
    "\n",
    "Las clases permiten la programación orientada a objetos **POO**"
   ]
  },
  {
   "cell_type": "markdown",
   "id": "f3b32942",
   "metadata": {},
   "source": [
    "### Ejemplo de como guardamos información de manera \"tradicional\"\n",
    "\n",
    "`animal = [\"canino\", \"perro\", 9]`  \n",
    "`especie1 = \"canino\"\n",
    "nombre1 = \"perro\"\n",
    "edad1 = 9`\n"
   ]
  },
  {
   "cell_type": "markdown",
   "id": "d06a41b2",
   "metadata": {},
   "source": [
    "**Ahora**, vamos a analizar la información y vamos a pensar objetos del undo real comparten las mismas características."
   ]
  },
  {
   "cell_type": "markdown",
   "id": "5c3dedd6",
   "metadata": {},
   "source": [
    "## Ejemplo de construcción de clases"
   ]
  },
  {
   "cell_type": "markdown",
   "id": "8635b5ec",
   "metadata": {},
   "source": [
    "### Clase\n",
    "\n",
    "**ANIMAL**  \n",
    "Especie  \n",
    "Nombre  \n",
    "Edad  \n",
    "\n",
    "### Objetos\n",
    "\n",
    "**Objeto animal**  \n",
    "Especie=\"Canis familiaris\"  \n",
    "Nombre=\"Perro\"  \n",
    "Edad=9  "
   ]
  },
  {
   "cell_type": "markdown",
   "id": "de0545b8",
   "metadata": {},
   "source": [
    "## Ejemplo de construcción de clases en Python"
   ]
  },
  {
   "cell_type": "code",
   "execution_count": 1,
   "id": "c10e71ba",
   "metadata": {},
   "outputs": [],
   "source": [
    "class Animal:\n",
    "    def __init__(self, nombre, especie, edad, raza, sexo):\n",
    "        self.nombre = nombre\n",
    "        self.especie = especie\n",
    "        self.edad = edad\n",
    "        self.raza = raza\n",
    "        self.sexo = sexo"
   ]
  },
  {
   "cell_type": "code",
   "execution_count": 5,
   "id": "b81e6d47",
   "metadata": {},
   "outputs": [
    {
     "name": "stdout",
     "output_type": "stream",
     "text": [
      "Animal:  Perro\n",
      "Especie:  Canino\n",
      "Edad:  20\n",
      "Raza:  Criollo\n",
      "sexo:  Macho\n"
     ]
    }
   ],
   "source": [
    "perro = Animal(\"Perro\", \"Canino\", 20, \"Criollo\", \"Macho\")\n",
    "print(\"Animal: \", perro.nombre)\n",
    "print(\"Especie: \", perro.especie)\n",
    "print(\"Edad: \", perro.edad)\n",
    "print(\"Raza: \", perro.raza)\n",
    "print(\"sexo: \", perro.sexo)"
   ]
  },
  {
   "cell_type": "markdown",
   "id": "7c1b4d84",
   "metadata": {},
   "source": [
    "## Casos prácticos"
   ]
  },
  {
   "cell_type": "markdown",
   "id": "b4462721",
   "metadata": {},
   "source": [
    "Para aclarar nuestras ideas, vamos a intentar realizar lo siguientes ejercicios:"
   ]
  },
  {
   "cell_type": "markdown",
   "id": "d05b2ae1",
   "metadata": {},
   "source": [
    "1. Cree una clase `Carro` y otra `Moto` que tengan como atributos el número de ruedas, color, marca y un kilometraje.\n",
    "2. Mejore la clase animal, capture la fecha de nacimiento, vacunas como un arreglo y peso"
   ]
  }
 ],
 "metadata": {
  "kernelspec": {
   "display_name": "Python 3 (ipykernel)",
   "language": "python",
   "name": "python3"
  },
  "language_info": {
   "codemirror_mode": {
    "name": "ipython",
    "version": 3
   },
   "file_extension": ".py",
   "mimetype": "text/x-python",
   "name": "python",
   "nbconvert_exporter": "python",
   "pygments_lexer": "ipython3",
   "version": "3.9.6"
  }
 },
 "nbformat": 4,
 "nbformat_minor": 5
}
